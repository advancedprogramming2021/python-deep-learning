{
 "cells": [
  {
   "cell_type": "markdown",
   "metadata": {},
   "source": [
    "# 1. 函数(Function)"
   ]
  },
  {
   "cell_type": "markdown",
   "metadata": {},
   "source": [
    "函数是一个通用的程序结构部件。直到现在，我们写的代码都是立即运行的。为何使用函数？\n",
    "\n",
    "- 最大化的代码重用和最小化代码冗余\n",
    "      和现代编程语言一样，Python 函数是一种简单的办法去打包逻辑算法，使其能在之后不止一次地使用。函数允许整合以及通用化代码，因为它们允许一处编写多处运行，Python 的函数是这个语言中最基本的组成工具。\n",
    "\n",
    "- 流程的分解\n",
    "      函数可以将复杂系统分割为可管理的不同部分，而每一部分都可独立进行开发。"
   ]
  },
  {
   "cell_type": "markdown",
   "metadata": {},
   "source": [
    "## 1.1 编写函数\n",
    "\n",
    "- def 是可执行的代码\n",
    "      Python 的函数是由 def 语句编写的。不像 C/C++ 这样的编译语言，函数直到 Python 运行了 def 后才存在。在典型的操作中，def 语句在模块文件中编写，并在模块文件第一次被导入的时候生成定义的函数。\n",
    "      \n",
    "- def 创建了一个对象并将其赋值给某一变量名\n",
    "      当运行到 def 语句时，它将会生成一个新的函数对象并将其赋值给这个函数名。就像所有的赋值一样，函数名变成了一个某个函数的引用。\n",
    "\n",
    "- lambda 创建一个对象但将其作为结果返回\n",
    "      也可以用 lambda 表达式创建函数，这功能允许我们把函数定义内联到语法上一条 def 语句不能工作的地方。\n",
    "\n",
    "- return 将一个结果对象发送给调用者\n",
    "      当函数被调用时，其调用者暂停运行直到这个函数完成了它的工作，之后函数才将控制权返回调用者。函数是通过 return 语句将计算得到的值传递给调用者的，返回值成为函数调用的结果。\n",
    "      \n",
    "- global 声明了一个模块级的变量并被赋值\n",
    "      默认情况下，函数中被赋值的对象是这个函数的局部变量，仅在这个函数运行的过程中存在。为了分配一个可以在整个模块中都可以使用的变量名，函数需要在 global 语句中将它列举出来。\n",
    "\n",
    "- nonlocal 声明了将要赋值的一个封闭的函数变量\n",
    "      nonlocal 语句允许一个函数来赋值一条语法封闭的 def 语句的作用域中已有的名称。这就允许封闭的函数作为保留状态的一个地方——当一个函数调用的时候，信息被记住了——而不必使用共享的全局名称。\n",
    "\n",
    "- 函数是通过赋值（对象引用）传递的\n",
    "      参数通过赋值传递给了函数。调用者以及函数通过引用共享对象，但是不需要别名。改变函数中的参数名并不会改变调用者中的变量名，但是改变传递的可变对象可以改变调用者共享的那个对象\n",
    "     \n",
    "- 参数、返回值以及变量类型不是固定的\n",
    "      在函数中并没有类型约束，可以传递任意类型的参数给函数，函数也可以返回任意类型的对象。"
   ]
  },
  {
   "cell_type": "markdown",
   "metadata": {},
   "source": [
    "### def 语句\n",
    "\n",
    "def 语句将创建一个**函数对象**并将其赋值给一个变量名。和所有的多行语句一样，def 包含了首行并有一个代码块跟随其后，这个代码块通常都会缩进，这个代码块就是函数的主体。其一般的格式如下：\n",
    "```python\n",
    "def name(arg1, arg2,...argN):\n",
    "    statements\n",
    "```\n",
    "def 首行定义了函数名，赋值给了函数对象，并在括号中包含了0个或多个参数。\n",
    "\n",
    "函数主体往往都是包含了一条 return 语句，它表示函数调用的结束，并将结果返回至函数调用处。return 语句是可选的，如果没有 return 语句，函数将会在控制流执行完函数主体时结束，并返回 None 对象。\n",
    "\n",
    "```python\n",
    "def name(arg1, arg2,... argN):\n",
    "    ...\n",
    "    return value\n",
    "```"
   ]
  },
  {
   "cell_type": "markdown",
   "metadata": {},
   "source": [
    "### def 语句是实时执行的"
   ]
  },
  {
   "cell_type": "markdown",
   "metadata": {},
   "source": [
    "Python 的 def 语句实际上是一个可执行的语句：当它运行的时候，它创建一个新的函数对象并将其赋值给一个变量名。（Python 中所有语句都是实时运行的，没有像 C/C++ 独立的编译流程） def 可以出现在任一语句可以出现的地方，甚至是嵌套在其它的语句中。例如函数可以通过嵌套在 if 语句中来实现不同的函数定义：\n",
    "```python\n",
    "if test:\n",
    "    def func():               # Define func this way\n",
    "        ...\n",
    "else:\n",
    "    def func():               # Or else this way\n",
    "        ...\n",
    "...\n",
    "func()                        # Call the version selected and built\n",
    "```\n",
    "\n",
    "因为函数定义是实时发生的，所以对于函数名来说并没有什么特别之处，而关键在于函数名所引用的那个对象。\n",
    "```python\n",
    "othername = func               # Assign function object\n",
    "othername()                    # Call func again\n",
    "```"
   ]
  },
  {
   "cell_type": "markdown",
   "metadata": {},
   "source": [
    "## 1.2 第一个例子：乘积\n",
    "\n",
    "### 定义\n",
    "\n",
    "这里定义一个名为 times 的函数，这个函数返回两个参数的乘积。"
   ]
  },
  {
   "cell_type": "code",
   "execution_count": 88,
   "metadata": {},
   "outputs": [],
   "source": [
    "def times(x, y):                # Create and assign function\n",
    "    return x * y                # Body executed when called"
   ]
  },
  {
   "cell_type": "markdown",
   "metadata": {},
   "source": [
    "当 Python 运行到这里并执行了 def 语句时，它将会创建一个新的函数对象，封装这个函数的代码并将这个对象赋值给变量名 times。通常情况下，这样的语句编写在一个模块文件中，当这个文件导入的时候运行。"
   ]
  },
  {
   "cell_type": "code",
   "execution_count": 89,
   "metadata": {},
   "outputs": [
    {
     "data": {
      "text/plain": [
       "function"
      ]
     },
     "execution_count": 89,
     "metadata": {},
     "output_type": "execute_result"
    }
   ],
   "source": [
    "multip = times\n",
    "type(multip)"
   ]
  },
  {
   "cell_type": "markdown",
   "metadata": {},
   "source": [
    "### 调用\n",
    "\n",
    "在 def 运行之后，可以在程序中调用这个函数，调用参数会传递给函数头部的参数名。"
   ]
  },
  {
   "cell_type": "code",
   "execution_count": 90,
   "metadata": {},
   "outputs": [
    {
     "data": {
      "text/plain": [
       "8"
      ]
     },
     "execution_count": 90,
     "metadata": {},
     "output_type": "execute_result"
    }
   ],
   "source": [
    "times(2, 4)                     # Arguments in parentheses"
   ]
  },
  {
   "cell_type": "code",
   "execution_count": 91,
   "metadata": {},
   "outputs": [
    {
     "data": {
      "text/plain": [
       "10"
      ]
     },
     "execution_count": 91,
     "metadata": {},
     "output_type": "execute_result"
    }
   ],
   "source": [
    "multip(2, 5)"
   ]
  },
  {
   "cell_type": "code",
   "execution_count": 92,
   "metadata": {},
   "outputs": [
    {
     "data": {
      "text/plain": [
       "'NiNiNiNi'"
      ]
     },
     "execution_count": 92,
     "metadata": {},
     "output_type": "execute_result"
    }
   ],
   "source": [
    "times('Ni', 4)                  # Functions are \"typeless\""
   ]
  },
  {
   "cell_type": "markdown",
   "metadata": {},
   "source": [
    "虽然我们从未对变量、参数或者返回值有过关于类型的声明，但我们可以将 times() 用作数字的乘法或是序列的重复。"
   ]
  },
  {
   "cell_type": "markdown",
   "metadata": {},
   "source": [
    "### 多态(polymorphism)\n",
    "\n",
    "就像我们看到的那样，times() 函数中表达式 x * y 的意义完全取决于 x 和 y 的对象类型。Python 将对某一对象在某种语法的合理性交由对象自身来判断。这种依赖类型的行为称为**多态**。它可以自动地适用于所有类别的对象类型。只要对象支持所预期的接口，那么函数就能处理。\n",
    "\n",
    "如果传递的对象不支持这种预期的接口，Python 将会在运行时检测到错误，并抛出一个异常。因此编写代码错误检查是没有意义的。实际上，这会破坏函数的灵活性，限制函数的功能，因为这会让函数限制在测试过的那些类型上才有效。\n",
    "\n",
    "这也是 Python 和静态语言至关重要不同之处：在 Python 中，代码不应该关心特定的数据类型。我们在 Python 中为对象编写接口，而不是数据类型。"
   ]
  },
  {
   "cell_type": "markdown",
   "metadata": {},
   "source": [
    "## 1.3 第二个例子：寻找序列的交集\n",
    "\n",
    "编写一个函数，用来搜索两个序列的公共元素。"
   ]
  },
  {
   "cell_type": "code",
   "execution_count": 93,
   "metadata": {},
   "outputs": [],
   "source": [
    "def intersect(seq1, seq2):\n",
    "    res = []                        # Start empty\n",
    "    for x in seq1:                 # Scan seq1\n",
    "        if x in seq2:              # Common item?\n",
    "            res.append(x)           # Add to end\n",
    "    return res"
   ]
  },
  {
   "cell_type": "markdown",
   "metadata": {},
   "source": [
    "一旦运行了 def，就可以通过在括号中传递两个序列对象从而调用这个函数："
   ]
  },
  {
   "cell_type": "code",
   "execution_count": 94,
   "metadata": {},
   "outputs": [
    {
     "data": {
      "text/plain": [
       "['S', 'A', 'M']"
      ]
     },
     "execution_count": 94,
     "metadata": {},
     "output_type": "execute_result"
    }
   ],
   "source": [
    "s1 = \"SPAM\"\n",
    "s2 = \"SCAM\"\n",
    "intersect(s1, s2)                   # Strings"
   ]
  },
  {
   "cell_type": "markdown",
   "metadata": {},
   "source": [
    "和所有的 Python 中的函数一样，intersect() 是多态的，它支持多种类型，甚至可以传递不同类型的对象。"
   ]
  },
  {
   "cell_type": "code",
   "execution_count": 95,
   "metadata": {},
   "outputs": [
    {
     "data": {
      "text/plain": [
       "[1]"
      ]
     },
     "execution_count": 95,
     "metadata": {},
     "output_type": "execute_result"
    }
   ],
   "source": [
    "x = intersect([1, 2, 3], (1, 4))    # Mixed types\n",
    "x                                   # Saved result object"
   ]
  },
  {
   "cell_type": "markdown",
   "metadata": {},
   "source": [
    "# 2. 作用域(Scope)\n",
    "\n",
    "当你在程序中使用变量名时，Python 创建、改变或查找变量名都是在所谓的命名空间（一个保存变量名的地方）中进行的。变量作用域的含义就是这个变量名能被访问到的范围。\n",
    "\n",
    "在默认情况下，一个函数的所有变量名都是与函数的命名空间相关联的。\n",
    "\n",
    "- 一个在 def 内定义的变量名能够被 def 内的代码使用，不能在函数的外部引用这个变量名。\n",
    "\n",
    "- def 内的变量名与 def 外的变量名并不冲突，即使是使用在别处的相同的变量名。一个在 def 外被赋值的变量 X 与 在这个 def 内赋值的变量 X 是完全不同的变量。"
   ]
  },
  {
   "cell_type": "code",
   "execution_count": 96,
   "metadata": {},
   "outputs": [
    {
     "name": "stdout",
     "output_type": "stream",
     "text": [
      "99\n"
     ]
    }
   ],
   "source": [
    "X = 99\n",
    "def func():\n",
    "    X = 88\n",
    "#func()\n",
    "print(X)"
   ]
  },
  {
   "cell_type": "markdown",
   "metadata": {},
   "source": [
    "尽管这两个变量名都是 X，但是它们作用域可以将它们区别开来。实际上，函数的作用域有助于防止程序之中变量名的冲突，并且有助于函数成为独立的程序单元。"
   ]
  },
  {
   "cell_type": "markdown",
   "metadata": {},
   "source": [
    "## 2.1 作用域法则\n",
    "\n",
    "在编写函数之前，我们编写的所有代码都是位于一个模块的顶层，所以我们使用的变量名要么就是存在于模块文件本身，要么就是 Python 内置预先定义好的（例如，open）。函数提供了嵌套的作用域，使其内部使用的变量名局部化，以便函数内部使用的变量名不会与函数外的变量名产生冲突。\n",
    "\n",
    "- 每个模块都是一个全局作用域(global scope)\n",
    "      全局变量就成为一个模块对象的属性。\n",
    "\n",
    "- 全局作用域的作用范围仅限于单个文件\n",
    "      这里的全局指的是在一个文件的顶层的变量名仅对于这个文件内部的代码而言是全局的。在 Python 中没有包含所有文件的全局作用域。\n",
    "\n",
    "- 每次对函数的调用都创建了一个新的局部作用域\n",
    "      也就是说，将会存在由那个函数创建的命名空间。\n",
    "\n",
    "- 赋值的变量名除非声明为全局变量(global)或非局部变量(nonlocal)，否则均是局部变量(local)\n",
    "      默认下，函数内部定义的变量名是局部变量。如果需要在函数内部给模块文件顶层的变量名赋值，需要使用 global 语句声明。如果需要给位于嵌套 def 中的名称赋值，需要使用 nonlocal 语句声明。\n",
    "\n",
    "- 所有其他的变量名都是可以归纳为全局、局部或者内置的"
   ]
  },
  {
   "cell_type": "markdown",
   "metadata": {},
   "source": [
    "### 变量名解析：LEGB 原则\n",
    "\n",
    "- 变量名引用分为四个作用域依次查找：局部(local)，函数内(enclosing functions)，全局(golbal)，内置(built-in)\n",
    "\n",
    "- 在默认情况下，变量名赋值会创建或者改变局部变量\n",
    "\n",
    "- 全局声明和非局部声明将赋值的变量名映射到模块文件内部的作用域"
   ]
  },
  {
   "cell_type": "markdown",
   "metadata": {},
   "source": [
    "![img](images/chapter06/LEGB_scope.png)"
   ]
  },
  {
   "cell_type": "markdown",
   "metadata": {},
   "source": [
    "### 作用域实例"
   ]
  },
  {
   "cell_type": "code",
   "execution_count": 97,
   "metadata": {},
   "outputs": [
    {
     "data": {
      "text/plain": [
       "100"
      ]
     },
     "execution_count": 97,
     "metadata": {},
     "output_type": "execute_result"
    }
   ],
   "source": [
    "# Global scope\n",
    "X = 99                      # X and func assigned in module: global\n",
    "\n",
    "def func(Y):                # Y and Z assigned in function: locals\n",
    "    # Local scope\n",
    "    Z = X + Y               # X is a global\n",
    "    return Z\n",
    "\n",
    "func(1)"
   ]
  },
  {
   "cell_type": "markdown",
   "metadata": {},
   "source": [
    "- 全局变量名：X, func\n",
    "      因此 X 是在模块文件顶层注册的，所以它是全局变量；它能够在函数内部进行引用，而不需要特意声明为全局变量。因为同样的原因 func 也是全局变量，def 语句在这个模块文件顶层讲一个函数对象赋值给了变量名 func\n",
    "      \n",
    "- 局部变量名：Y, Z\n",
    "      对于这个函数，Y 和 Z 是局部变量，因为它们都是在函数定义内部进行赋值的\n"
   ]
  },
  {
   "cell_type": "markdown",
   "metadata": {},
   "source": [
    "## 2.2 内置作用域(Built-in scope)\n",
    "\n",
    "内置作用域是通过一个名为 \\_\\_builtin\\_\\_ 的标准库模块来实现的。"
   ]
  },
  {
   "cell_type": "code",
   "execution_count": 98,
   "metadata": {},
   "outputs": [
    {
     "data": {
      "text/plain": [
       "['ArithmeticError',\n",
       " 'AssertionError',\n",
       " 'AttributeError',\n",
       " 'BaseException',\n",
       " 'BlockingIOError',\n",
       " 'BrokenPipeError',\n",
       " 'BufferError',\n",
       " 'BytesWarning',\n",
       " 'ChildProcessError',\n",
       " 'ConnectionAbortedError',\n",
       " 'ConnectionError',\n",
       " 'ConnectionRefusedError',\n",
       " 'ConnectionResetError',\n",
       " 'DeprecationWarning',\n",
       " 'EOFError',\n",
       " 'Ellipsis',\n",
       " 'EnvironmentError',\n",
       " 'Exception',\n",
       " 'False',\n",
       " 'FileExistsError',\n",
       " 'FileNotFoundError',\n",
       " 'FloatingPointError',\n",
       " 'FutureWarning',\n",
       " 'GeneratorExit',\n",
       " 'IOError',\n",
       " 'ImportError',\n",
       " 'ImportWarning',\n",
       " 'IndentationError',\n",
       " 'IndexError',\n",
       " 'InterruptedError',\n",
       " 'IsADirectoryError',\n",
       " 'KeyError',\n",
       " 'KeyboardInterrupt',\n",
       " 'LookupError',\n",
       " 'MemoryError',\n",
       " 'ModuleNotFoundError',\n",
       " 'NameError',\n",
       " 'None',\n",
       " 'NotADirectoryError',\n",
       " 'NotImplemented',\n",
       " 'NotImplementedError',\n",
       " 'OSError',\n",
       " 'OverflowError',\n",
       " 'PendingDeprecationWarning',\n",
       " 'PermissionError',\n",
       " 'ProcessLookupError',\n",
       " 'RecursionError',\n",
       " 'ReferenceError',\n",
       " 'ResourceWarning',\n",
       " 'RuntimeError',\n",
       " 'RuntimeWarning',\n",
       " 'StopAsyncIteration',\n",
       " 'StopIteration',\n",
       " 'SyntaxError',\n",
       " 'SyntaxWarning',\n",
       " 'SystemError',\n",
       " 'SystemExit',\n",
       " 'TabError',\n",
       " 'TimeoutError',\n",
       " 'True',\n",
       " 'TypeError',\n",
       " 'UnboundLocalError',\n",
       " 'UnicodeDecodeError',\n",
       " 'UnicodeEncodeError',\n",
       " 'UnicodeError',\n",
       " 'UnicodeTranslateError',\n",
       " 'UnicodeWarning',\n",
       " 'UserWarning',\n",
       " 'ValueError',\n",
       " 'Warning',\n",
       " 'WindowsError',\n",
       " 'ZeroDivisionError',\n",
       " '__IPYTHON__',\n",
       " '__build_class__',\n",
       " '__debug__',\n",
       " '__doc__',\n",
       " '__import__',\n",
       " '__loader__',\n",
       " '__name__',\n",
       " '__package__',\n",
       " '__spec__',\n",
       " 'abs',\n",
       " 'all',\n",
       " 'any',\n",
       " 'ascii',\n",
       " 'bin',\n",
       " 'bool',\n",
       " 'breakpoint',\n",
       " 'bytearray',\n",
       " 'bytes',\n",
       " 'callable',\n",
       " 'chr',\n",
       " 'classmethod',\n",
       " 'compile',\n",
       " 'complex',\n",
       " 'copyright',\n",
       " 'credits',\n",
       " 'delattr',\n",
       " 'dict',\n",
       " 'dir',\n",
       " 'display',\n",
       " 'divmod',\n",
       " 'enumerate',\n",
       " 'eval',\n",
       " 'exec',\n",
       " 'execfile',\n",
       " 'filter',\n",
       " 'float',\n",
       " 'format',\n",
       " 'frozenset',\n",
       " 'get_ipython',\n",
       " 'getattr',\n",
       " 'globals',\n",
       " 'hasattr',\n",
       " 'hash',\n",
       " 'help',\n",
       " 'hex',\n",
       " 'id',\n",
       " 'input',\n",
       " 'int',\n",
       " 'isinstance',\n",
       " 'issubclass',\n",
       " 'iter',\n",
       " 'len',\n",
       " 'license',\n",
       " 'list',\n",
       " 'locals',\n",
       " 'map',\n",
       " 'max',\n",
       " 'memoryview',\n",
       " 'min',\n",
       " 'next',\n",
       " 'object',\n",
       " 'oct',\n",
       " 'open',\n",
       " 'ord',\n",
       " 'pow',\n",
       " 'print',\n",
       " 'property',\n",
       " 'range',\n",
       " 'repr',\n",
       " 'reversed',\n",
       " 'round',\n",
       " 'runfile',\n",
       " 'set',\n",
       " 'setattr',\n",
       " 'slice',\n",
       " 'sorted',\n",
       " 'staticmethod',\n",
       " 'str',\n",
       " 'sum',\n",
       " 'super',\n",
       " 'tuple',\n",
       " 'type',\n",
       " 'vars',\n",
       " 'zip']"
      ]
     },
     "execution_count": 98,
     "metadata": {},
     "output_type": "execute_result"
    }
   ],
   "source": [
    "import builtins\n",
    "dir(builtins)"
   ]
  },
  {
   "cell_type": "markdown",
   "metadata": {},
   "source": [
    "这个列表前一半是内置的异常，后一半是内置函数。由于 LEGB 法则最后将自动搜索这个模块，我们不需要手动导入这个模块，而会自动得到这个列表中的所有变量名。\n",
    "\n",
    "内置变量名可能会被全局变量名或局部变量名覆盖。例如，一个函数创建了一个名为 open 的局部变量并进行了赋值。这样的话，就会将内置作用域的 open 内置函数隐藏起来。这往往也是个 bug，而且 Python 不会给出警告信息。"
   ]
  },
  {
   "cell_type": "code",
   "execution_count": 99,
   "metadata": {},
   "outputs": [],
   "source": [
    "def hider():\n",
    "    # Local variable, hides built-in here\n",
    "    open = 'spam'\n",
    "\n",
    "# Error: this no longer opens a file in this scope!\n",
    "#    open('data.txt', 'w')\n",
    "hider()"
   ]
  },
  {
   "cell_type": "markdown",
   "metadata": {},
   "source": [
    "## 2.3 global 语句\n",
    "\n",
    "全局变量的特点：\n",
    "\n",
    "- 全局变量是位于模块文件内部的顶层的变量名\n",
    "\n",
    "- 全局变量在函数内部不经过声明也可以被引用\n",
    "\n",
    "- 全局变量如果是在函数内被赋值的话，必须经过声明\n",
    "\n",
    "global 语句是 Python 中唯一看起来像声明语句的语句。它是一个命名空间的声明，它告诉 Python 生成一个存在于整个模块内部作用域的变量名。也就是说 global 允许我们修改一个模块文件的顶层的名称。"
   ]
  },
  {
   "cell_type": "code",
   "execution_count": 100,
   "metadata": {},
   "outputs": [
    {
     "name": "stdout",
     "output_type": "stream",
     "text": [
      "99\n"
     ]
    }
   ],
   "source": [
    "X = 88                              # Global X\n",
    "\n",
    "def func():\n",
    "    global X\n",
    "    X = 99                          # Global X: outside def\n",
    "\n",
    "func()\n",
    "print(X)                            # Prints 99"
   ]
  },
  {
   "cell_type": "markdown",
   "metadata": {},
   "source": [
    "下面这个例子中，x、y 和 z 都是全局变量：x 通过 global 语句是自己明确地映射到整个模块的作用域。"
   ]
  },
  {
   "cell_type": "code",
   "execution_count": 101,
   "metadata": {},
   "outputs": [
    {
     "name": "stdout",
     "output_type": "stream",
     "text": [
      "3\n"
     ]
    }
   ],
   "source": [
    "# Global variables in module\n",
    "y, z = 1, 2\n",
    "\n",
    "def all_global():\n",
    "    global x                        # Declare globals assigned\n",
    "    x = y + z                       # No need to declare y, z: LEGB rule\n",
    "\n",
    "all_global()\n",
    "print(x)"
   ]
  },
  {
   "cell_type": "markdown",
   "metadata": {},
   "source": [
    "### 最小化全局变量\n",
    "\n",
    "过多使用全局变量可能会引发一些软件工程问题：由于变量的值取决于函数调用的顺序，而函数自身是任意顺序进行排序的，导致了程序调试起来非常困难。"
   ]
  },
  {
   "cell_type": "code",
   "execution_count": 102,
   "metadata": {},
   "outputs": [],
   "source": [
    "X = 99\n",
    "\n",
    "def func1():\n",
    "    global X\n",
    "    X = 88\n",
    "\n",
    "def func2():\n",
    "    global X\n",
    "    X = 77"
   ]
  },
  {
   "cell_type": "markdown",
   "metadata": {},
   "source": [
    "现在，假设你的任务是重用这个模块文件。这里 X 的值将会是多少？\n",
    "\n",
    "X 的值与时间相关联，它的值取决于哪个函数是最后调用的。确切的说，如果不确定引用的顺序，这个问题就是毫无意义的。\n",
    "\n",
    "实际的结果就是，为了理解代码，你必须跟踪整个程序的控制流程。\n",
    "\n",
    "因此，在不熟悉编程的情况下，最好尽可能避免使用全局变量。六个月以后，你和你的合作者都会感谢你没有使用那么多全局变量。"
   ]
  },
  {
   "cell_type": "markdown",
   "metadata": {},
   "source": [
    "## 2.4 嵌套函数(Nested function)及嵌套作用域\n",
    "\n",
    "现在到了学习一下 LEGB 查找法则中 E(Enclosing) 这个字母的时候了。\n",
    "\n",
    "在增加了嵌套的函数作用域后，变量的查找法则变得稍微复杂了一些。对于一个函数："
   ]
  },
  {
   "cell_type": "markdown",
   "metadata": {},
   "source": [
    "- 一个引用（X）首先在局部（函数内）作用域查找变量名 X；之后会在代码的语法上嵌套了的函数中的局部作用域，从内到外查找；之后查找当前模块文件的全局作用域；最后搜索内置作用域（__builtin__）\n",
    "\n",
    "\n",
    "\n",
    "- 默认情况下，一个赋值（X = value）创建或改变了变量名 X 的作用域。如果 X 在函数内部声明为全局变量，它将创建或改变变量名 X 为整个模块的作用域。另一方面，如果 X 在函数内声明为 nonlocal，赋值会修改最近的嵌套函数的局部作用域中的名称 X。"
   ]
  },
  {
   "cell_type": "code",
   "execution_count": 103,
   "metadata": {},
   "outputs": [
    {
     "name": "stdout",
     "output_type": "stream",
     "text": [
      "88\n"
     ]
    }
   ],
   "source": [
    "X = 99                                  # Global scope name: not used\n",
    "\n",
    "def f1():\n",
    "    X = 88                              # Enclosing def local\n",
    "    def f2():\n",
    "        print(X)                        # Reference made in nested def\n",
    "    f2()\n",
    "\n",
    "f1()                                    # Prints 88: enclosing def local"
   ]
  },
  {
   "cell_type": "markdown",
   "metadata": {},
   "source": [
    "f2 是一个临时函数，也是 f1 局部作用域内的一个局部变量，仅在 f1 内部执行的过程中存在。通过 LEGB 查找法则，f2 内的 X 自动映射到了 f1 的 X。"
   ]
  },
  {
   "cell_type": "markdown",
   "metadata": {},
   "source": [
    "嵌套函数是比较高级的编程技术，它可以用来生成工厂函数(factory function)。但因为它的复杂性，初期我们应该尽量避免使用嵌套函数。"
   ]
  },
  {
   "cell_type": "markdown",
   "metadata": {},
   "source": [
    "## 2.5 nonlocal 语句\n",
    "\n",
    "nonlocal 应用于一个嵌套的函数的作用域中的一个名称，而不是所有 def 之外的全局模块作用域。"
   ]
  },
  {
   "cell_type": "code",
   "execution_count": 104,
   "metadata": {},
   "outputs": [
    {
     "name": "stdout",
     "output_type": "stream",
     "text": [
      "spam 0\n"
     ]
    }
   ],
   "source": [
    "def tester(begin):\n",
    "    state = begin               # Referencing nonlocals works normally\n",
    "    def nested(label):\n",
    "        print(label, state)     # Remembers state in enclosing scope\n",
    "    return nested\n",
    "\n",
    "F = tester(0)\n",
    "F('spam')"
   ]
  },
  {
   "cell_type": "code",
   "execution_count": 105,
   "metadata": {},
   "outputs": [
    {
     "name": "stdout",
     "output_type": "stream",
     "text": [
      "ham 0\n"
     ]
    }
   ],
   "source": [
    "F('ham')"
   ]
  },
  {
   "cell_type": "markdown",
   "metadata": {},
   "source": [
    "默认情况下，不允许修改嵌套的 def 作用域中的名称。"
   ]
  },
  {
   "cell_type": "code",
   "execution_count": 106,
   "metadata": {},
   "outputs": [],
   "source": [
    "def tester(begin):\n",
    "    state = begin\n",
    "    def nested(label):\n",
    "        print(label, state)\n",
    "        state += 1                          # Cannot change by default\n",
    "    return nested\n",
    "\n",
    "F = tester(0)\n",
    "# F('spam')"
   ]
  },
  {
   "cell_type": "markdown",
   "metadata": {},
   "source": [
    "如果我们在 nested 中将 state 声明为一个 nonlocal，就可以在 nested 函数中修改它了。即便我们是通过名称 F 调用返回的 nested 函数时，tester已经返回退出了，这依然是有效的。"
   ]
  },
  {
   "cell_type": "code",
   "execution_count": 107,
   "metadata": {},
   "outputs": [
    {
     "name": "stdout",
     "output_type": "stream",
     "text": [
      "spam 0\n"
     ]
    }
   ],
   "source": [
    "def tester(begin):\n",
    "    state = begin                           # Each call gets its own state\n",
    "    def nested(label):\n",
    "        nonlocal state                     # Remembers state in enclosing scope\n",
    "        print(label, state)\n",
    "        state += 1                          # Allowed to change it if nonlocal\n",
    "    return nested\n",
    "\n",
    "F = tester(0)\n",
    "F('spam')                                   # Increments state on each call"
   ]
  },
  {
   "cell_type": "code",
   "execution_count": 108,
   "metadata": {},
   "outputs": [
    {
     "name": "stdout",
     "output_type": "stream",
     "text": [
      "ham 1\n"
     ]
    }
   ],
   "source": [
    "F('ham')"
   ]
  },
  {
   "cell_type": "code",
   "execution_count": 109,
   "metadata": {},
   "outputs": [
    {
     "name": "stdout",
     "output_type": "stream",
     "text": [
      "eggs 2\n"
     ]
    }
   ],
   "source": [
    "F('eggs')"
   ]
  },
  {
   "cell_type": "markdown",
   "metadata": {},
   "source": [
    "- 与 global 语句不同，当执行一条 nonlocal 语句时，nonlocal 名称必须已经在一个嵌套的 def 作用域中赋值过，否则将会得到一个错误提示。\n",
    "\n",
    "\n",
    "- nonlocal限制作用域查找仅为嵌套的 def，nonlocal 不会在嵌套的模块的全局作用域或所有 def 之外的内置作用域中查找。"
   ]
  },
  {
   "cell_type": "markdown",
   "metadata": {},
   "source": [
    "# 3. 参数"
   ]
  },
  {
   "cell_type": "markdown",
   "metadata": {},
   "source": [
    "## 3.1 传递参数\n",
    "\n",
    "下面是给函数传递参数时的一些关键点：\n",
    "\n",
    "- 参数的传递是通过自动将对象赋值给局部变量名来实现的\n",
    "\n",
    "\n",
    "- 在函数内部的参数名的赋值不会影响调用者\n",
    "\n",
    "\n",
    "- 改变函数的可变对象参数的值会对调用者产生影响\n",
    "\n",
    "Python 通过赋值进行参数传递的机制与 C++ 的引用参数并不完全相同\n",
    "\n",
    "- 不可变对象参数“通过值”进行传递\n",
    "      像整数和字符串这样的对象是通过对象引用而不是拷贝进行传递的，但是因为无论如何都不能在原处改变不可变对象，实际的效果很像创建了一份拷贝。\n",
    "\n",
    "- 可变对象参数“通过指针”进行传递\n",
    "      例如，列表和字典这样对象也是通过对象引用进行传递的，可变对象能够在函数内部进行原处的改变。这一点和 C 语言使用指针传递数组很相似。"
   ]
  },
  {
   "cell_type": "code",
   "execution_count": 110,
   "metadata": {},
   "outputs": [
    {
     "name": "stdout",
     "output_type": "stream",
     "text": [
      "88\n"
     ]
    }
   ],
   "source": [
    "def f(a):                               # a is assigned to (references) the passed object\n",
    "    a = 99                              # Changes local variable a only\n",
    "\n",
    "b = 88\n",
    "f(b)                                    # a and b both reference same 88 initially\n",
    "print(b)                                # b is not changed"
   ]
  },
  {
   "cell_type": "code",
   "execution_count": 111,
   "metadata": {},
   "outputs": [
    {
     "data": {
      "text/plain": [
       "(1, ['spam', 2])"
      ]
     },
     "execution_count": 111,
     "metadata": {},
     "output_type": "execute_result"
    }
   ],
   "source": [
    "def changer(a, b):                      # Arguments assigned references to objects\n",
    "    a = 2                               # Changes local name's value only\n",
    "    b[0] = 'spam'                       # Changes shared object in place\n",
    "\n",
    "X = 1\n",
    "L = [1, 2]                              # Caller:\n",
    "changer(X, L)                           # Pass immutable and mutable objects\n",
    "X, L                                    # X is unchanged, L is different!"
   ]
  },
  {
   "cell_type": "markdown",
   "metadata": {},
   "source": [
    "- 因为 a 是在函数作用域内的本地变量名，第一个赋值对函数调用者没有影响，它仅仅把局部变量 a 修改为引用一个完全不同的对象，并没有改变调用者作用域中的名称 X 的绑定。\n",
    "\n",
    "\n",
    "- b 也是一个局部变量名，但是它被传给了一个可变对象，对函数中 b[0] 进行赋值的结果会在函数返回后影响 L 的值。"
   ]
  },
  {
   "cell_type": "markdown",
   "metadata": {},
   "source": [
    "如果不想要函数内部在原处的修改影响传递给它的对象，我们可以简单地创建一个明确的可变对象的拷贝。"
   ]
  },
  {
   "cell_type": "code",
   "execution_count": 112,
   "metadata": {},
   "outputs": [
    {
     "data": {
      "text/plain": [
       "(1, [1, 2])"
      ]
     },
     "execution_count": 112,
     "metadata": {},
     "output_type": "execute_result"
    }
   ],
   "source": [
    "L = [1, 2]\n",
    "changer(X, L[:])                        # Pass a copy, so our 'L' does not change\n",
    "X, L"
   ]
  },
  {
   "cell_type": "markdown",
   "metadata": {},
   "source": [
    "如果不想改变传入的对象，我们也可以在函数内部进行拷贝："
   ]
  },
  {
   "cell_type": "code",
   "execution_count": 113,
   "metadata": {},
   "outputs": [],
   "source": [
    "def changer(a, b):\n",
    "    b = b[:]                            # Copy input list so we don't impact caller\n",
    "    a = 2\n",
    "    b[0] = 'spam'                       # Changes our list copy only"
   ]
  },
  {
   "cell_type": "markdown",
   "metadata": {},
   "source": [
    "## 3.2 参数匹配模型"
   ]
  },
  {
   "cell_type": "markdown",
   "metadata": {},
   "source": [
    "在默认情况下，参数是通过其位置进行匹配的，从左至右，而且必须精确地传递和函数头部参数名一样多的参数。除此之外，还能通过定义变量名、默认参数值，以及对于额外参数的容器进行匹配。\n",
    "\n",
    "|语法|位置|解释|\n",
    "|:---|:--:|:---|\n",
    "|func(value)|调用者|常规参数：通过位置进行匹配|\n",
    "|func(name=value)|调用者|关键字参数：通过变量名进行匹配|\n",
    "|func(\\*iterable)|调用者|以迭代器传递所有的对象，作为独立的基于位置的参数|\n",
    "|func(\\*\\*dict)|调用者|以字典传送键值对，作为独立关键字参数|\n",
    "|def func(name)|函数|常规参数：通过位置或变量名进行匹配|\n",
    "|def func(name=value)|函数|默认参数值，如果没有在调用中传递的话|\n",
    "|def func(\\*name)|函数|匹配在元组中所有包含位置的参数|\n",
    "|def func(\\*\\*name)|函数|匹配在字典中所有包含位置的参数|\n",
    "|def func(\\*args, name)|函数|参数必须在调用中按照关键字传递|"
   ]
  },
  {
   "cell_type": "markdown",
   "metadata": {},
   "source": [
    "### 常规参数"
   ]
  },
  {
   "cell_type": "code",
   "execution_count": 114,
   "metadata": {},
   "outputs": [
    {
     "name": "stdout",
     "output_type": "stream",
     "text": [
      "1 2 3\n"
     ]
    }
   ],
   "source": [
    "def func(a, b, c):\n",
    "    print(a, b, c)\n",
    "    \n",
    "func(1, 2, 3)"
   ]
  },
  {
   "cell_type": "markdown",
   "metadata": {},
   "source": [
    "### 关键字参数"
   ]
  },
  {
   "cell_type": "code",
   "execution_count": 115,
   "metadata": {},
   "outputs": [
    {
     "name": "stdout",
     "output_type": "stream",
     "text": [
      "1 2 3\n"
     ]
    }
   ],
   "source": [
    "func(c = 3, b = 2, a = 1)              # 不推荐随意交换参数顺序"
   ]
  },
  {
   "cell_type": "code",
   "execution_count": 116,
   "metadata": {},
   "outputs": [
    {
     "name": "stdout",
     "output_type": "stream",
     "text": [
      "1 2 3\n"
     ]
    }
   ],
   "source": [
    "func(1, c = 3, b = 2)                  # a gets 1 by position, b and c passed by name"
   ]
  },
  {
   "cell_type": "markdown",
   "metadata": {},
   "source": [
    "### 默认参数"
   ]
  },
  {
   "cell_type": "code",
   "execution_count": 117,
   "metadata": {},
   "outputs": [
    {
     "name": "stdout",
     "output_type": "stream",
     "text": [
      "1 2 3\n"
     ]
    }
   ],
   "source": [
    "def func(a, b=2, c=3):                  # a required, b and c optional\n",
    "    print(a, b, c)\n",
    "    \n",
    "func(1)                                 # Use defaults"
   ]
  },
  {
   "cell_type": "markdown",
   "metadata": {},
   "source": [
    "当给函数传递两个值的时候，只有 c 继续保持默认值。"
   ]
  },
  {
   "cell_type": "code",
   "execution_count": 118,
   "metadata": {},
   "outputs": [
    {
     "name": "stdout",
     "output_type": "stream",
     "text": [
      "1 4 3\n"
     ]
    }
   ],
   "source": [
    "func(1, 4)                              # Override defaults"
   ]
  },
  {
   "cell_type": "markdown",
   "metadata": {},
   "source": [
    "### 任意参数\n",
    "\n",
    "最后两种匹配扩展 * 和 **，可以让函数支持任意数目的参数。\n",
    "\n",
    "第一种用法：在函数定义中，在元组中收集不匹配的位置参数。下面的例子中，Python 将所有位置相关的参数收集到一个新的**元组**中，并将这个元组赋值给变量args："
   ]
  },
  {
   "cell_type": "code",
   "execution_count": 119,
   "metadata": {},
   "outputs": [
    {
     "name": "stdout",
     "output_type": "stream",
     "text": [
      "()\n"
     ]
    }
   ],
   "source": [
    "def f(*args):\n",
    "    print(args)\n",
    "    \n",
    "f()"
   ]
  },
  {
   "cell_type": "code",
   "execution_count": 120,
   "metadata": {},
   "outputs": [
    {
     "name": "stdout",
     "output_type": "stream",
     "text": [
      "(1,)\n"
     ]
    }
   ],
   "source": [
    "f(1)"
   ]
  },
  {
   "cell_type": "code",
   "execution_count": 121,
   "metadata": {},
   "outputs": [
    {
     "name": "stdout",
     "output_type": "stream",
     "text": [
      "(1, 2, 3, 4)\n"
     ]
    }
   ],
   "source": [
    "f(1, 2, 3, 4)"
   ]
  },
  {
   "cell_type": "markdown",
   "metadata": {},
   "source": [
    "** 特性类似，但是它只对关键字参数有效。将这些关键字参数传递给一个新的**字典**，这个字典之后能通过一般的字典工具进行处理。在这种情况下，** 允许将关键字参数转换为字典，你能够在之后使用键调用进行字典迭代，如下面程序所示："
   ]
  },
  {
   "cell_type": "code",
   "execution_count": 122,
   "metadata": {},
   "outputs": [
    {
     "name": "stdout",
     "output_type": "stream",
     "text": [
      "{}\n"
     ]
    }
   ],
   "source": [
    "def f(**args):\n",
    "    print(args)\n",
    "\n",
    "f()"
   ]
  },
  {
   "cell_type": "code",
   "execution_count": 123,
   "metadata": {},
   "outputs": [
    {
     "name": "stdout",
     "output_type": "stream",
     "text": [
      "{'a': 1, 'b': 2}\n"
     ]
    }
   ],
   "source": [
    "f(a=1, b=2)"
   ]
  },
  {
   "cell_type": "markdown",
   "metadata": {},
   "source": [
    "函数参数列表能够混合一般参数、* 参数以及 ** 来实现更加灵活的调用方式。"
   ]
  },
  {
   "cell_type": "code",
   "execution_count": 124,
   "metadata": {},
   "outputs": [
    {
     "name": "stdout",
     "output_type": "stream",
     "text": [
      "1 (2, 3) {'x': 4, 'y': 5}\n"
     ]
    }
   ],
   "source": [
    "def f(a, *pargs, **kargs):\n",
    "    print(a, pargs, kargs)\n",
    "    \n",
    "f(1, 2, 3, x=4, y=5)"
   ]
  },
  {
   "cell_type": "markdown",
   "metadata": {},
   "source": [
    "### 解包参数\n",
    "\n",
    "我们在调用函数时使用 * 语法，它与函数定义的意思相反。它会解包参数的集合，而不是创建参数的集合。例如，我们可以给函数传递一个包含四个元素的元组，让 Python 将它们解包成四个独立的参数。"
   ]
  },
  {
   "cell_type": "code",
   "execution_count": 125,
   "metadata": {},
   "outputs": [
    {
     "name": "stdout",
     "output_type": "stream",
     "text": [
      "1 2 3 4\n"
     ]
    }
   ],
   "source": [
    "def func(a, b, c, d):\n",
    "    print(a, b, c, d)\n",
    "    \n",
    "args = (1, 2)\n",
    "args += (3, 4)\n",
    "func(*args)                                 # Same as func(1, 2, 3, 4)"
   ]
  },
  {
   "cell_type": "markdown",
   "metadata": {},
   "source": [
    "相似的，在函数调用时，** 会以键值对的形式解包一个字典，使其成为独立的关键字参数。"
   ]
  },
  {
   "cell_type": "code",
   "execution_count": 126,
   "metadata": {},
   "outputs": [
    {
     "name": "stdout",
     "output_type": "stream",
     "text": [
      "1 2 3 4\n"
     ]
    }
   ],
   "source": [
    "args = {'a': 1, 'b': 2, 'c': 3}\n",
    "args['d'] = 4\n",
    "func(**args)                                # Same as func(a=1, b=2, c=3, d=4)"
   ]
  },
  {
   "cell_type": "markdown",
   "metadata": {},
   "source": [
    "### Keyword-Only 参数\n",
    "\n",
    "从语法上讲，keyword-only参数出现在参数列表中的 \\*args 之后。所有这些参数都必须在调用中使用关键字语法来传递。"
   ]
  },
  {
   "cell_type": "code",
   "execution_count": 127,
   "metadata": {},
   "outputs": [
    {
     "name": "stdout",
     "output_type": "stream",
     "text": [
      "1 (2,) 3\n"
     ]
    }
   ],
   "source": [
    "def kwonly(a, *b, c):\n",
    "    print(a, b, c)\n",
    "    \n",
    "kwonly(1, 2, c=3)"
   ]
  },
  {
   "cell_type": "code",
   "execution_count": 128,
   "metadata": {},
   "outputs": [
    {
     "name": "stdout",
     "output_type": "stream",
     "text": [
      "1 () 3\n"
     ]
    }
   ],
   "source": [
    "kwonly(a=1, c=3)"
   ]
  },
  {
   "cell_type": "code",
   "execution_count": 129,
   "metadata": {},
   "outputs": [],
   "source": [
    "# kwonly(1, 2, 3)                       # kwonly() missing 1 required keyword-only argument: 'c'"
   ]
  },
  {
   "cell_type": "markdown",
   "metadata": {},
   "source": [
    "代码中，a 可以按照位置或者关键字传递，b 收集任何额外的位置参数，c 必须只按照关键字传递。\n",
    "\n",
    "仍然可以对 keyword-only 参数使用默认值，即便它们出现在参数列表 * 的后面。"
   ]
  },
  {
   "cell_type": "code",
   "execution_count": 130,
   "metadata": {},
   "outputs": [
    {
     "name": "stdout",
     "output_type": "stream",
     "text": [
      "1 eggs spam\n"
     ]
    }
   ],
   "source": [
    "def kwonly(a, *, b, c='spam'):\n",
    "    print(a, b, c)\n",
    "    \n",
    "kwonly(1, b='eggs')    "
   ]
  },
  {
   "cell_type": "code",
   "execution_count": 131,
   "metadata": {},
   "outputs": [],
   "source": [
    "# kwonly(1, c='eggs')                   # kwonly() missing 1 required keyword-only argument: 'b'"
   ]
  },
  {
   "cell_type": "markdown",
   "metadata": {},
   "source": [
    "keyword-only 参数有什么用？\n",
    "\n",
    "它使得允许一个函数既接受任意多个要处理的位置参数，也接受以关键字传递的配置选项。"
   ]
  },
  {
   "cell_type": "markdown",
   "metadata": {},
   "source": [
    "## 3.3 参数类型（函数标注）\n",
    "\n",
    "函数的参数类型的定义方式是在参数名后加冒号，在冒号后指明参数的类型。函数返回数据类型的定义方式是在函数的参数列表和函数的冒号之间，使用箭头“->”加数据类型的形式。二者也被称为函数标注（Function Annotations）。\n",
    "\n",
    "函数标注以字典的形式存放在函数的 \\_\\_annotations\\_\\_ 属性中，并且不会影响函数的任何其他部分。Python 解释器不会对参数类型进行强制检查。 "
   ]
  },
  {
   "cell_type": "code",
   "execution_count": 132,
   "metadata": {},
   "outputs": [
    {
     "name": "stdout",
     "output_type": "stream",
     "text": [
      "{'ham': <class 'str'>, 'eggs': <class 'str'>, 'return': <class 'str'>}\n"
     ]
    },
    {
     "data": {
      "text/plain": [
       "'spam eggs'"
      ]
     },
     "execution_count": 132,
     "metadata": {},
     "output_type": "execute_result"
    }
   ],
   "source": [
    "def f(ham: str, eggs: str = 'eggs') -> str:\n",
    "    return ham + eggs\n",
    "\n",
    "print(f.__annotations__)\n",
    "\n",
    "f('spam ')"
   ]
  },
  {
   "cell_type": "code",
   "execution_count": 133,
   "metadata": {
    "scrolled": true
   },
   "outputs": [
    {
     "data": {
      "text/plain": [
       "5"
      ]
     },
     "execution_count": 133,
     "metadata": {},
     "output_type": "execute_result"
    }
   ],
   "source": [
    "f(2, 3)"
   ]
  },
  {
   "cell_type": "markdown",
   "metadata": {},
   "source": [
    "## 3.4 实例：求最小值的函数\n",
    "\n",
    "假设要编写一个函数，这个函数能够计算任意参数集合和任意对象数据类型集合中的最小值。也就是说，这个函数能接受零个或多个参数。我们需要使用 * 参数，将参数收集到一个元组中，并且可以通过简单的循环依次步进处理每一个参数。"
   ]
  },
  {
   "cell_type": "markdown",
   "metadata": {},
   "source": [
    "下面给出了编写这个函数的三种简单方法（都没有对传入参数进行测试）。\n",
    "\n",
    "- min1() 获取第一个参数（args是一个元组），并使用分片去掉第一个元素得到了剩余的参数。\n",
    "\n",
    "\n",
    "- min2() 让 Python 自动获取第一个参数以及其余的参数，因此避免了进行一次索引和分片操作。\n",
    "\n",
    "\n",
    "- min3() 通过对内置 list() 的调用让一个元组转换成列表，之后调用 list 内置的 sort() 方法来实现比较。"
   ]
  },
  {
   "cell_type": "code",
   "execution_count": 134,
   "metadata": {},
   "outputs": [],
   "source": [
    "def min1(*args):\n",
    "    res = args[0]\n",
    "    for arg in args[1:]:\n",
    "        if arg < res:\n",
    "            res = arg\n",
    "    return res"
   ]
  },
  {
   "cell_type": "code",
   "execution_count": 135,
   "metadata": {},
   "outputs": [],
   "source": [
    "def min2(first, *rest):\n",
    "    for arg in rest:\n",
    "        if arg < first:\n",
    "            first = arg\n",
    "    return first"
   ]
  },
  {
   "cell_type": "code",
   "execution_count": 136,
   "metadata": {},
   "outputs": [],
   "source": [
    "def min3(*args):\n",
    "    tmp = list(args)\n",
    "    tmp.sort()\n",
    "    return tmp[0]"
   ]
  },
  {
   "cell_type": "code",
   "execution_count": 137,
   "metadata": {},
   "outputs": [
    {
     "name": "stdout",
     "output_type": "stream",
     "text": [
      "1\n",
      "aa\n",
      "[1, 1]\n"
     ]
    }
   ],
   "source": [
    "print(min1(3, 4, 1, 2))\n",
    "print(min2(\"bb\", \"aa\"))\n",
    "print(min3([2,2], [1,1], [3,3]))"
   ]
  },
  {
   "cell_type": "markdown",
   "metadata": {},
   "source": [
    "如果希望使用这些函数来计算**最大值**，前两个函数将 '**<**' 改为 '**>**'，第三个函数改为返回 tmp[-1]即可。\n",
    "\n",
    "但是，也可以设计一个通用化的函数，使得它既可以计算最小值也可以计算最大值。在这里，传入一个比较函数作为参数对象，即可复用 minmax() 函数。"
   ]
  },
  {
   "cell_type": "code",
   "execution_count": 138,
   "metadata": {},
   "outputs": [
    {
     "name": "stdout",
     "output_type": "stream",
     "text": [
      "1\n",
      "6\n"
     ]
    }
   ],
   "source": [
    "def minmax(test, *args):\n",
    "    res = args[0]\n",
    "    for arg in args[1:]:\n",
    "        if test(arg, res):\n",
    "            res = arg\n",
    "    return res\n",
    "\n",
    "def lessthan(x, y): return x < y # See also: lambda, eval\n",
    "def greaterthan(x, y): return x > y\n",
    "\n",
    "print(minmax(lessthan, 4, 2, 1, 5, 6, 3)) # Self-test code\n",
    "print(minmax(greaterthan, 4, 2, 1, 5, 6, 3))"
   ]
  },
  {
   "cell_type": "markdown",
   "metadata": {},
   "source": [
    "## 3.5 模拟 print 函数\n",
    "\n",
    "模拟函数将使用 \\*args 任意位置元组以及 \\*\\*args 任意关键字参数字典来模拟 print 函数所做的大多数工作。"
   ]
  },
  {
   "cell_type": "code",
   "execution_count": 139,
   "metadata": {},
   "outputs": [],
   "source": [
    "import sys\n",
    "\n",
    "def print3(*args, **kargs):\n",
    "    sep = kargs.get('sep', ' ') # Keyword arg defaults\n",
    "    end = kargs.get('end', '\\n')\n",
    "    file = kargs.get('file', sys.stdout)\n",
    "    output = ''\n",
    "    first = True\n",
    "    for arg in args:\n",
    "        output += ('' if first else sep) + str(arg)\n",
    "        first = False\n",
    "    file.write(output + end)"
   ]
  },
  {
   "cell_type": "code",
   "execution_count": 140,
   "metadata": {},
   "outputs": [
    {
     "name": "stdout",
     "output_type": "stream",
     "text": [
      "1 2 3\n",
      "123\n",
      "1...2...3\n",
      "1...[2]...(3,)\n",
      "4567 8 9\n",
      "\n"
     ]
    }
   ],
   "source": [
    "print3(1, 2, 3)\n",
    "print3(1, 2, 3, sep='')         # Suppress separator\n",
    "print3(1, 2, 3, sep='...')\n",
    "print3(1, [2], (3,), sep='...') # Various object types\n",
    "\n",
    "print3(4, 5, 6, sep='', end='') # Suppress newline\n",
    "print3(7, 8, 9)\n",
    "print3()                        # Add newline (or blank line)"
   ]
  },
  {
   "cell_type": "markdown",
   "metadata": {},
   "source": [
    "上面版本的 print 函数会自动**忽视**除 'sep'、'end' 和 'file' 以外的 kargs 参数。"
   ]
  },
  {
   "cell_type": "code",
   "execution_count": 141,
   "metadata": {},
   "outputs": [
    {
     "name": "stdout",
     "output_type": "stream",
     "text": [
      "9\n"
     ]
    }
   ],
   "source": [
    "print3(9, name='bob')"
   ]
  },
  {
   "cell_type": "markdown",
   "metadata": {},
   "source": [
    "也可以使用 keyword-only 参数来编写 print 函数，从而来自动验证配置参数："
   ]
  },
  {
   "cell_type": "code",
   "execution_count": 142,
   "metadata": {},
   "outputs": [],
   "source": [
    "import sys\n",
    "\n",
    "def print3_keyword(*args, sep=' ', end='\\n', file=sys.stdout):\n",
    "    output = ''\n",
    "    first = True\n",
    "    for arg in args:\n",
    "        output += ('' if first else sep) + str(arg)\n",
    "        first = False\n",
    "    file.write(output + end)"
   ]
  },
  {
   "cell_type": "code",
   "execution_count": 143,
   "metadata": {},
   "outputs": [],
   "source": [
    "# print3_keyword(9, name='bob') # got an unexpected keyword argument 'name'"
   ]
  },
  {
   "cell_type": "markdown",
   "metadata": {},
   "source": [
    "要手动检测多余的关键字，我们可以使用 dict.pop() 删除收到的条目，并检查字典是否为空。"
   ]
  },
  {
   "cell_type": "code",
   "execution_count": 144,
   "metadata": {},
   "outputs": [],
   "source": [
    "import sys\n",
    "\n",
    "def print3_new(*args, **kargs):\n",
    "    sep = kargs.pop('sep', ' ')\n",
    "    end = kargs.pop('end', '\\n')\n",
    "    file = kargs.pop('file', sys.stdout)\n",
    "    if kargs:\n",
    "        raise TypeError('extra keywords: %s' % kargs)\n",
    "    output = ''\n",
    "    first = True\n",
    "    for arg in args:\n",
    "        output += ('' if first else sep) + str(arg)\n",
    "        first = False\n",
    "    file.write(output + end)"
   ]
  },
  {
   "cell_type": "code",
   "execution_count": 145,
   "metadata": {},
   "outputs": [],
   "source": [
    "# print3_new(9, name='bob')     # extra keywords: {'name': 'bob'}"
   ]
  },
  {
   "cell_type": "markdown",
   "metadata": {},
   "source": [
    "### 参数模型匹配小结："
   ]
  },
  {
   "cell_type": "markdown",
   "metadata": {},
   "source": [
    "- 位置：从左至右进行匹配\n",
    "      也是迄今为止最常使用的方法\n",
    "\n",
    "- 关键字参数：通过参数名进行匹配\n",
    "      调用者可以定义函数的哪一个参数接受这个值，通过在调用时使用参数的变量名，使用name=value这种语法\n",
    "\n",
    "- 默认参数：为没有传入值的参数定义参数值\n",
    "      函数能为自己设定参数的默认值，同样使用语法name=value\n",
    "\n",
    "- 可变参数：收集任意多基于位置或关键字的参数\n",
    "      函数能够使用特定的参数，它们是以字符 * 开头，收集任意多的额外参数（类似于 C 语言中的可变参数特性）\n",
    "      \n",
    "- 可变参数解包：传递任意多的基于位置或关键字的参数\n",
    "      在函数头部 * 意味着收集任意多的参数，而在调用者中意味着传递任意多的参数\n",
    "\n",
    "- Keyword-only 参数：参数必须按照名称传递\n",
    "      Keyword-only 参数通常用来定义实际参数以外的配置选项"
   ]
  },
  {
   "cell_type": "markdown",
   "metadata": {},
   "source": [
    "# 4. 匿名函数 lambda\n",
    "\n",
    "除了 def 语句之外，Python 还提供了一种生成函数对象的表达式形式，它返回了一个函数而不是将这个函数赋值给一个变量名。这也是 lambda 也叫作匿名函数的原因。\n",
    "\n",
    "- lambda 是一个表达式，而不是一个语句\n",
    "      正因为这点，lambda 能够出现在 Python 语法不允许 def 出现的地方，例如在一个列表常量或者函数调用的参数中。\n",
    "\n",
    "- lambda 的主体是一个单个的表达式，而不是一个代码块\n",
    "      主体简单的就好像放在 def 主体的 return 语句中的代码一样。因为它仅限于表达式，lambda 通常要比 def 功能要小，连 if 这样的语句都不能使用。"
   ]
  },
  {
   "cell_type": "markdown",
   "metadata": {},
   "source": [
    "## 4.1 lambda 表达式\n",
    "\n",
    "lambda 的一般形式是关键字 lambda 后面跟一个或多个参数，紧跟的是一个冒号以及表达式：\n",
    "\n",
    "```\n",
    "lambda argument1, argument2,... argumentN : expression using arguments\n",
    "```\n",
    "先看一下使用 def 语句创建函数："
   ]
  },
  {
   "cell_type": "code",
   "execution_count": 146,
   "metadata": {},
   "outputs": [
    {
     "data": {
      "text/plain": [
       "9"
      ]
     },
     "execution_count": 146,
     "metadata": {},
     "output_type": "execute_result"
    }
   ],
   "source": [
    "def func(x, y, z):\n",
    "    return x + y + z\n",
    "\n",
    "func(2, 3, 4)"
   ]
  },
  {
   "cell_type": "markdown",
   "metadata": {},
   "source": [
    "能够使用 lambda 表达式达到相同的效果，通过明确地将结果赋值给一个变量名，之后就能通过这个变量名调用这个函数。lambda 表达式所返回的函数对象与由 def 创建并赋值的函数对象工作起来是完全一样的。"
   ]
  },
  {
   "cell_type": "code",
   "execution_count": 147,
   "metadata": {},
   "outputs": [
    {
     "data": {
      "text/plain": [
       "9"
      ]
     },
     "execution_count": 147,
     "metadata": {},
     "output_type": "execute_result"
    }
   ],
   "source": [
    "f = lambda x, y, z: x + y + z\n",
    "f(2, 3, 4)"
   ]
  },
  {
   "cell_type": "markdown",
   "metadata": {},
   "source": [
    "默认参数也可以在 lambda 参数中使用，就像在 def 中使用一样："
   ]
  },
  {
   "cell_type": "code",
   "execution_count": 148,
   "metadata": {},
   "outputs": [
    {
     "data": {
      "text/plain": [
       "'weefiefoe'"
      ]
     },
     "execution_count": 148,
     "metadata": {},
     "output_type": "execute_result"
    }
   ],
   "source": [
    "x = (lambda a=\"fee\", b=\"fie\", c=\"foe\": a + b + c)\n",
    "x(\"wee\")"
   ]
  },
  {
   "cell_type": "markdown",
   "metadata": {},
   "source": [
    "## 4.2 为什么使用lambda\n",
    "\n",
    "通常来说，lambda 起到了一种函数速写的作用，允许在使用的代码内嵌入一个函数的定义。它完全是可选的，你总是能用 def 来替代它，但是在你仅需要嵌入小段可执行代码的情况下它会带来更简洁的代码结构。\n",
    "\n",
    "lambda 通常用来编写跳转表(jump table)，也就是行为的列表或字典，能够按照需要执行相应的动作。如下段代码所示："
   ]
  },
  {
   "cell_type": "code",
   "execution_count": 149,
   "metadata": {},
   "outputs": [
    {
     "name": "stdout",
     "output_type": "stream",
     "text": [
      "4\n",
      "8\n",
      "16\n"
     ]
    }
   ],
   "source": [
    "L = [lambda x: x ** 2,              # Inline function definition\n",
    "    lambda x: x ** 3,\n",
    "    lambda x: x ** 4]               # A list of three callable functions\n",
    "\n",
    "for f in L:\n",
    "    print(f(2))"
   ]
  },
  {
   "cell_type": "code",
   "execution_count": 150,
   "metadata": {},
   "outputs": [
    {
     "name": "stdout",
     "output_type": "stream",
     "text": [
      "9\n"
     ]
    }
   ],
   "source": [
    "print(L[0](3))"
   ]
  },
  {
   "cell_type": "markdown",
   "metadata": {},
   "source": [
    "对等的 def 代码会产生临时性函数名称和函数定义："
   ]
  },
  {
   "cell_type": "code",
   "execution_count": 151,
   "metadata": {},
   "outputs": [
    {
     "name": "stdout",
     "output_type": "stream",
     "text": [
      "4\n",
      "8\n",
      "16\n",
      "9\n"
     ]
    }
   ],
   "source": [
    "def f1(x): return x ** 2\n",
    "def f2(x): return x ** 3            # Define named functions\n",
    "def f3(x): return x ** 4\n",
    "\n",
    "L = [f1, f2, f3]                    # Reference by name\n",
    "\n",
    "for f in L:\n",
    "    print(f(2))                     # Prints 4, 8, 16\n",
    "print(L[0](3))                      # Prints 9"
   ]
  },
  {
   "cell_type": "markdown",
   "metadata": {},
   "source": [
    "我们可以用 Python 中的字典或者其它的数据结构来构建更多种类的行为表，从而做同样的事情。"
   ]
  },
  {
   "cell_type": "code",
   "execution_count": 152,
   "metadata": {},
   "outputs": [
    {
     "data": {
      "text/plain": [
       "8"
      ]
     },
     "execution_count": 152,
     "metadata": {},
     "output_type": "execute_result"
    }
   ],
   "source": [
    "key = 'got'\n",
    "{'already': (lambda: 2 + 2),\n",
    "'got': (lambda: 2 * 4),\n",
    "'one': (lambda: 2 ** 6)}[key]()"
   ]
  },
  {
   "cell_type": "markdown",
   "metadata": {},
   "source": [
    "如果不是用 lambda 做这种工作，需要使用三个 def 语句来替代，也就是在这些函数将会使用的那个字典外的某处需要定义这些函数。"
   ]
  },
  {
   "cell_type": "code",
   "execution_count": 153,
   "metadata": {},
   "outputs": [
    {
     "data": {
      "text/plain": [
       "64"
      ]
     },
     "execution_count": 153,
     "metadata": {},
     "output_type": "execute_result"
    }
   ],
   "source": [
    "def f1(): return 2 + 2\n",
    "def f2(): return 2 * 4\n",
    "def f3(): return 2 ** 6\n",
    "\n",
    "key = 'one'\n",
    "{'already': f1, 'got': f2, 'one': f3}[key]()"
   ]
  },
  {
   "cell_type": "markdown",
   "metadata": {},
   "source": [
    "如果这里的三个函数**不会在其它的地方使用到**，那么将它们的定义作为 lambda 嵌入在字典中就是很合理的做法。不仅如此，def 格式要求为这三个函数创建变量名，这些变量名也许会与文件中的其它变量名发生冲突。"
   ]
  },
  {
   "cell_type": "markdown",
   "metadata": {},
   "source": [
    "## 4.3 嵌套 lambda 和作用域\n",
    "\n",
    "lambda 是嵌套函数作用域查找（LEGB原则中的E）的最大受益者。很典型的情况是：lambda 出现在 def 中，嵌套的 lambda 能够获取到上层函数作用域中的变量名 x 的值。"
   ]
  },
  {
   "cell_type": "code",
   "execution_count": 154,
   "metadata": {},
   "outputs": [
    {
     "data": {
      "text/plain": [
       "<function __main__.action.<locals>.<lambda>(y)>"
      ]
     },
     "execution_count": 154,
     "metadata": {},
     "output_type": "execute_result"
    }
   ],
   "source": [
    "def action(x):\n",
    "    return (lambda y: x + y) # Make and return function, remember x\n",
    "\n",
    "act = action(99)\n",
    "act\n",
    "# act()"
   ]
  },
  {
   "cell_type": "code",
   "execution_count": 155,
   "metadata": {},
   "outputs": [
    {
     "data": {
      "text/plain": [
       "101"
      ]
     },
     "execution_count": 155,
     "metadata": {},
     "output_type": "execute_result"
    }
   ],
   "source": [
    "act(2)"
   ]
  },
  {
   "cell_type": "markdown",
   "metadata": {},
   "source": [
    "lambda 也能获取任意上层 lambda 中的变量名。这种情况代码读起来有些晦涩："
   ]
  },
  {
   "cell_type": "code",
   "execution_count": 156,
   "metadata": {},
   "outputs": [
    {
     "data": {
      "text/plain": [
       "102"
      ]
     },
     "execution_count": 156,
     "metadata": {},
     "output_type": "execute_result"
    }
   ],
   "source": [
    "action = (lambda x: (lambda y: x + y))\n",
    "act = action(99)\n",
    "act(3)"
   ]
  },
  {
   "cell_type": "code",
   "execution_count": 157,
   "metadata": {},
   "outputs": [
    {
     "data": {
      "text/plain": [
       "103"
      ]
     },
     "execution_count": 157,
     "metadata": {},
     "output_type": "execute_result"
    }
   ],
   "source": [
    "((lambda x: (lambda y: x + y))(99))(4)"
   ]
  },
  {
   "cell_type": "markdown",
   "metadata": {},
   "source": [
    "但是，**出于对代码可读性的要求，通常最好避免使用嵌套的 lambda。**"
   ]
  },
  {
   "cell_type": "markdown",
   "metadata": {},
   "source": [
    "# 5. 模块(module)\n",
    "\n",
    "函数的优点之一是，使用它们可将代码块与主程序分离。通过给函数指定描述性名称，可让主程序容易理解得多。你还可以更进一步，将函数存储在被称为模块的独立文件中，再将模块导入到主程序中。"
   ]
  },
  {
   "cell_type": "markdown",
   "metadata": {},
   "source": [
    "## 5.1 Python 程序架构\n",
    "\n",
    "此前我们看到的 Python 程序都是交互模式命令或单一文件，实际上除了简单的脚本之外，程序都会采用多文件系统的形式。而且即使自己只编写单个文件，几乎一定会使用到他人已经写好的外部文件。\n",
    "\n",
    "一般来讲，一个 Python 程序包含了一个主体的、顶层的文件，配合有零个或多个支持的文件，在 Python 中这些文件称作模块。其中顶层文件是运行启动的文件，它包含了程序的主要控制流程。\n",
    "\n",
    "下面的例子是一个包含有三个文件的 Python 程序示意图。文件 a.py 是顶层文件，它是一个含有语句的简单文本文件。文件 b.py 和 c.py 是模块，它们也是含有语句的简单文本文件，但是它们通常并不是直接运行。\n",
    "\n",
    "![img](images/chapter06/program_architecture.png)"
   ]
  },
  {
   "cell_type": "markdown",
   "metadata": {},
   "source": [
    "## 5.2 为什么使用模块\n",
    "\n",
    "- 代码重用\n",
    "      不像在 Python 交互提示模式输入的代码在退出时就消失了，模块文件中的代码是永久的。你可以按需多次重新载入和重新运行模块。\n",
    "\n",
    "- 系统命名空间的划分\n",
    "      模块是 Python 中最高级别的程序组织单元。模块将变量名封装起来，这点对于避免变量名的冲突很有帮助。\n",
    "\n",
    "\n",
    "- 实现共享服务和数据\n",
    "      从操作性的角度来看，模块对实现跨系统共享的组件是很方便的，而且只需要一个拷贝即可。例如，如果需要一个全局对象可以被一个以上的函数或文件使用，你可以将它编写在一个模块中以便被多个客户程序导入。知道如何导入模块还能让你使用其他程序员编写的函数库。"
   ]
  },
  {
   "cell_type": "markdown",
   "metadata": {},
   "source": [
    "## 5.3 导入整个模块\n",
    "\n",
    "模块是扩展名为 .py 的文件，包含要导入到程序中的代码。下面来创建一个包含函数 make_pizza()的模块，并保存在 pizza.py 文件中："
   ]
  },
  {
   "cell_type": "code",
   "execution_count": 158,
   "metadata": {},
   "outputs": [],
   "source": [
    "# pizza.py\n",
    "\n",
    "def make_pizza(size, *toppings):\n",
    "    print('Making a ' + str(size) + '-inch pizza with the following toppings:')\n",
    "    for topping in toppings:\n",
    "        print(\"- \" + topping)"
   ]
  },
  {
   "cell_type": "markdown",
   "metadata": {},
   "source": [
    "接下来，我们在 pizza.py 所在的目录中创建另一个名为 making_pizzas.py 的文件。这个文件使用 import 语句导入刚创建的 pizza.py 模块，再调用模块内的 make_pizza() 函数两次："
   ]
  },
  {
   "cell_type": "code",
   "execution_count": 159,
   "metadata": {
    "scrolled": true
   },
   "outputs": [
    {
     "name": "stdout",
     "output_type": "stream",
     "text": [
      "Making a 16-inch pizza with the following toppings:\n",
      "- pepperoni\n",
      "Making a 12-inch pizza with the following toppings:\n",
      "- mushrooms\n",
      "- green peppers\n",
      "- extra cheese\n"
     ]
    }
   ],
   "source": [
    "# making_pizzas.py\n",
    "from demo_code import pizza\n",
    "\n",
    "pizza.make_pizza(16, 'pepperoni')\n",
    "pizza.make_pizza(12, 'mushrooms', 'green peppers', 'extra cheese')"
   ]
  },
  {
   "cell_type": "markdown",
   "metadata": {},
   "source": [
    "### import 如何工作\n",
    "\n",
    "与 C/C++ 语言中的 #include 不同，Python 导入并非只是把一个文件的文本插入到另一个文件中。导入其实是运行时的运算，程序第一次导入指定文件时，会执行三个步骤：\n",
    "\n",
    "- 找到模块文件\n",
    "      首先，Python 必须搜索到 import 语句所引用的模块文件。搜索文件的路径包括程序主目录、PATHONPATH目录、标准链接库目录和 .pth 文件中指定的路径。\n",
    "\n",
    "- 编译成字节码（可选）\n",
    "      Python 会检查文件的时间戳，如果发现字节码文件比源代码文件要旧，就会在程序运行时自动重新生成字节码；反之，则跳过从源代码到字节码的编译步骤。\n",
    "\n",
    "- 运行模块代码\n",
    "      import 操作的最后步骤是执行模块的字节码。文件中所有语句都会从头至尾顺序执行。如果模块文件中顶层代码缺失做了什么实际的工作，你就会在导入时看见其结果。例如，模块内顶层的 print 语句会显示其输出；而函数的 def 语句只是简单地定义了稍后使用的对象。"
   ]
  },
  {
   "cell_type": "markdown",
   "metadata": {},
   "source": [
    "## 5.4 导入特定的函数"
   ]
  },
  {
   "cell_type": "markdown",
   "metadata": {},
   "source": [
    "你还可以导入模块中的特定函数，这种导入方法的语法如下：\n",
    "```python\n",
    "from module_name import function_name\n",
    "```"
   ]
  },
  {
   "cell_type": "markdown",
   "metadata": {},
   "source": [
    "通过用逗号分隔函数名，可根据需要从模块中导入任意数量的函数：\n",
    "```python\n",
    "from module_name import function_0, function_1, function_2\n",
    "```"
   ]
  },
  {
   "cell_type": "markdown",
   "metadata": {},
   "source": [
    "对于前面的 making_pizzas.py 示例，如果只想导入要使用的函数，代码将类似于下面这样："
   ]
  },
  {
   "cell_type": "code",
   "execution_count": 160,
   "metadata": {},
   "outputs": [
    {
     "name": "stdout",
     "output_type": "stream",
     "text": [
      "Making a 16-inch pizza with the following toppings:\n",
      "- pepperoni\n",
      "Making a 12-inch pizza with the following toppings:\n",
      "- mushrooms\n",
      "- green peppers\n",
      "- extra cheese\n"
     ]
    }
   ],
   "source": [
    "from demo_code.pizza import make_pizza\n",
    "\n",
    "make_pizza(16, 'pepperoni')\n",
    "make_pizza(12, 'mushrooms', 'green peppers', 'extra cheese')"
   ]
  },
  {
   "cell_type": "markdown",
   "metadata": {},
   "source": [
    "若使用这种语法，调用函数时就无需使用句点。由于我们在 import 语句中显式地导入了函数 make_pizza()，因此调用它时只需指定其名称。"
   ]
  },
  {
   "cell_type": "markdown",
   "metadata": {},
   "source": [
    "## 5.5 使用 as 给模块指定别名"
   ]
  },
  {
   "cell_type": "markdown",
   "metadata": {},
   "source": [
    "如果要导入的函数的名称可能与程序中现有的名称冲突，或者函数的名称太长，可指定简短而独一无二的别名——函数的另一个名称。要给函数指定这种特殊外号，需要在导入它时这样做。关键字 as 将函数重命名为你提供的别名，指定别名的通用语法如下：\n",
    "```python\n",
    "from module_name import function_name as fn\n",
    "```\n",
    "在此前的示例代码中，大家已经见过："
   ]
  },
  {
   "cell_type": "code",
   "execution_count": 161,
   "metadata": {},
   "outputs": [],
   "source": [
    "import numpy as np\n",
    "import matplotlib.pyplot as plt"
   ]
  },
  {
   "cell_type": "markdown",
   "metadata": {},
   "source": [
    "下面给函数 make_pizza() 指定了别名 mp()。这是在 import 语句中使用 **make_pizza as mp** 实现的："
   ]
  },
  {
   "cell_type": "code",
   "execution_count": 162,
   "metadata": {},
   "outputs": [
    {
     "name": "stdout",
     "output_type": "stream",
     "text": [
      "Making a 16-inch pizza with the following toppings:\n",
      "- pepperoni\n",
      "Making a 12-inch pizza with the following toppings:\n",
      "- mushrooms\n",
      "- green peppers\n",
      "- extra cheese\n"
     ]
    }
   ],
   "source": [
    "from demo_code.pizza import make_pizza as mp\n",
    "\n",
    "mp(16, 'pepperoni')\n",
    "mp(12, 'mushrooms', 'green peppers', 'extra cheese')"
   ]
  },
  {
   "cell_type": "markdown",
   "metadata": {},
   "source": [
    "上面的 import 语句将函数 make_pizza() 重命名为 mp()；在这个程序中，每当需要调用 make_pizza()时，都可简写成 mp()，而 Python 将运行make_pizza() 中的代码，这可避免与这个程序可能包含的函数 make_pizza() 混淆。"
   ]
  },
  {
   "cell_type": "markdown",
   "metadata": {},
   "source": [
    "## 5.6 导入模块中的所有函数\n",
    "\n",
    "使用星号（\\*）运算符可让 Python 导入模块顶层所有赋了值的变量名的拷贝："
   ]
  },
  {
   "cell_type": "code",
   "execution_count": 163,
   "metadata": {
    "scrolled": true
   },
   "outputs": [
    {
     "name": "stdout",
     "output_type": "stream",
     "text": [
      "Making a 16-inch pizza with the following toppings:\n",
      "- pepperoni\n",
      "Making a 12-inch pizza with the following toppings:\n",
      "- mushrooms\n",
      "- green peppers\n",
      "- extra cheese\n"
     ]
    }
   ],
   "source": [
    "from demo_code.pizza import *\n",
    "\n",
    "make_pizza(16, 'pepperoni')\n",
    "make_pizza(12, 'mushrooms', 'green peppers', 'extra cheese')"
   ]
  },
  {
   "cell_type": "markdown",
   "metadata": {},
   "source": [
    "import 语句中的星号让 Python 将模块 pizza 中的每个函数都复制到这个程序文件中。由于导入了每个函数，可通过名称来调用每个函数，而无需使用句点表示法。然而，使用并非自己编写的大型模块时，最好**不要**采用这种导入方法：如果模块中有函数的名称与你的项目中使用的名称相同，可能导致意想不到的结果：Python 可能遇到多个名称相同的函数或变量，进而覆盖函数，而不是分别导入所有的函数。\n",
    "\n",
    "最佳的做法是，要么**只导入你需要使用的函数**，要么**导入整个模块并使用句点表示法**。这能让代码更清晰，更容易阅读和理解。这里之所以介绍这种导入方法，只是想让你在阅读别人编写的代码时，如果遇到类似于的 import 语句，能够理解它们。"
   ]
  },
  {
   "cell_type": "markdown",
   "metadata": {},
   "source": [
    "## 5.7 导入只发生一次\n",
    "\n",
    "\n",
    "使用模块时，初学者最常问的问题之一是：“为什么我的导入不是一直有效？”他们经常报告说，第一次导入运作良好，但是在交互式会话模式期间，之后的导入似乎就没有效果了。\n",
    "\n",
    "事实上，这是有意而为之，因为模块的导入操作开销较大。所以 Python 对每个文件的每个进程只做一次导入操作，之后的导入操作都只会取出已加载好的模块对象。"
   ]
  },
  {
   "cell_type": "markdown",
   "metadata": {},
   "source": [
    "例如有如下的 simple.py 文件\n",
    "\n",
    "```\n",
    "print('hello')\n",
    "spam = 1\n",
    "```\n",
    "\n",
    "然后将该文件导入："
   ]
  },
  {
   "cell_type": "code",
   "execution_count": 164,
   "metadata": {},
   "outputs": [],
   "source": [
    "from demo_code import simple    # First import"
   ]
  },
  {
   "cell_type": "code",
   "execution_count": 165,
   "metadata": {},
   "outputs": [
    {
     "data": {
      "text/plain": [
       "1"
      ]
     },
     "execution_count": 165,
     "metadata": {},
     "output_type": "execute_result"
    }
   ],
   "source": [
    "simple.spam         # Assignment makes an attribute"
   ]
  },
  {
   "cell_type": "markdown",
   "metadata": {},
   "source": [
    "第二次和其后的导入并不会重新执行此模块的代码，只是从 Python 内部模块表中取出已创建的模块对象。"
   ]
  },
  {
   "cell_type": "code",
   "execution_count": 166,
   "metadata": {},
   "outputs": [
    {
     "data": {
      "text/plain": [
       "2"
      ]
     },
     "execution_count": 166,
     "metadata": {},
     "output_type": "execute_result"
    }
   ],
   "source": [
    "simple.spam = 2         # Change attribute in module\n",
    "from demo_code import simple     # Just feteches already loaded module\n",
    "simple.spam            # Code wasn't rerun"
   ]
  },
  {
   "cell_type": "markdown",
   "metadata": {},
   "source": [
    "### 5.7.1重载模块\n",
    "\n",
    "要强制使模块代码重新载入并重新运行，你得可以要求 Python 这么做，也就是调用 **reload** 内置函数。**reload** 函数会强制已加载的模块代码重新载入并重新执行。因此，利用 reload 可以立即看到对组件修改的效果。\n",
    "\n",
    "除了可以在交互会话模式中重载模块外，模块重载在较大系统中也有用处，在重新启动整个应用程序的代价太大时尤其如此。这样，Python程序代码本身就增加了一种动态性质。"
   ]
  },
  {
   "cell_type": "code",
   "execution_count": 167,
   "metadata": {},
   "outputs": [
    {
     "name": "stdout",
     "output_type": "stream",
     "text": [
      "hello\n"
     ]
    },
    {
     "data": {
      "text/plain": [
       "<module 'demo_code.simple' from 'D:\\\\Python\\\\python-deep-learning-github\\\\demo_code\\\\simple.py'>"
      ]
     },
     "execution_count": 167,
     "metadata": {},
     "output_type": "execute_result"
    }
   ],
   "source": [
    "from imp import reload\n",
    "reload(simple)"
   ]
  },
  {
   "cell_type": "code",
   "execution_count": 168,
   "metadata": {},
   "outputs": [
    {
     "data": {
      "text/plain": [
       "1"
      ]
     },
     "execution_count": 168,
     "metadata": {},
     "output_type": "execute_result"
    }
   ],
   "source": [
    "simple.spam"
   ]
  },
  {
   "cell_type": "markdown",
   "metadata": {},
   "source": [
    "## 5.8 模块陷阱\n",
    "\n",
    "### 5.8.1模块顶层代码语句的次序\n",
    "\n",
    "当模块首次导入时，Python 会从头到尾执行语句。这里有些和前向引用(forward reference)相关的定义，值得在此强调：\n",
    "\n",
    "- 在导入时，模块文件顶层的程序代码（不在函数内）会顺序执行。因此，该语句无法引用后面位置赋值的变量名\n",
    "\n",
    "\n",
    "- 位于函数主体内的代码直到函数被调用后才会运行。因为函数内的变量名在函数实际执行前都不会解析，通常可以引用文件内任意地方的变量名\n",
    "\n",
    "一般来说，前向引用只对立即执行的顶层模块代码有影响，函数可以任意引用变量名。以下是前向引用的例子：\n",
    "\n",
    "```python\n",
    "func1()                # Error: \"func1\" not yet assigned\n",
    "\n",
    "def func1():\n",
    "    print(func2())     # OK: \"func2\" looked up later\n",
    "\n",
    "func1()                # Error: \"func2\" not yet assigned\n",
    "\n",
    "def func2():\n",
    "    return \"Hello\"\n",
    "\n",
    "func1()                # OK: \"func1\" and \"func2\" assigned\n",
    "```"
   ]
  },
  {
   "cell_type": "markdown",
   "metadata": {},
   "source": [
    "在顶层程序内混用 def 不仅难读，也造成了对语句顺序的依赖性。作为一条原则，如果需要把立即执行的代码和 def 一起混用，就要把 def 放在前面，把执行的代码放在后面。这样的话，你的函数在代码运行的时候，可以保证它们都已被定义并赋值过了。"
   ]
  },
  {
   "cell_type": "markdown",
   "metadata": {},
   "source": [
    "### 5.8.2 from 复制变量名，而不是连接\n",
    "\n",
    "from 语句也是 Python 中各种潜在陷阱的源头。from 语句其实是在导入者的作用域内对变量名的赋值语句，也就是变量名拷贝运算，而不是变量名的别名机制。它的实现和 Python 所有赋值运算一样，但是其微妙之处在于，**共享对象的代码存在于不同的文件中**。\n",
    "\n",
    "例如，假设我们定义了下列模块（nested.py）"
   ]
  },
  {
   "cell_type": "code",
   "execution_count": 169,
   "metadata": {},
   "outputs": [],
   "source": [
    "# nested.py\n",
    "X = 99\n",
    "def printer():\n",
    "    print(X)"
   ]
  },
  {
   "cell_type": "markdown",
   "metadata": {},
   "source": [
    "如果我们在另一个模块内使用 from 导入这两个变量名，就会得到两个变量名的拷贝，而不是对两个变量名的连接。在导入者内修改变量，只会重设该变量名在本地作用域版本的绑定值，而不是 nested1.py 中的变量名。"
   ]
  },
  {
   "cell_type": "code",
   "execution_count": 170,
   "metadata": {},
   "outputs": [
    {
     "name": "stdout",
     "output_type": "stream",
     "text": [
      "88\n"
     ]
    }
   ],
   "source": [
    "# nested2.py\n",
    "from demo_code.nested import X, printer # Copy names out\n",
    "X = 88 # Changes my \"X\" only!\n",
    "printer() # nested1's X is still 99"
   ]
  },
  {
   "cell_type": "markdown",
   "metadata": {},
   "source": [
    "然而，如果我们使用 import 获得了整个模块，然后赋值某个点号运算的变量名，就会修改 nested.py 中的变量名。点号运算把 Python 定向到了模块对象内的变量名，而不是导入者的变量名。"
   ]
  },
  {
   "cell_type": "code",
   "execution_count": 171,
   "metadata": {},
   "outputs": [
    {
     "name": "stdout",
     "output_type": "stream",
     "text": [
      "88\n"
     ]
    }
   ],
   "source": [
    "import demo_code.nested as nested # Get module as a whole\n",
    "nested.X = 88 # OK: change nested's X\n",
    "nested.printer()"
   ]
  },
  {
   "cell_type": "markdown",
   "metadata": {},
   "source": [
    "### 5.8.3 from import * 会让变量语义模糊\n",
    "\n",
    "使用 from module import * 语句时，因为没有列出想要的变量，可能会意外覆盖了作用域内已使用的变量名。更糟的是，很难确认变量来自何处。如果有一个以上的被导入文件使用了 from * 形式，就更是如此。\n",
    "\n",
    "例如在三个模块上使用 from * ，没有办法知道简单的函数调用真正含义，除非去搜索这三个外部的模块文件。\n",
    "\n",
    "```python\n",
    "from module1 import *   # Bad: may overwrite my names silently\n",
    "from module2 import *   # Worse: no way to tell what we get!\n",
    "from module3 import * \n",
    "\n",
    "func()                  # Huh???\n",
    "```"
   ]
  },
  {
   "cell_type": "markdown",
   "metadata": {},
   "source": [
    "解决方法就是 **不要这么做**。试着在 from 语句中明确列出想要的属性，而且限制在每个文件中最多只有一个被导入的模块使用 from * 这种形式。如果你总是使用 import ，就可以完全避开这个问题。"
   ]
  },
  {
   "cell_type": "markdown",
   "metadata": {},
   "source": [
    "## 5.9 混合用法模式：\\_\\_name\\_\\_ 和 \\_\\_main\\_\\_\n",
    "\n",
    "这是一个特殊的与模块相关的技巧。每个模块都有个名为\\_\\_name\\_\\_的内置属性，Python 会自动设置该属性：\n",
    "\n",
    "- 如果文件是以顶层程序文件执行，在启动时，\\_\\_name\\_\\_ 就会设置为字符串\"\\_\\_main\\_\\_\"\n",
    "\n",
    "\n",
    "- 如果文件被他人当做模块导入，\\_\\_name\\_\\_就会改设成调用者所了解的模块名\n",
    "\n",
    "因此，模块可以检测自己的\\_\\_name\\_\\_，来确定它是在执行还是被导入。"
   ]
  },
  {
   "cell_type": "code",
   "execution_count": 172,
   "metadata": {},
   "outputs": [
    {
     "name": "stdout",
     "output_type": "stream",
     "text": [
      "It's Christmas in Heaven...\n"
     ]
    }
   ],
   "source": [
    "# runme.py\n",
    "def tester():\n",
    "    print(\"It's Christmas in Heaven...\")\n",
    "\n",
    "if __name__ == '__main__': # Only when run\n",
    "    tester() # Not when imported"
   ]
  },
  {
   "cell_type": "markdown",
   "metadata": {},
   "source": [
    "这个模块定义了一个函数，让用户可以正常地导入并使用。\n",
    "\n",
    "\n",
    "```python\n",
    "import runme\n",
    "runme.tester()\n",
    "```\n",
    "\n",
    "然后，这个模块也在末尾包含了当此文件以程序执行时，就会调用该函数的代码：\n",
    "\n",
    "\n",
    "```sh\n",
    "$ python runme.py\n",
    "```"
   ]
  },
  {
   "cell_type": "markdown",
   "metadata": {},
   "source": [
    "也许使用\\_\\_name\\_\\_最常用的就是自我测试代码。在文件末尾加个\\_\\_name\\_\\_测试，把测试模块导出的程序代码放在模块中。实际上，在文件末端的\\_\\_name\\_\\_中的自我测试程序代码，可能是 Python 中最常见并且是最简单的单元测试协议。"
   ]
  },
  {
   "cell_type": "markdown",
   "metadata": {},
   "source": [
    "### 5.9.1 以\\_\\_name\\_\\_进行单元测试\n",
    "\n",
    "下面这段代码包含了自我测试程序代码。"
   ]
  },
  {
   "cell_type": "code",
   "execution_count": 173,
   "metadata": {},
   "outputs": [
    {
     "name": "stdout",
     "output_type": "stream",
     "text": [
      "1\n",
      "6\n"
     ]
    }
   ],
   "source": [
    "def minmax(test, *args):\n",
    "    res = args[0]\n",
    "    for arg in args[1:]:\n",
    "        if test(arg, res):\n",
    "            res = arg\n",
    "    return res\n",
    "    \n",
    "def lessthan(x, y): return x < y\n",
    "def grtrthan(x, y): return x > y\n",
    "    \n",
    "print(minmax(lessthan, 4, 2, 1, 5, 6, 3)) # Self-test code\n",
    "print(minmax(grtrthan, 4, 2, 1, 5, 6, 3))"
   ]
  },
  {
   "cell_type": "markdown",
   "metadata": {},
   "source": [
    "然而，这种写法的问题在于，每次这个文件被其他文件导入时，都会出现调用自我测试所得的输出。改进之后，我们在\\_\\_name\\_\\_检查区块内封装了自我测试的调用，使其在文件作为顶层脚本执行时才会启动，而在被导入时不会启动。"
   ]
  },
  {
   "cell_type": "code",
   "execution_count": 174,
   "metadata": {},
   "outputs": [
    {
     "name": "stdout",
     "output_type": "stream",
     "text": [
      "I am: __main__\n",
      "1\n",
      "6\n"
     ]
    }
   ],
   "source": [
    "print('I am:', __name__)\n",
    "\n",
    "def minmax(test, *args):\n",
    "    res = args[0]\n",
    "    for arg in args[1:]:\n",
    "        if test(arg, res):\n",
    "            res = arg\n",
    "    return res\n",
    "\n",
    "def lessthan(x, y): return x < y\n",
    "def grtrthan(x, y): return x > y\n",
    "\n",
    "if __name__ == '__main__':\n",
    "    print(minmax(lessthan, 4, 2, 1, 5, 6, 3)) # Self-test code\n",
    "    print(minmax(grtrthan, 4, 2, 1, 5, 6, 3))"
   ]
  },
  {
   "cell_type": "markdown",
   "metadata": {},
   "source": [
    "这里在顶端打印\\_\\_name\\_\\_的值，目的是跟踪它的值。Python 开始加载文件时，就自动创建了这个变量并对其赋值。"
   ]
  },
  {
   "cell_type": "markdown",
   "metadata": {},
   "source": [
    "## 5.10 模块设计理念\n",
    "\n",
    "当编写包含多个文件的较大 Python 系统时，设计理念就会变得重要起来：\n",
    "\n",
    "- 总是在 Python 的模块内编写代码\n",
    "      封装\n",
    "\n",
    "- 模块间耦合性要降到最低\n",
    "      一个模块应该尽可能与其它模块的全局变量无关，除了与从其它模块导入的函数和类\n",
    "\n",
    "- 最大化模块的内聚性\n",
    "      通过最大化模块内的内聚性来最小化模块间的耦合性。如果一个模块的所有元素都享有共同的目的，就不太可能依赖外部的变量名\n",
    "\n",
    "- 模块应该少去修改其它模块的变量\n",
    "      修改另一个模块内的全局变量，这通常是出现设计问题的征兆。应该试着通过函数参数返回值去传递结果，而不是跨模块的修改。否则全局变量的值会变成依赖于其它文件内的赋值语句的顺序，从而模块会变的难以理解和再利用"
   ]
  },
  {
   "cell_type": "markdown",
   "metadata": {},
   "source": [
    "# 练习\n",
    "\n",
    "1. 写一个函数，判断其输入是奇数还是偶数\n",
    "\n",
    "\n",
    "2. 给定一个整数数组 nums 和一个目标值 target，请在该数组中找出和为目标值的那两个整数，并返回它们的数组下标。（假设每种输入有且只有一个答案。不能重复利用数组中同一个元素）\n",
    "\n",
    "示例 1：给定 nums = [2, 7, 11, 15, 6], target = 9\n",
    "\n",
    "- 因为 nums[0] + nums[1] = 2 + 7 = 9，所以返回 [0, 1]\n",
    "\n",
    "示例 2：nums = [3, 3], target = 6\n",
    "- 返回 [0, 1]\n",
    "\n",
    "```python\n",
    "def twoSum(nums, target):\n",
    "    \"\"\"\n",
    "    :type nums: List[int]\n",
    "    :type target: int\n",
    "    :rtype: List[int]\n",
    "    \"\"\"\n",
    "```\n",
    "\n",
    "3. 实现 mySqrt(x) 函数，计算并返回 x 的平方根，其中 x 是非负整数。函数返回类型是浮点数，结果保留小数点后一位即可。\n",
    "\n",
    "示例 1：输入: 4        输出: 2.0\n",
    "\n",
    "示例 2：输入: 8        输出: 2.8\n",
    "\n",
    "注：不允许使用内置 sqrt 函数、pow 函数和 x**0.5 方法"
   ]
  }
 ],
 "metadata": {
  "kernelspec": {
   "display_name": "Python 3 (ipykernel)",
   "language": "python",
   "name": "python3"
  },
  "language_info": {
   "codemirror_mode": {
    "name": "ipython",
    "version": 3
   },
   "file_extension": ".py",
   "mimetype": "text/x-python",
   "name": "python",
   "nbconvert_exporter": "python",
   "pygments_lexer": "ipython3",
   "version": "3.9.7"
  },
  "toc": {
   "base_numbering": 1,
   "nav_menu": {},
   "number_sections": false,
   "sideBar": true,
   "skip_h1_title": false,
   "title_cell": "Table of Contents",
   "title_sidebar": "Contents",
   "toc_cell": false,
   "toc_position": {
    "height": "calc(100% - 180px)",
    "left": "10px",
    "top": "150px",
    "width": "403px"
   },
   "toc_section_display": true,
   "toc_window_display": true
  }
 },
 "nbformat": 4,
 "nbformat_minor": 2
}
