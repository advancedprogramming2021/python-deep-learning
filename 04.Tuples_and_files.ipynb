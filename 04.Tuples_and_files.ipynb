{
 "cells": [
  {
   "cell_type": "markdown",
   "metadata": {},
   "source": [
    "# 1. 元组(Tuple)"
   ]
  },
  {
   "cell_type": "markdown",
   "metadata": {},
   "source": [
    "元组由简单的对象组构成，与列表非常类似，它的大部分执行操作在介绍列表时已经学过了，只不过元组是不可变的。元组通常写成圆括号（而不是方括号）的形式。虽然元组不支持多数方法调用，但元组具有列表的大多数属性。\n",
    "\n",
    "- 任意对象的有序集合\n",
    "      与字符串和列表类似，元组是一个位置有序的对象的集合（也就是其内容维持从左到右的顺序）。与列表相同，可以嵌入到任何类别的对象中。\n",
    "\n",
    "- 通过偏移存取\n",
    "      同字符串和列表一样，在元组中的元素通过偏移（而不是键）来访问，它们支持所有基于偏移的操作。例如，索引和分片。\n",
    "\n",
    "- 属于不可变序列类型\n",
    "      类似于字符串，元组是不可变的，它不支持任何原处修改操作。\n",
    "      \n",
    "- 固定长度、异构、任意嵌套\n",
    "      因为元组是不可变的，在不生成一个拷贝的情况下不能增长或缩短。另一方面，元组可以嵌套包含其它复合对象（例如列表、字典和其它元组等）。\n",
    "      \n",
    "- 对象引用的数组\n",
    "      元组存储指向其它对象的引用，因此对元组进行索引操作的速度相对较快。"
   ]
  },
  {
   "cell_type": "code",
   "execution_count": 1,
   "metadata": {},
   "outputs": [
    {
     "data": {
      "text/plain": [
       "tuple"
      ]
     },
     "execution_count": 1,
     "metadata": {},
     "output_type": "execute_result"
    }
   ],
   "source": [
    "type((1, 2))"
   ]
  },
  {
   "cell_type": "code",
   "execution_count": 2,
   "metadata": {},
   "outputs": [
    {
     "data": {
      "text/plain": [
       "(1, 2, 3, 4)"
      ]
     },
     "execution_count": 2,
     "metadata": {},
     "output_type": "execute_result"
    }
   ],
   "source": [
    "(1, 2) + (3, 4)         # Concatenation"
   ]
  },
  {
   "cell_type": "code",
   "execution_count": 3,
   "metadata": {},
   "outputs": [
    {
     "data": {
      "text/plain": [
       "(1, 2, 1, 2, 1, 2, 1, 2)"
      ]
     },
     "execution_count": 3,
     "metadata": {},
     "output_type": "execute_result"
    }
   ],
   "source": [
    "(1, 2) * 4              # Repetition"
   ]
  },
  {
   "cell_type": "code",
   "execution_count": 4,
   "metadata": {},
   "outputs": [
    {
     "data": {
      "text/plain": [
       "(1, (2, 3))"
      ]
     },
     "execution_count": 4,
     "metadata": {},
     "output_type": "execute_result"
    }
   ],
   "source": [
    "T = (1, 2, 3, 4)        # Indexing, slicing\n",
    "T[0], T[1:3]"
   ]
  },
  {
   "cell_type": "markdown",
   "metadata": {},
   "source": [
    "如果圆括号里的唯一对象是一个表达式，则不是元组；如果确认需要构造一个元组，需要在这个对象之后加一个逗号。"
   ]
  },
  {
   "cell_type": "code",
   "execution_count": 5,
   "metadata": {},
   "outputs": [
    {
     "data": {
      "text/plain": [
       "40"
      ]
     },
     "execution_count": 5,
     "metadata": {},
     "output_type": "execute_result"
    }
   ],
   "source": [
    "x = (40)\n",
    "x"
   ]
  },
  {
   "cell_type": "code",
   "execution_count": 6,
   "metadata": {},
   "outputs": [
    {
     "data": {
      "text/plain": [
       "(40,)"
      ]
     },
     "execution_count": 6,
     "metadata": {},
     "output_type": "execute_result"
    }
   ],
   "source": [
    "y = (40, )\n",
    "y"
   ]
  },
  {
   "cell_type": "markdown",
   "metadata": {},
   "source": [
    "## 1.1 转换\n",
    "\n",
    "如果想对元组进行排序，通常先得将它转换为列表（成为可变对象），才能获得使用排序方法调用的权限。或者使用 Python 内置的 **sorted()** 方法："
   ]
  },
  {
   "cell_type": "code",
   "execution_count": 7,
   "metadata": {},
   "outputs": [
    {
     "data": {
      "text/plain": [
       "['aa', 'bb', 'cc', 'dd']"
      ]
     },
     "execution_count": 7,
     "metadata": {},
     "output_type": "execute_result"
    }
   ],
   "source": [
    "T = ('cc', 'aa', 'dd', 'bb')\n",
    "tmp = list(T)                # Make a list from a tuple's items\n",
    "tmp.sort()                   # Sort the list\n",
    "tmp"
   ]
  },
  {
   "cell_type": "code",
   "execution_count": 8,
   "metadata": {},
   "outputs": [
    {
     "data": {
      "text/plain": [
       "('aa', 'bb', 'cc', 'dd')"
      ]
     },
     "execution_count": 8,
     "metadata": {},
     "output_type": "execute_result"
    }
   ],
   "source": [
    "T = tuple(tmp)               # Make a tuple from the list's items\n",
    "T"
   ]
  },
  {
   "cell_type": "code",
   "execution_count": 9,
   "metadata": {},
   "outputs": [
    {
     "data": {
      "text/plain": [
       "['aa', 'bb', 'cc', 'dd']"
      ]
     },
     "execution_count": 9,
     "metadata": {},
     "output_type": "execute_result"
    }
   ],
   "source": [
    "T = ('cc', 'aa', 'dd', 'bb')\n",
    "sorted(T)                    # Or use the sorted built-in, and save two steps"
   ]
  },
  {
   "cell_type": "markdown",
   "metadata": {},
   "source": [
    "列表解析也可用于元组的转换："
   ]
  },
  {
   "cell_type": "code",
   "execution_count": 10,
   "metadata": {},
   "outputs": [
    {
     "data": {
      "text/plain": [
       "[21, 22, 23, 24, 25]"
      ]
     },
     "execution_count": 10,
     "metadata": {},
     "output_type": "execute_result"
    }
   ],
   "source": [
    "T = (1, 2, 3, 4, 5)\n",
    "L = [x + 20 for x in T]      # 元组逐项加上20，构造出新的列表\n",
    "L"
   ]
  },
  {
   "cell_type": "markdown",
   "metadata": {},
   "source": [
    "## 1.2 方法\n",
    "\n",
    "元组包含两个方法 **index()** 和 **count()**，分别用来获取指定元素的下标和获取指定元素在元组中出现的次数："
   ]
  },
  {
   "cell_type": "code",
   "execution_count": 11,
   "metadata": {},
   "outputs": [
    {
     "data": {
      "text/plain": [
       "4"
      ]
     },
     "execution_count": 11,
     "metadata": {},
     "output_type": "execute_result"
    }
   ],
   "source": [
    "T = (1, 2, 3, 2, 4, 2)       # Tuple methods in 2.6, 3.0, and later\n",
    "T.index(4)                   # Offset of first appearance of 4"
   ]
  },
  {
   "cell_type": "code",
   "execution_count": 12,
   "metadata": {},
   "outputs": [
    {
     "data": {
      "text/plain": [
       "1"
      ]
     },
     "execution_count": 12,
     "metadata": {},
     "output_type": "execute_result"
    }
   ],
   "source": [
    "T.index(2)"
   ]
  },
  {
   "cell_type": "code",
   "execution_count": 13,
   "metadata": {},
   "outputs": [
    {
     "data": {
      "text/plain": [
       "3"
      ]
     },
     "execution_count": 13,
     "metadata": {},
     "output_type": "execute_result"
    }
   ],
   "source": [
    "T.index(2, 2)                # Offset of appearance after offset 2"
   ]
  },
  {
   "cell_type": "code",
   "execution_count": 14,
   "metadata": {},
   "outputs": [
    {
     "data": {
      "text/plain": [
       "5"
      ]
     },
     "execution_count": 14,
     "metadata": {},
     "output_type": "execute_result"
    }
   ],
   "source": [
    "tu = ('hello', 333,  (44, 55,), [(888, 999,)], 54, 333, True)\n",
    "v = tu.index(333, 4, 7)      # 待查询下标的元素, 查询起始索引，查询终止索引 \n",
    "v"
   ]
  },
  {
   "cell_type": "code",
   "execution_count": 15,
   "metadata": {},
   "outputs": [
    {
     "data": {
      "text/plain": [
       "3"
      ]
     },
     "execution_count": 15,
     "metadata": {},
     "output_type": "execute_result"
    }
   ],
   "source": [
    "T.count(2)                   # How many 2s are there?"
   ]
  },
  {
   "cell_type": "markdown",
   "metadata": {},
   "source": [
    "## 1.3 不可变性\n",
    "\n",
    "元组是不可变的，尝试改变其内容将会报错。"
   ]
  },
  {
   "cell_type": "code",
   "execution_count": 16,
   "metadata": {},
   "outputs": [],
   "source": [
    "T = (1, [2, 3], 4)\n",
    "# T[1] = 'spam'          # This fails: can't change tuple itself"
   ]
  },
  {
   "cell_type": "markdown",
   "metadata": {},
   "source": [
    "但是，元组的不可变性只适用于元组本身顶层而并非其内容。例如，元组内部的列表是可以修改的："
   ]
  },
  {
   "cell_type": "code",
   "execution_count": 17,
   "metadata": {},
   "outputs": [
    {
     "data": {
      "text/plain": [
       "(1, ['spam', 3], 4)"
      ]
     },
     "execution_count": 17,
     "metadata": {},
     "output_type": "execute_result"
    }
   ],
   "source": [
    "T[1][0] = 'spam'         # This works: can change mutables inside\n",
    "T"
   ]
  },
  {
   "cell_type": "markdown",
   "metadata": {},
   "source": [
    "### 为什么有了列表还要元组？\n",
    "\n",
    "元组的不可变性提供了某种完整性。这样可以确保元组在程序中不会被另一个引用修改，而列表就没有这样的保证了。因此，元组类似于 C++ 中的 const 声明。"
   ]
  },
  {
   "cell_type": "markdown",
   "metadata": {},
   "source": [
    "# 2. 文件(File)"
   ]
  },
  {
   "cell_type": "markdown",
   "metadata": {},
   "source": [
    "## 文件对象\n",
    "\n",
    "文件对象与我们之前见过的其它类型不同，它不是数字、序列或映射，对表达式操作符没有相关响应，它们只包含通用文件处理的方法。文件对象的多数方法都与执行外部文件的输入输出操作有关，还有一些方法可以查找文件中新位置(seek())、刷新输出缓存(flush())。"
   ]
  },
  {
   "cell_type": "markdown",
   "metadata": {},
   "source": [
    "## 2.1 打开文件\n",
    "\n",
    "可以通过调用内置 **open()** 函数创建一个 Python 文件对象，它是计算机上的一个文件链接。调用 open() 函数的参数包含文件名和处理模式。\n",
    "\n",
    "```\n",
    "afile = open(filename, mode)\n",
    "afile.method()\n",
    "```\n",
    "\n",
    "处理模式使用字符串 'r' 代表读取文件（默认值），'w' 代表创建并写文件，'a' 代表在打开文件并在文件尾部追加内容。在模式字符串末尾加上 'b' 代表进行二进制数据处理，加上 '+' 代表同时进行读写操作。"
   ]
  },
  {
   "cell_type": "markdown",
   "metadata": {},
   "source": [
    "让我们看一个文件处理的简单例子。首先创建并打开一个新文件，写入两个字符串（以换行符 \\n 结束），之后关闭文件。"
   ]
  },
  {
   "cell_type": "code",
   "execution_count": 18,
   "metadata": {},
   "outputs": [
    {
     "data": {
      "text/plain": [
       "16"
      ]
     },
     "execution_count": 18,
     "metadata": {},
     "output_type": "execute_result"
    }
   ],
   "source": [
    "myfile = open('myfile.txt', 'w')           # Open for text output: create/empty\n",
    "myfile.write('hello text file\\n')          # Write a line of text: string, return the number of characters written"
   ]
  },
  {
   "cell_type": "code",
   "execution_count": 19,
   "metadata": {},
   "outputs": [
    {
     "data": {
      "text/plain": [
       "18"
      ]
     },
     "execution_count": 19,
     "metadata": {},
     "output_type": "execute_result"
    }
   ],
   "source": [
    "myfile.write('goodbye text file\\n')"
   ]
  },
  {
   "cell_type": "code",
   "execution_count": 20,
   "metadata": {},
   "outputs": [],
   "source": [
    "myfile.close()                             # Flush output buffers to disk"
   ]
  },
  {
   "cell_type": "markdown",
   "metadata": {},
   "source": [
    "然后我们再打开同一个文件，使用 **readline()** 方法逐行读取其内容。注意，第三个 readline() 返回空字符串，这代表已经到达文件底部。"
   ]
  },
  {
   "cell_type": "code",
   "execution_count": 21,
   "metadata": {},
   "outputs": [
    {
     "data": {
      "text/plain": [
       "'hello text file\\n'"
      ]
     },
     "execution_count": 21,
     "metadata": {},
     "output_type": "execute_result"
    }
   ],
   "source": [
    "myfile = open('myfile.txt', 'r')           # Open for text input: 'r' is default\n",
    "myfile.readline()                          # Read the lines back"
   ]
  },
  {
   "cell_type": "code",
   "execution_count": 22,
   "metadata": {},
   "outputs": [
    {
     "data": {
      "text/plain": [
       "'goodbye text file\\n'"
      ]
     },
     "execution_count": 22,
     "metadata": {},
     "output_type": "execute_result"
    }
   ],
   "source": [
    "myfile.readline()"
   ]
  },
  {
   "cell_type": "code",
   "execution_count": 23,
   "metadata": {},
   "outputs": [
    {
     "data": {
      "text/plain": [
       "''"
      ]
     },
     "execution_count": 23,
     "metadata": {},
     "output_type": "execute_result"
    }
   ],
   "source": [
    "myfile.readline()"
   ]
  },
  {
   "cell_type": "code",
   "execution_count": 24,
   "metadata": {},
   "outputs": [],
   "source": [
    "myfile.close()"
   ]
  },
  {
   "cell_type": "markdown",
   "metadata": {},
   "source": [
    "也可以用 **read()** 方法一次将整个文件读入到一个字符串中，"
   ]
  },
  {
   "cell_type": "code",
   "execution_count": 25,
   "metadata": {},
   "outputs": [
    {
     "name": "stdout",
     "output_type": "stream",
     "text": [
      "hello text file\n",
      "goodbye text file\n",
      "\n"
     ]
    }
   ],
   "source": [
    "print(open('myfile.txt').read())"
   ]
  },
  {
   "cell_type": "markdown",
   "metadata": {},
   "source": [
    "也可以使用文件迭代器来一行一行读取文件。open() 创建的临时文件对象将自动在每次循环迭代的时候读入并返回一行。"
   ]
  },
  {
   "cell_type": "code",
   "execution_count": 26,
   "metadata": {},
   "outputs": [
    {
     "name": "stdout",
     "output_type": "stream",
     "text": [
      "hello text file\n",
      "goodbye text file\n"
     ]
    }
   ],
   "source": [
    "for line in open('myfile.txt'): # Use file iterators, not reads\n",
    "    print(line, end='')"
   ]
  },
  {
   "cell_type": "markdown",
   "metadata": {},
   "source": [
    "## 2.2 在文件中存储并解析Python对象\n",
    "\n",
    "下面这个例子将把多种 Python 对象写入文本文件。需要注意的是，这里使用了转换工具将对象转成了字符串。"
   ]
  },
  {
   "cell_type": "code",
   "execution_count": 27,
   "metadata": {},
   "outputs": [],
   "source": [
    "S = 'Spam'                                  # Must be strings to store in file\n",
    "X, Y, Z = 43, 44, 45                        # Native Python objects\n",
    "L = [1, 2, 3]\n",
    "D = {'a': 1, 'b': 2}\n",
    "\n",
    "F = open('datafile.txt', 'w')               # Create output text file\n",
    "F.write(S + '\\n')                           # Terminate lines with \\n\n",
    "F.write('%s,%s,%s\\n' % (X, Y, Z))           # Convert numbers to strings\n",
    "F.write(str(L) + '$' + str(D) + '\\n')       # Convert and separate with $\n",
    "F.close()"
   ]
  },
  {
   "cell_type": "markdown",
   "metadata": {},
   "source": [
    "在创建文件后，就可以通过打开和读取字符串来查看文件的内容。"
   ]
  },
  {
   "cell_type": "code",
   "execution_count": 28,
   "metadata": {},
   "outputs": [
    {
     "data": {
      "text/plain": [
       "\"Spam\\n43,44,45\\n[1, 2, 3]${'a': 1, 'b': 2}\\n\""
      ]
     },
     "execution_count": 28,
     "metadata": {},
     "output_type": "execute_result"
    }
   ],
   "source": [
    "chars = open('datafile.txt').read()         # Raw string display\n",
    "chars"
   ]
  },
  {
   "cell_type": "code",
   "execution_count": 29,
   "metadata": {},
   "outputs": [
    {
     "name": "stdout",
     "output_type": "stream",
     "text": [
      "Spam\n",
      "43,44,45\n",
      "[1, 2, 3]${'a': 1, 'b': 2}\n",
      "\n"
     ]
    }
   ],
   "source": [
    "print(chars)"
   ]
  },
  {
   "cell_type": "markdown",
   "metadata": {},
   "source": [
    "现在我们需要借助转换工具，将文本文件中的字符串转换成真正的 Python 对象。"
   ]
  },
  {
   "cell_type": "code",
   "execution_count": 30,
   "metadata": {},
   "outputs": [
    {
     "data": {
      "text/plain": [
       "'Spam\\n'"
      ]
     },
     "execution_count": 30,
     "metadata": {},
     "output_type": "execute_result"
    }
   ],
   "source": [
    "F = open('datafile.txt')        # Open again\n",
    "line = F.readline()             # Read one line\n",
    "line"
   ]
  },
  {
   "cell_type": "markdown",
   "metadata": {},
   "source": [
    "对于第一行来说，我们使用字符串 **rstrip()** 方法去除多余的换行符。也可以使用 line[:-1]分片操作，但是只有确定所有行都含有 '\\n' 的时候才行（文件中最后一行有时不含换行符）。"
   ]
  },
  {
   "cell_type": "code",
   "execution_count": 31,
   "metadata": {},
   "outputs": [
    {
     "data": {
      "text/plain": [
       "'Spam'"
      ]
     },
     "execution_count": 31,
     "metadata": {},
     "output_type": "execute_result"
    }
   ],
   "source": [
    "line.rstrip()                       # Remove end-of-line, 包括空格、换行(\\n)、制表符(\\t)等"
   ]
  },
  {
   "cell_type": "markdown",
   "metadata": {},
   "source": [
    "现在，开始读包含数字的下一行，并解析出该行中的对象："
   ]
  },
  {
   "cell_type": "code",
   "execution_count": 32,
   "metadata": {},
   "outputs": [
    {
     "data": {
      "text/plain": [
       "'43,44,45\\n'"
      ]
     },
     "execution_count": 32,
     "metadata": {},
     "output_type": "execute_result"
    }
   ],
   "source": [
    "line = F.readline()                 # Next line from file\n",
    "line                                # It's a string here"
   ]
  },
  {
   "cell_type": "markdown",
   "metadata": {},
   "source": [
    "我们这里是用 split() 方法，从逗号分隔符的地方断开，得到的结果是包含数字的字符串列表。如果我们想对这些数字做数学运算，还得把字符串转为整数。这里我们不一定非要运行 rstrip() 来删除最后部分的 '\\n'，int() 会忽略数字后面的换行符。"
   ]
  },
  {
   "cell_type": "code",
   "execution_count": 33,
   "metadata": {},
   "outputs": [
    {
     "data": {
      "text/plain": [
       "['43', '44', '45\\n']"
      ]
     },
     "execution_count": 33,
     "metadata": {},
     "output_type": "execute_result"
    }
   ],
   "source": [
    "parts = line.split(',')             # Split (parse) on commas\n",
    "parts"
   ]
  },
  {
   "cell_type": "code",
   "execution_count": 34,
   "metadata": {},
   "outputs": [
    {
     "data": {
      "text/plain": [
       "[43, 44, 45]"
      ]
     },
     "execution_count": 34,
     "metadata": {},
     "output_type": "execute_result"
    }
   ],
   "source": [
    "numbers = [int(P) for P in parts]   # Convert all in list at once\n",
    "numbers"
   ]
  },
  {
   "cell_type": "markdown",
   "metadata": {},
   "source": [
    "最后，要转换文件第三行存储的列表和字典，我们可以运行 **eval()** 这一内置函数，eval() 能将字符串视作可执行程序代码。"
   ]
  },
  {
   "cell_type": "code",
   "execution_count": 35,
   "metadata": {},
   "outputs": [
    {
     "data": {
      "text/plain": [
       "\"[1, 2, 3]${'a': 1, 'b': 2}\\n\""
      ]
     },
     "execution_count": 35,
     "metadata": {},
     "output_type": "execute_result"
    }
   ],
   "source": [
    "line = F.readline()\n",
    "line"
   ]
  },
  {
   "cell_type": "code",
   "execution_count": 36,
   "metadata": {},
   "outputs": [
    {
     "data": {
      "text/plain": [
       "['[1, 2, 3]', \"{'a': 1, 'b': 2}\\n\"]"
      ]
     },
     "execution_count": 36,
     "metadata": {},
     "output_type": "execute_result"
    }
   ],
   "source": [
    "parts = line.split('$')                 # Split (parse) on $\n",
    "parts"
   ]
  },
  {
   "cell_type": "code",
   "execution_count": 37,
   "metadata": {},
   "outputs": [
    {
     "data": {
      "text/plain": [
       "[1, 2, 3]"
      ]
     },
     "execution_count": 37,
     "metadata": {},
     "output_type": "execute_result"
    }
   ],
   "source": [
    "eval(parts[0])                          # Convert to any object type"
   ]
  },
  {
   "cell_type": "code",
   "execution_count": 38,
   "metadata": {},
   "outputs": [
    {
     "data": {
      "text/plain": [
       "[[1, 2, 3], {'a': 1, 'b': 2}]"
      ]
     },
     "execution_count": 38,
     "metadata": {},
     "output_type": "execute_result"
    }
   ],
   "source": [
    "objects = [eval(P) for P in parts]      # Do same for all in list\n",
    "objects"
   ]
  },
  {
   "cell_type": "markdown",
   "metadata": {},
   "source": [
    "## 2.3 用 pickle 存储 Python 原生对象\n",
    "\n",
    "Python 标准库 **pickle** 模块是通用的数据格式化和解析工具，实现了基本的数据序列化和反序列化。它能够让我们直接在文件中存储几乎任何 Python 对象的高级工具，不需要借助字符串转换来转换去。\n",
    "\n",
    "例如，想要在文件中存储字典，就直接用 pickle 来存储。序列化的方法为 pickle.dump()，该方法实现的是将序列化后的对象以二进制形式写入文件中，进行保存。"
   ]
  },
  {
   "cell_type": "code",
   "execution_count": 39,
   "metadata": {},
   "outputs": [],
   "source": [
    "import pickle\n",
    "\n",
    "D = {'a': 1, 'b': 2}\n",
    "file = open('datafile.pkl', 'wb')\n",
    "\n",
    "pickle.dump(D, file)        # Pickle any object to file\n",
    "file.close()"
   ]
  },
  {
   "cell_type": "markdown",
   "metadata": {},
   "source": [
    "想要取回字典时，只要简单地再一次 pickle 进行重建就可以了。反序列化的方法为 pickle.load()，该方法实现的是将序列化的对象从文件中读取出来。"
   ]
  },
  {
   "cell_type": "code",
   "execution_count": 40,
   "metadata": {},
   "outputs": [
    {
     "data": {
      "text/plain": [
       "{'a': 1, 'b': 2}"
      ]
     },
     "execution_count": 40,
     "metadata": {},
     "output_type": "execute_result"
    }
   ],
   "source": [
    "file = open('datafile.pkl', 'rb')\n",
    "E = pickle.load(file)          # Load any object from file\n",
    "file.close()\n",
    "E"
   ]
  },
  {
   "cell_type": "markdown",
   "metadata": {},
   "source": [
    "不需要分割或转换操作，我们就可以取回相同的字典对象。pickle 模块内部执行的是**对象序列化**(object serialization)，也就是对象和字符串之间的相互转换，但我们并不需要关心内部具体如何实现的。"
   ]
  },
  {
   "cell_type": "markdown",
   "metadata": {},
   "source": [
    "## 2.4 二进制文件的处理\n",
    "\n",
    "有些时候我们需要处理打包的二进制数据，这些数据可能是 C/C++ 语言生成的。Python 的标准库包含一个处理模块：struct 模块，它包含了 **pack()** 和 **unpack()** 函数，能打包和解析打包的二进制数据。从某种意义上来说，它是一个数据转换工具，能把文件中的字符串解读为二进制数据。"
   ]
  },
  {
   "cell_type": "markdown",
   "metadata": {},
   "source": [
    "struct 模块具体支持的格式为：\n",
    "\n",
    "\n",
    "|Format|C Type|Python type|Standard size|\n",
    "|------|------|-----------|-------------|\n",
    "| c | char | bytes of length 1 | 1|\n",
    "| b | signed char | integer | 1 |\n",
    "| B | unsigned char | integer | 1 |\n",
    "| ? | _Bool | bool | 1 |\n",
    "| h | short | integer | 2 |\n",
    "| H | unsigned short | integer | 2 |\n",
    "| i | int | integer | 4 |\n",
    "| I | unsigned int | integer | 4 |\n",
    "| l | long | integer | 4 |\n",
    "| L | unsigned long | integer | 4 |\n",
    "| q | long long | integer | 8 |\n",
    "| Q | unsigned long long | integer | 8 |\n",
    "| N | size_t | integer |\n",
    "| e | half precision | float | 2 |\n",
    "| f | float | float | 4 |\n",
    "| d | double | float | 8 |\n",
    "| s | char[] | bytes |\n",
    "| p | char[] | bytes |\n",
    "| P | void * | integer |"
   ]
  },
  {
   "cell_type": "markdown",
   "metadata": {},
   "source": [
    "每个格式前可以有一个数字，表示个数。\n",
    "\n",
    "例如，要生成一个二进制数据文件，用 'wb'（写入二进制）模式创建文件，并将格式化字符串对象传给 struct。这里用的格式化字符串包含一个4字节的整数、一个包含4个字符的字符串以及两个2字节的整数。"
   ]
  },
  {
   "cell_type": "code",
   "execution_count": 41,
   "metadata": {},
   "outputs": [
    {
     "data": {
      "text/plain": [
       "b'\\x00\\x00\\x00\\x12spam\\x00\\x08\\x00\\x02'"
      ]
     },
     "execution_count": 41,
     "metadata": {},
     "output_type": "execute_result"
    }
   ],
   "source": [
    "import struct\n",
    "\n",
    "F = open('data.bin', 'wb')                      # Open binary output file\n",
    "data = struct.pack('>i4s2h', 18, b'spam', 8, 2)  # Make packed binary data\n",
    "data"
   ]
  },
  {
   "cell_type": "code",
   "execution_count": 42,
   "metadata": {},
   "outputs": [],
   "source": [
    "F.write(data)                                   # Write byte string\n",
    "F.close()"
   ]
  },
  {
   "cell_type": "markdown",
   "metadata": {},
   "source": [
    "Python 生成一个我们通常写入文件的二进制数据字符串（如果打印它们，将以十六进制的格式进行打印）。要将值解析为普通 Python 对象，可以简单地读取字符串，并使用相同格式的字符串把它解压出来就可以。"
   ]
  },
  {
   "cell_type": "code",
   "execution_count": 43,
   "metadata": {},
   "outputs": [
    {
     "data": {
      "text/plain": [
       "b'\\x00\\x00\\x00\\x12spam\\x00\\x08\\x00\\x02'"
      ]
     },
     "execution_count": 43,
     "metadata": {},
     "output_type": "execute_result"
    }
   ],
   "source": [
    "F = open('data.bin', 'rb')\n",
    "data = F.read()                                 # Get packed binary data\n",
    "F.close()\n",
    "data"
   ]
  },
  {
   "cell_type": "code",
   "execution_count": 44,
   "metadata": {},
   "outputs": [
    {
     "data": {
      "text/plain": [
       "(18, b'spam', 8, 2)"
      ]
     },
     "execution_count": 44,
     "metadata": {},
     "output_type": "execute_result"
    }
   ],
   "source": [
    "values = struct.unpack('>i4s2h', data)           # Convert to Python objects\n",
    "values"
   ]
  },
  {
   "cell_type": "code",
   "execution_count": 45,
   "metadata": {},
   "outputs": [
    {
     "data": {
      "text/plain": [
       "(301989888, b'spam', 2048, 512)"
      ]
     },
     "execution_count": 45,
     "metadata": {},
     "output_type": "execute_result"
    }
   ],
   "source": [
    "values = struct.unpack('<i4s2h', data)           # Convert to Python objects\n",
    "values"
   ]
  },
  {
   "cell_type": "markdown",
   "metadata": {},
   "source": [
    "struct 可以根据本地机器字节顺序转换，它用格式化字符串中的第一个字符来改变对齐方式，定义如下："
   ]
  },
  {
   "cell_type": "markdown",
   "metadata": {},
   "source": [
    "|Character|Byte order|Size|Alignment|\n",
    "|:-------:|:---------|:---|:-------:|\n",
    "| @ | native | native |native|\n",
    "| = | native | standard |none|\n",
    "| < | little-endian | standard | none|\n",
    "| > | big-endian | standard |none|\n",
    "| ! | network (= big-endian) | standard |none|\n",
    "\n",
    "![img](images/chapter04/endianness.png)"
   ]
  },
  {
   "cell_type": "markdown",
   "metadata": {},
   "source": [
    "下面是使用 struct 配合 numpy 模块进行二进制图像文件读写的示例："
   ]
  },
  {
   "cell_type": "code",
   "execution_count": 1,
   "metadata": {},
   "outputs": [],
   "source": [
    "import numpy as np\n",
    "import struct\n",
    "\n",
    "image = np.zeros((256, 256), dtype=np.float32)\n",
    "for i in range(256):\n",
    "    image[i] = np.arange(256)\n",
    "\n",
    "# 写二进制文件\n",
    "fp = open('image.raw', 'wb')\n",
    "write_buf = struct.pack('={}f'.format(image.size), *image.flatten())\n",
    "fp.write(write_buf)\n",
    "fp.close()"
   ]
  },
  {
   "cell_type": "markdown",
   "metadata": {},
   "source": [
    "从硬盘读取该文件，并使用 Matlpotlib 绘制出来："
   ]
  },
  {
   "cell_type": "code",
   "execution_count": 2,
   "metadata": {},
   "outputs": [],
   "source": [
    "import matplotlib.pyplot as plt"
   ]
  },
  {
   "cell_type": "code",
   "execution_count": 3,
   "metadata": {},
   "outputs": [
    {
     "data": {
      "image/png": "[encoded data removed]",
      "text/plain": [
       "<Figure size 432x288 with 1 Axes>"
      ]
     },
     "metadata": {
      "needs_background": "light"
     },
     "output_type": "display_data"
    }
   ],
   "source": [
    "# 读取二进制文件\n",
    "fp = open('image.raw', 'rb')\n",
    "raw_data = fp.read(256 * 256 * 4)\n",
    "raw_data = struct.unpack('={}f'.format(256 * 256), raw_data)\n",
    "image = np.asarray(raw_data).reshape(256, 256)\n",
    "fp.close()\n",
    "\n",
    "plt.imshow(image, cmap=plt.cm.gray)\n",
    "plt.show()"
   ]
  },
  {
   "cell_type": "markdown",
   "metadata": {},
   "source": [
    "## 2.5 文件上下文管理器(File Context Manager)\n",
    "\n",
    "文件上下文管理器使用 **with** 语句实现，它比文件对象多了一个异常处理功能，允许我们把文件处理代码包装到一个逻辑层，以确保在退出时可以自动关闭文件，而不是依赖于**垃圾收集**(garbage collection)上的自动关闭。"
   ]
  },
  {
   "cell_type": "code",
   "execution_count": 49,
   "metadata": {},
   "outputs": [
    {
     "name": "stdout",
     "output_type": "stream",
     "text": [
      "hello text file\n",
      "\n",
      "goodbye text file\n",
      "\n"
     ]
    }
   ],
   "source": [
    "with open('myfile.txt') as myfile:\n",
    "    for line in myfile:\n",
    "        print(line)"
   ]
  },
  {
   "cell_type": "markdown",
   "metadata": {},
   "source": [
    "Python 中提供的 try/finally 异常处理语句也可以实现类似的功能，但是需要一些额外代码："
   ]
  },
  {
   "cell_type": "code",
   "execution_count": 50,
   "metadata": {},
   "outputs": [
    {
     "name": "stdout",
     "output_type": "stream",
     "text": [
      "hello text file\n",
      "\n",
      "goodbye text file\n",
      "\n"
     ]
    }
   ],
   "source": [
    "myfile = open('myfile.txt')\n",
    "try:\n",
    "    for line in myfile:\n",
    "        print(line)\n",
    "finally:\n",
    "    # 无论是否发生异常都将执行\n",
    "    myfile.close()"
   ]
  },
  {
   "cell_type": "markdown",
   "metadata": {},
   "source": [
    "# 3. None对象\n",
    "\n",
    "Python 还有一个特殊对象：None，在条件判断表达式中它总被认为是假。这是 Python 中一种特殊数据类型的唯一值。None不是意味着“未定义”，它是一个真正的对象，并且有一块内存。它一般起到一个空的占位作用。它还是函数的默认返回值。\n",
    "\n",
    "- None 是一个特殊的常量\n",
    "\n",
    "- None 和 False 不同\n",
    "\n",
    "- None 不是 0\n",
    "\n",
    "- None 不是空字符串\n",
    "\n",
    "- None 和任何其他的数据类型比较永远返回 False\n",
    "\n",
    "- None 有自己的数据类型 NoneType\n",
    "\n",
    "- 可以将 None 赋值给任何变量，但是不能创建其它 NoneType 对象\n",
    "\n",
    "例如，对于列表来说，无法为一个超出范围的偏移进行赋值操作。要预先分配一个10项的列表，你可以在10个位置上都预先设置为None："
   ]
  },
  {
   "cell_type": "code",
   "execution_count": 51,
   "metadata": {},
   "outputs": [
    {
     "data": {
      "text/plain": [
       "[None, None, None, None, None, None, None, None, None, None]"
      ]
     },
     "execution_count": 51,
     "metadata": {},
     "output_type": "execute_result"
    }
   ],
   "source": [
    "L = [None] * 10\n",
    "L"
   ]
  },
  {
   "cell_type": "markdown",
   "metadata": {},
   "source": [
    "# 练习\n",
    "\n",
    "1. 写个表达式将元组 (4, 5, 6) 改为 (1, 5, 6)。\n",
    "\n",
    "2. 读取一个二进制图像文件，并尝试进行图像处理（更改其像素数值）再写回文件。"
   ]
  }
 ],
 "metadata": {
  "kernelspec": {
   "display_name": "Python 3",
   "language": "python",
   "name": "python3"
  },
  "language_info": {
   "codemirror_mode": {
    "name": "ipython",
    "version": 3
   },
   "file_extension": ".py",
   "mimetype": "text/x-python",
   "name": "python",
   "nbconvert_exporter": "python",
   "pygments_lexer": "ipython3",
   "version": "3.8.8"
  },
  "toc": {
   "base_numbering": 1,
   "nav_menu": {},
   "number_sections": false,
   "sideBar": true,
   "skip_h1_title": false,
   "title_cell": "Table of Contents",
   "title_sidebar": "Contents",
   "toc_cell": false,
   "toc_position": {
    "height": "calc(100% - 180px)",
    "left": "10px",
    "top": "150px",
    "width": "405px"
   },
   "toc_section_display": true,
   "toc_window_display": false
  }
 },
 "nbformat": 4,
 "nbformat_minor": 2
}
