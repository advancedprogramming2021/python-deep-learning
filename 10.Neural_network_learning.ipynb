{
 "cells": [
  {
   "cell_type": "markdown",
   "metadata": {},
   "source": [
    "# 1. 从数据中学习\n",
    "\n",
    "在感知机的例子中，我们对照着真值表，人工设定了参数的值，但是那时的参数只有 3 个。而在实际的神经网络中，参数的数量成千上万，在层数更深的深度学习中，参数的数量甚至可以上亿，想要人工决定这些参数的值是不可能的。\n",
    "\n",
    "神经网络的特征就是可以从数据中学习。所谓“从数据中学习”，是指可以由数据自动决定权重参数的值。"
   ]
  },
  {
   "cell_type": "markdown",
   "metadata": {},
   "source": [
    "对于图像识别问题，\n",
    "\n",
    "- 一种方案是，先从图像中提取特征量，再用机器学习技术学习这些特征量的模式。这里所说的“特征量”是指从输入数据（输入图像）中准确地提取的本质数据。\n",
    "\n",
    "      在计算机视觉领域，常用的特征量包括 SIFT、SURF 和 HOG 等。使用这些特征量将图像数据转换为向量，然后对转换后的向量使用机器学习中的 SVM、KNN 等分类器进行学习。但是需要注意的是，将图像转换为向量时使用的特征量仍是人为设计的。对于不同的问题，必须使用合适的特征量（必须设计专门的特征量），才能得到好的结果。例如，为了区分狗的脸部，人们需要考虑与用于识别手写数字的特征量不同的其它特征量。\n",
    "      \n",
    "- 另一种方案是使用神经网络\n",
    "\n",
    "      神经网络或深度学习则比以往的机器学习方法更能避免人为介入。神经网络的优点是对所有的问题都可以用同样的流程来解决。比如，不管要求解的问题是识别数字，还是识别狗，抑或是识别人脸，神经网络都是通过不断地学习所提供的数据，尝试发现待求解的问题的模式。"
   ]
  },
  {
   "cell_type": "markdown",
   "metadata": {},
   "source": [
    "\n",
    "![img](images/chapter10/learning.png)"
   ]
  },
  {
   "cell_type": "markdown",
   "metadata": {},
   "source": [
    "### 训练和学习\n",
    "\n",
    "机器学习中，一般将数据分为 **训练数据** 和 **测试数据** 两部分来进行学习和实验等。\n",
    "\n",
    "首先，使用训练数据进行学习，寻找最优的参数；然后，使用测试数据评价训练得到的模型的实际能力。为什么需要将数据分为训练数据和测试数据呢？因为我们追求的是模型的泛化能力。为了正确评价模型的泛化能力，就必须划分训练数据和测试数据。"
   ]
  },
  {
   "cell_type": "markdown",
   "metadata": {},
   "source": [
    "**泛化能力** 是指处理未被观察过的数据（不包含在训练数据中的数据）的能力。获得泛化能力是机器学习的最终目标。\n",
    "\n",
    "例如，在识别手写数字的问题中，泛化能力可能会被用在自动识别银行支票手写数字的系统上。此时，手写数字识别就必须具备较高的识别“某个人”写的数字的能力。注意这里不是“特定的某个人写的特定的数字”，而是“任意一个人写的任意数字”。如果系统只能正确识别已有的训练数据，那有可能是只学习到了训练数据中的个人的习惯写法。\n",
    "\n",
    "因此，仅仅用一个数据集去学习和评价参数，是无法进行正确评价的。这样会导致可以顺利地处理某个数据集，但无法处理其它数据集的情况，这个状态称为 **过拟合**（over fitting）。"
   ]
  },
  {
   "cell_type": "markdown",
   "metadata": {},
   "source": [
    "# 2. 损失函数\n",
    "\n",
    "神经网络的学习中评价模型的预测值和真实值不一样程度所用的指标称为**损失函数**（loss function）。在神经网络的学习中，寻找最优参数（权重和偏置）时，要寻找使损失函数的值尽可能小的参数。为了找到使损失函数的值尽可能小的地方，需要计算参数的导数（确切地讲是梯度），然后以这个导数为指引，逐步更新参数的值。\n",
    "\n",
    "损失函数可以使用任意函数，一般用均方误差和交叉熵误差等。"
   ]
  },
  {
   "cell_type": "markdown",
   "metadata": {},
   "source": [
    "## 2.1 均方误差(MSE)\n",
    "\n",
    "可以用作损失函数的函数有很多，其中最有名的是均方误差（MSE, mean squared error）。均方误差如下式所示。\n",
    "\n",
    "$$ L = \\frac{1}{2} \\sum_k(y_k-t_k)^2 $$\n",
    "\n",
    "其中，$y_k$ 是表示神经网络的输出，$t_k$ 表示标签数据，$k$ 表示数据的维数。\n",
    "\n",
    "均方误差会计算神经网络的输出和正确解监督数据的各个元素之差的平方，再求总和。现在，我们用Python来实现这个均方误差，"
   ]
  },
  {
   "cell_type": "code",
   "execution_count": 1,
   "metadata": {},
   "outputs": [],
   "source": [
    "def mean_squared_error(y, t):\n",
    "    return 0.5 * np.sum((y-t)**2)"
   ]
  },
  {
   "cell_type": "markdown",
   "metadata": {},
   "source": [
    "例如，在手写数字识别的例子中，$y_k$、$t_k$ 是由如下 10 个元素构成的数据。"
   ]
  },
  {
   "cell_type": "code",
   "execution_count": 2,
   "metadata": {},
   "outputs": [
    {
     "data": {
      "text/plain": [
       "0.09750000000000003"
      ]
     },
     "execution_count": 2,
     "metadata": {},
     "output_type": "execute_result"
    }
   ],
   "source": [
    "import numpy as np\n",
    "\n",
    "y = np.array([0.1, 0.05, 0.6, 0.0, 0.05, 0.1, 0.0, 0.1, 0.0, 0.0])\n",
    "t = np.array([0, 0, 1, 0, 0, 0, 0, 0, 0, 0])\n",
    "mean_squared_error(y, t)"
   ]
  },
  {
   "cell_type": "markdown",
   "metadata": {},
   "source": [
    "## 2.2 交叉熵误差\n",
    "\n",
    "除了均方误差之外，交叉熵误差（cross entropy error）也经常被用作损失函数。交叉熵误差如下式所示。\n",
    "\n",
    "$$ L = -\\sum_k t_k \\log y_k $$\n",
    "\n",
    "因为 $t_k$ 中只有正确解标签的索引为 1，其他均为 0（one-hot 表示）。因此，交叉熵实际上只计算对应正确解标签的输出的自然对数。\n",
    "\n",
    "我们来用代码实现交叉熵误差："
   ]
  },
  {
   "cell_type": "code",
   "execution_count": 3,
   "metadata": {},
   "outputs": [],
   "source": [
    "def cross_entropy_error(y, t):\n",
    "    delta = 1e-7\n",
    "    return -np.sum(t * np.log(y + delta))"
   ]
  },
  {
   "cell_type": "markdown",
   "metadata": {},
   "source": [
    "函数内部在计算 np.log 时，加上了一个微小值 delta。这是因为，当出现 np.log(0) 时，np.log(0) 会变为负无限大的 -inf，这样一来就会导致后续计算无法进行。作为保护性对策，添加一个微小值可以防止负无限大的发生。"
   ]
  },
  {
   "cell_type": "code",
   "execution_count": 4,
   "metadata": {},
   "outputs": [
    {
     "name": "stderr",
     "output_type": "stream",
     "text": [
      "<ipython-input-4-f6e7c0610b57>:1: RuntimeWarning: divide by zero encountered in log\n",
      "  np.log(0)\n"
     ]
    },
    {
     "data": {
      "text/plain": [
       "-inf"
      ]
     },
     "execution_count": 4,
     "metadata": {},
     "output_type": "execute_result"
    }
   ],
   "source": [
    "np.log(0)"
   ]
  },
  {
   "cell_type": "code",
   "execution_count": 5,
   "metadata": {},
   "outputs": [
    {
     "data": {
      "text/plain": [
       "0.510825457099338"
      ]
     },
     "execution_count": 5,
     "metadata": {},
     "output_type": "execute_result"
    }
   ],
   "source": [
    "cross_entropy_error(y, t)"
   ]
  },
  {
   "cell_type": "markdown",
   "metadata": {},
   "source": [
    "### 2.2.1 自信息\n",
    "\n",
    "为了量化一个信号包含信息的多少，我们定义一个随机变量的事件 ${\\rm x} = x$ 的**自信息**（self-information）为\n",
    "\n",
    "$$I(x) = -\\log P(x)$$\n",
    "\n",
    "其中 $P(x)$ 表示 ${\\rm x} = x$ 的概率。若 $\\log$ 使用 $e$ 为底数，$I(x)$的单位为奈特；若使用 2 为底数，$I(x)$的单位为**比特**(bit)。\n",
    "\n",
    "信息量满足以下三条性质：\n",
    "- 非常可能发生的事件信息量要比较少，并且极端情况下，一定能够发生的事件应该没有信息量。\n",
    "- 较不可能发生的事件具有更高的信息量。\n",
    "- 独立事件应具有增量的信息。例如，投掷的硬币两次正面朝上传递的信息量，\n",
    "应该是投掷一次硬币正面朝上的信息量的两倍。"
   ]
  },
  {
   "cell_type": "markdown",
   "metadata": {},
   "source": [
    "### 2.2.2 香农熵\n",
    "\n",
    "自信息只处理单个的输出，我们可以用**香农熵**（Shannon entropy）来对整个概率分布中的不确定性总量进行量化：\n",
    "\n",
    "$$H(P)=\\mathbb{E}_{{\\rm x}\\sim P}[I(x)]=-\\mathbb{E}_{{\\rm x}\\sim P}[\\log P(x)]$$\n",
    "\n",
    "熵的本质是一个系统内在的混乱程度。换言之，一个分布的香农熵是指遵循这个分布的事件所产生的期望信息总量。它给出了对依据概率分布 $P$ 生成的符号进行编码所需的比特数在平均意义上的下界。那些接近确定性的分布(输出几乎可以确定) 具有较低的熵；那些接近均匀分布的概率分布具有较高的熵。\n",
    "\n",
    "例如，下图为服从伯努利分布的随机变量的香农熵，图中水平轴是二值随机变量等于 1 的概率 $p$。因此，$H({\\rm x})=-(1-p)\\log(1-p)-p\\log(p)$\n",
    "\n",
    "![img](images/chapter10/shannon_entropy.png)\n",
    "\n",
    "该图说明了更接近确定性的分布具有较低的香农熵，而更接近均匀分布的分布具有较高的香农熵。"
   ]
  },
  {
   "cell_type": "markdown",
   "metadata": {},
   "source": [
    "### 2.2.3 KL散度\n",
    "\n",
    "如果我们对于同一个随机变量 ${\\rm x}$ 有两个单独的概率分布 $P(x)$ 和 $Q(x)$，我们可以使用 **KL散度**（Kullback-Leibler (KL) divergence）来衡量这两个分布的差异：\n",
    "\n",
    "$$ D_{KL}(P||Q)=\\mathbb{E}_{{\\rm x}\\sim P}\\left[\\log\\frac{P(x)}{Q(x)}\\right]=\\mathbb{E}_{{\\rm x}\\sim P}[\\log P(x)-\\log Q(x)] $$\n",
    "\n",
    "在离散型变量的情况下，KL散度衡量的是，当我们使用一种被设计成能够使得概率分布 $Q$ 产生的消息的长度最小的编码，发送包含由概率分布 $P$ 产生的符号的消息时，所需要的额外信息量。"
   ]
  },
  {
   "cell_type": "markdown",
   "metadata": {},
   "source": [
    "KL散度的性质：\n",
    "\n",
    "- 非负，当且仅当 $P$ 和 $Q$ 为相同分布时为零\n",
    "\n",
    "      因为 KL散度是非负的并且衡量的是两个分布之间的差异，它经常被用作分布之间的某种距离。\n",
    "\n",
    "- 不对称\n",
    "$$ D_{KL}(P||Q)\\neq D_{KL}(Q||P)$$\n",
    "\n",
    "在机器学习算法中，KL散度可以用来评估模型输出和标签之间的差距。"
   ]
  },
  {
   "cell_type": "markdown",
   "metadata": {},
   "source": [
    "### 2.2.4 交叉熵\n",
    "\n",
    "交叉熵（cross-entropy）和 KL散度很像，但是缺少左边一项：\n",
    "$$ \\begin{aligned}\n",
    "H(P,Q) &= H(P) + D_{KL}(P||Q)\\\\\n",
    "&= -\\mathbb{E}_{{\\rm x}\\sim P}[\\log P(x)] + \\mathbb{E}_{{\\rm x}\\sim P}[\\log P(x)-\\log Q(x)]\\\\\n",
    "&= -\\mathbb{E}_{{\\rm x}\\sim P} \\log Q(x)\n",
    "\\end{aligned}$$\n",
    "\n",
    "针对 $Q$ 最小化交叉熵等价于最小化 KL散度，因为 $Q$ 并不参与被省略的那一项。"
   ]
  },
  {
   "cell_type": "markdown",
   "metadata": {},
   "source": [
    "# 3 数值微分"
   ]
  },
  {
   "cell_type": "markdown",
   "metadata": {},
   "source": [
    "## 3.1 导数\n",
    "\n",
    "导数是表示某个瞬间的变化量，它可以定义成下面的式子。\n",
    "\n",
    "$$ \\frac{\\mathrm{d}f(x)}{\\mathrm{d}x} = \\lim_{h\\to0} \\frac{f(x+h)-f(x)}{h} = \\lim_{h\\to0} \\frac{f(x)-f(x-h)}{h} $$"
   ]
  },
  {
   "cell_type": "markdown",
   "metadata": {},
   "source": [
    "如果直接实现函数导数的程序，向 $h$ 中赋入一个微小值，就可以计算出来了。"
   ]
  },
  {
   "cell_type": "code",
   "execution_count": 6,
   "metadata": {},
   "outputs": [],
   "source": [
    "# 不好的实现示例\n",
    "def numerical_diff(f, x):\n",
    "    h = 1e-50\n",
    "    return (f(x+h) - f(x)) / h"
   ]
  },
  {
   "cell_type": "markdown",
   "metadata": {},
   "source": [
    "上面代码中，因为想把尽可能小的值赋给 $h$（可以话，想让h无限接近0），所以 $h$ 使用了 1e-50 这个微小值。但是，这样反而产生了**舍入误差**（rounding error）。所谓舍入误差，是指因省略小数的精细部分的数值（比如，小数点第8 位以后的数值）而造成最终的计算结果上的误差。比如，在Python中，舍入误差可如下表示。"
   ]
  },
  {
   "cell_type": "code",
   "execution_count": 7,
   "metadata": {},
   "outputs": [
    {
     "data": {
      "text/plain": [
       "0.0"
      ]
     },
     "execution_count": 7,
     "metadata": {},
     "output_type": "execute_result"
    }
   ],
   "source": [
    "import numpy as np\n",
    "np.float32(1e-50)"
   ]
  },
  {
   "cell_type": "markdown",
   "metadata": {},
   "source": [
    "虽然上述实现中计算了函数 $f$ 在 $x+h$ 和 $x$ 之间的差分，也称为**前向差分**。但是为了数值计算稳定性，我们可以计算函数 $f$ 在 $(x + h)$ 和 $(x − h)$ 之间的差分。因为这种计算方法以 $x$ 为中心，计算它左右两边的差分，所以也称为**中心差分**。下面，我们基于上述两个要改进的点来实现数值微分（数值梯度）。"
   ]
  },
  {
   "cell_type": "code",
   "execution_count": 8,
   "metadata": {},
   "outputs": [],
   "source": [
    "# 修改后版本\n",
    "def numerical_diff(f, x):\n",
    "    h = 1e-4            # 0.0001\n",
    "    return (f(x+h) - f(x-h)) / (2*h)"
   ]
  },
  {
   "cell_type": "markdown",
   "metadata": {},
   "source": [
    "现在我们试着用上述的数值微分对简单函数进行求导。先来看一个由下式表示的二次函数。\n",
    "\n",
    "$$ f(x)= 0.01x^2 + 0.1x $$\n",
    "\n",
    "$$ \\frac{\\mathrm{d}f(x)}{\\mathrm{d}x} = 0.02x + 0.1 $$"
   ]
  },
  {
   "cell_type": "code",
   "execution_count": 9,
   "metadata": {},
   "outputs": [],
   "source": [
    "def function_1(x):\n",
    "    return 0.01*x**2 + 0.1*x"
   ]
  },
  {
   "cell_type": "markdown",
   "metadata": {},
   "source": [
    "我们来计算一下这个函数在 $x = 5$ 和 $x = 10$ 处的导数。"
   ]
  },
  {
   "cell_type": "code",
   "execution_count": 10,
   "metadata": {},
   "outputs": [
    {
     "data": {
      "text/plain": [
       "0.1999999999990898"
      ]
     },
     "execution_count": 10,
     "metadata": {},
     "output_type": "execute_result"
    }
   ],
   "source": [
    "numerical_diff(function_1, 5)"
   ]
  },
  {
   "cell_type": "code",
   "execution_count": 11,
   "metadata": {},
   "outputs": [
    {
     "data": {
      "text/plain": [
       "0.2999999999986347"
      ]
     },
     "execution_count": 11,
     "metadata": {},
     "output_type": "execute_result"
    }
   ],
   "source": [
    "numerical_diff(function_1, 10)"
   ]
  },
  {
   "cell_type": "markdown",
   "metadata": {},
   "source": [
    "我们发现虽然严格意义上与解析解并不一致，但误差非常小。实际上，误差小到基本上可以认为它们是相等的。"
   ]
  },
  {
   "cell_type": "markdown",
   "metadata": {},
   "source": [
    "## 3.2 偏导数\n",
    "\n",
    "下面看一个有两个自变量的函数，\n",
    "\n",
    "$$ f(x_0, x_1) = x_0^2 + x_1^2 $$\n",
    "\n",
    "这个函数可以用 Python 来实现，如下所示。"
   ]
  },
  {
   "cell_type": "code",
   "execution_count": 12,
   "metadata": {},
   "outputs": [],
   "source": [
    "def function_2(x):\n",
    "    return x[0]**2 + x[1]**2            # 或者return np.sum(x**2)"
   ]
  },
  {
   "cell_type": "code",
   "execution_count": 13,
   "metadata": {},
   "outputs": [],
   "source": [
    "import numpy as np\n",
    "import matplotlib.pyplot as plt\n",
    "from mpl_toolkits.mplot3d import Axes3D"
   ]
  },
  {
   "cell_type": "code",
   "execution_count": 14,
   "metadata": {},
   "outputs": [
    {
     "data": {
      "image/png": "[encoded data removed]",
      "text/plain": [
       "<Figure size 432x288 with 1 Axes>"
      ]
     },
     "metadata": {
      "needs_background": "light"
     },
     "output_type": "display_data"
    }
   ],
   "source": [
    "fig = plt.figure()\n",
    "ax = Axes3D(fig)\n",
    "x = np.arange(-3, 3, 0.1)\n",
    "X = np.meshgrid(x, x)           # 创建网格\n",
    "Z = function_2(X)\n",
    "plt.xlabel('x')\n",
    "plt.ylabel('y')\n",
    "ax.plot_surface(X[0], X[1], Z, rstride=1, cstride=1, cmap='rainbow')\n",
    "plt.show()"
   ]
  },
  {
   "cell_type": "markdown",
   "metadata": {},
   "source": [
    "问题1：求 $x_0 = 3$, $x_1 = 4$ 时，关于 $x_0$ 的偏导数 $ \\frac{\\partial f}{\\partial x_0} $。"
   ]
  },
  {
   "cell_type": "code",
   "execution_count": 15,
   "metadata": {},
   "outputs": [],
   "source": [
    "def function_tmp1(x0):\n",
    "    return x0*x0 + 4.0**2.0"
   ]
  },
  {
   "cell_type": "code",
   "execution_count": 16,
   "metadata": {},
   "outputs": [
    {
     "data": {
      "text/plain": [
       "6.00000000000378"
      ]
     },
     "execution_count": 16,
     "metadata": {},
     "output_type": "execute_result"
    }
   ],
   "source": [
    "numerical_diff(function_tmp1, 3.0)"
   ]
  },
  {
   "cell_type": "markdown",
   "metadata": {},
   "source": [
    "问题2：求 $x_0 = 3$, $x_1 = 4$ 时，关于 $x_1$ 的偏导数 $ \\frac{\\partial f}{\\partial x_1} $。"
   ]
  },
  {
   "cell_type": "code",
   "execution_count": 17,
   "metadata": {},
   "outputs": [],
   "source": [
    "def function_tmp2(x1):\n",
    "    return 3.0**2.0 + x1*x1"
   ]
  },
  {
   "cell_type": "code",
   "execution_count": 18,
   "metadata": {},
   "outputs": [
    {
     "data": {
      "text/plain": [
       "7.999999999999119"
      ]
     },
     "execution_count": 18,
     "metadata": {},
     "output_type": "execute_result"
    }
   ],
   "source": [
    "numerical_diff(function_tmp2, 4.0)"
   ]
  },
  {
   "cell_type": "markdown",
   "metadata": {},
   "source": [
    "在这些问题中，我们又重新定义了一个只有一个变量的临时函数，并对这个函数进行了求导。从上面的计算结果来看，与解析解的导数基本一致。"
   ]
  },
  {
   "cell_type": "markdown",
   "metadata": {},
   "source": [
    "# 4. 梯度\n",
    "\n",
    "在刚才的例子中，我们按变量分别计算了 $x_0$ 和 $x_1$ 的偏导数。像这样的由全部变量的偏导数汇总而成的向量称为 **梯度**（gradient）。梯度可以像下面这样来实现。函数的实现看上去有些复杂，但它执行的处理和求单变量的数值微分基本没有区别。"
   ]
  },
  {
   "cell_type": "code",
   "execution_count": 19,
   "metadata": {},
   "outputs": [],
   "source": [
    "def numerical_gradient(f, x):\n",
    "    h = 1e-4 # 0.0001\n",
    "    grad = np.zeros_like(x) # 生成和x形状相同的数组\n",
    "    for idx in range(x.size):\n",
    "        tmp_val = x[idx]\n",
    "        # f(x+h)的计算\n",
    "        x[idx] = tmp_val + h\n",
    "        fxh1 = f(x)\n",
    "        \n",
    "        # f(x-h)的计算\n",
    "        x[idx] = tmp_val - h\n",
    "        fxh2 = f(x)\n",
    "        \n",
    "        grad[idx] = (fxh1 - fxh2) / (2*h)\n",
    "        x[idx] = tmp_val # 还原值\n",
    "    return grad"
   ]
  },
  {
   "cell_type": "markdown",
   "metadata": {},
   "source": [
    "我们可以计算 $(x_0, x_1)$ 在各点处的梯度："
   ]
  },
  {
   "cell_type": "code",
   "execution_count": 20,
   "metadata": {},
   "outputs": [
    {
     "data": {
      "text/plain": [
       "array([6., 8.])"
      ]
     },
     "execution_count": 20,
     "metadata": {},
     "output_type": "execute_result"
    }
   ],
   "source": [
    "numerical_gradient(function_2, np.array([3.0, 4.0]))"
   ]
  },
  {
   "cell_type": "code",
   "execution_count": 21,
   "metadata": {},
   "outputs": [
    {
     "data": {
      "text/plain": [
       "array([0., 4.])"
      ]
     },
     "execution_count": 21,
     "metadata": {},
     "output_type": "execute_result"
    }
   ],
   "source": [
    "numerical_gradient(function_2, np.array([0.0, 2.0]))"
   ]
  },
  {
   "cell_type": "markdown",
   "metadata": {},
   "source": [
    "## 4.1 梯度下降法\n",
    "\n",
    "机器学习的主要任务是在学习时寻找最优参数。同样地，神经网络也必须在学习时找到最优参数（权重和偏置）。这里所说的最优参数是指损失函数取最小值时的参数。但是，一般而言，损失函数很复杂，参数空间庞大，我们不知道它在何处能取得最小值。而通过使用梯度来寻找函数最小值（或者尽可能小的值）的方法就是 **梯度下降法**。\n",
    "\n",
    "在梯度下降法中，函数的取值从当前位置沿着负梯度方向前进一定距离，然后在新的地方重新求梯度，再沿着新的负梯度方向前进，如此反复，不断地沿梯度方向前进。像这样，通过不断地沿负梯度方向前进，逐渐减小函数值的过程就是 **梯度下降法**（gradient descent method）。梯度法是解决机器学习中最优化问题的常用方法，特别是在神经网络的学习中经常被使用。\n",
    "\n",
    "\n",
    "需要注意的是，负梯度表示的是各点处的函数值减小最多的方向。因此，无法保证负梯度所指的方向就是函数的最小值或者真正应该前进的方向。实际上，在复杂的函数中，负梯度指示的方向基本上都不是函数值最小处。"
   ]
  },
  {
   "cell_type": "markdown",
   "metadata": {},
   "source": [
    "用数学式来表示梯度法，\n",
    "\n",
    "$$ x_0^{(k+1)} = x_0^{(k)} - \\eta \\frac{\\partial f}{\\partial x_0^{(k)}} $$\n",
    "\n",
    "式中的 $\\eta$  表示更新量，在神经网络的学习中，称为 **学习率**（**lr**, learning rate）。学习率决定在一次学习中，应该学习多少，以及在多大程度上更新参数。\n",
    "\n",
    "\n",
    "下面，我们用 Python 来实现梯度下降法。如下所示，这个实现很简单。"
   ]
  },
  {
   "cell_type": "code",
   "execution_count": 22,
   "metadata": {},
   "outputs": [],
   "source": [
    "def gradient_descent(f, init_x, lr=0.01, step_num=100):\n",
    "    x = init_x\n",
    "    \n",
    "    for i in range(step_num):\n",
    "        grad = numerical_gradient(f, x)\n",
    "        x -= lr * grad\n",
    "    return x"
   ]
  },
  {
   "cell_type": "markdown",
   "metadata": {},
   "source": [
    "其中，参数 f 是要进行最优化的函数，init_x 是初始值，lr 是学习率 learning rate，step_num 是梯度法的重复次数。numerical_gradient(f,x) 会求函数的梯度，用该梯度乘以学习率得到的值进行更新操作，由 step_num 指定迭代的次数。"
   ]
  },
  {
   "cell_type": "markdown",
   "metadata": {},
   "source": [
    "问题：请用梯度下降法求 $ f(x_0, x_1) = x_0^2 + x_1^2 $ 的最小值。"
   ]
  },
  {
   "cell_type": "code",
   "execution_count": 23,
   "metadata": {},
   "outputs": [],
   "source": [
    "def function_2(x):\n",
    "    return x[0]**2 + x[1]**2"
   ]
  },
  {
   "cell_type": "code",
   "execution_count": 24,
   "metadata": {},
   "outputs": [
    {
     "data": {
      "text/plain": [
       "array([-6.11110793e-10,  8.14814391e-10])"
      ]
     },
     "execution_count": 24,
     "metadata": {},
     "output_type": "execute_result"
    }
   ],
   "source": [
    "init_x = np.array([-3.0, 4.0])\n",
    "gradient_descent(function_2, init_x=init_x, lr=0.1, step_num=100)"
   ]
  },
  {
   "cell_type": "markdown",
   "metadata": {},
   "source": [
    "这里设初始值为(-3.0, 4.0)，使用梯度法寻找最小值，最终的结果是(-6.1e-10, 8.1e-10)，非常接近(0，0)。所以说通过梯度法我们基本得到了正确结果。"
   ]
  },
  {
   "cell_type": "markdown",
   "metadata": {},
   "source": [
    "像学习率这样的参数称为 **超参数**。这是一种和神经网络的参数（权重和偏置）性质不同的参数。相对于神经网络的权重参数是通过训练数据和学习算法自动获得的，学习率这样的超参数则是人工设定的。一般来说，超参数需要尝试多个值，以便找到一种可以使学习顺利进行的设定。学习率过大或者过小都无法得到好的结果:"
   ]
  },
  {
   "cell_type": "code",
   "execution_count": 25,
   "metadata": {},
   "outputs": [
    {
     "data": {
      "text/plain": [
       "array([-2.58983747e+13, -1.29524862e+12])"
      ]
     },
     "execution_count": 25,
     "metadata": {},
     "output_type": "execute_result"
    }
   ],
   "source": [
    "# 学习率过大的例子：lr=10.0\n",
    "init_x = np.array([-3.0, 4.0])\n",
    "gradient_descent(function_2, init_x=init_x, lr=10, step_num=100)"
   ]
  },
  {
   "cell_type": "code",
   "execution_count": 26,
   "metadata": {},
   "outputs": [
    {
     "data": {
      "text/plain": [
       "array([-2.99999994,  3.99999992])"
      ]
     },
     "execution_count": 26,
     "metadata": {},
     "output_type": "execute_result"
    }
   ],
   "source": [
    "# 学习率过小的例子：lr=1e-10\n",
    "init_x = np.array([-3.0, 4.0])\n",
    "gradient_descent(function_2, init_x=init_x, lr=1e-10, step_num=100)"
   ]
  },
  {
   "cell_type": "code",
   "execution_count": 27,
   "metadata": {},
   "outputs": [
    {
     "data": {
      "text/plain": [
       "array([1.89004368e-12, 4.40536496e-13])"
      ]
     },
     "execution_count": 27,
     "metadata": {},
     "output_type": "execute_result"
    }
   ],
   "source": [
    "# 学习率精确的例子：lr=0.5\n",
    "init_x = np.array([-3.0, 4.0])\n",
    "gradient_descent(function_2, init_x=init_x, lr=0.5, step_num=1)"
   ]
  },
  {
   "cell_type": "markdown",
   "metadata": {},
   "source": [
    "设定合适的学习率很重要：学习率过大的话，会发散成一个很大的值；相反，学习率过小的话，基本上没怎么更新就结束了。"
   ]
  },
  {
   "cell_type": "markdown",
   "metadata": {},
   "source": [
    "## 4.2 神经网络的梯度\n",
    "\n",
    "神经网络的梯度是指损失函数关于权重参数的梯度。对于一个形状为 2 × 3 的权重 $W$ 的神经网络，损失函数用 $L$ 表示。梯度可以用 $\\frac{\\partial L}{\\partial W}$ 表示，它的元素由各个元素关于 $W$ 的偏导数构成。\n",
    "\n",
    "$$ W =  \\bigl( \\begin{matrix}\n",
    "w_{11}&w_{21}&w_{31}\\\\\n",
    "w_{12}&w_{22}&w_{32}\n",
    "\\end{matrix}\\bigr) $$\n",
    "\n",
    "$$ \\frac{\\partial L}{\\partial W} =  \\bigl( \\begin{matrix}\n",
    "\\frac{\\partial L}{\\partial w_{11}}&\\frac{\\partial L}{\\partial w_{21}}&\\frac{\\partial L}{\\partial w_{31}}\\\\\n",
    "\\frac{\\partial L}{\\partial w_{12}}&\\frac{\\partial L}{\\partial w_{22}}&\\frac{\\partial L}{\\partial w_{32}}\n",
    "\\end{matrix}\\bigr) $$"
   ]
  },
  {
   "cell_type": "markdown",
   "metadata": {},
   "source": [
    "下面，我们以一个简单的神经网络为例，来实现求梯度的代码。"
   ]
  },
  {
   "cell_type": "code",
   "execution_count": 28,
   "metadata": {},
   "outputs": [],
   "source": [
    "import numpy as np\n",
    "\n",
    "def softmax(a):\n",
    "    exp_a = np.exp(a - np.max(a)) # 溢出对策\n",
    "    return exp_a / np.sum(exp_a)\n",
    "\n",
    "class simpleNet:\n",
    "    def __init__(self):\n",
    "        self.W = np.random.randn(2,3) # 用标准正态分布进行初始化\n",
    "        \n",
    "    def predict(self, x):\n",
    "        return np.dot(x, self.W)\n",
    "    \n",
    "    def loss(self, x, t):\n",
    "        z = self.predict(x)\n",
    "        y = softmax(z)\n",
    "        loss = cross_entropy_error(y, t)\n",
    "        return loss\n",
    "    \n",
    "    def numerical_gradient(self, W, x, t):\n",
    "        h = 1e-4 # 0.0001\n",
    "        grad = np.zeros_like(W)\n",
    "        \n",
    "        it = np.nditer(W, flags=['multi_index'])\n",
    "        while not it.finished:\n",
    "            idx = it.multi_index\n",
    "            tmp_val = W[idx]\n",
    "            W[idx] = float(tmp_val) + h\n",
    "            fxh1 = self.loss(x, t) # f(x+h)\n",
    "            \n",
    "            W[idx] = tmp_val - h \n",
    "            fxh2 = self.loss(x, t) # f(x-h)\n",
    "            grad[idx] = (fxh1 - fxh2) / (2*h)\n",
    "            \n",
    "            W[idx] = tmp_val # 还原值\n",
    "            it.iternext()\n",
    "            \n",
    "        return grad"
   ]
  },
  {
   "cell_type": "code",
   "execution_count": 29,
   "metadata": {},
   "outputs": [
    {
     "name": "stdout",
     "output_type": "stream",
     "text": [
      "[[ 1.62434536 -0.61175641 -0.52817175]\n",
      " [-1.07296862  0.86540763 -2.3015387 ]]\n"
     ]
    }
   ],
   "source": [
    "np.random.seed(1)\n",
    "net = simpleNet()\n",
    "print(net.W) # 权重参数"
   ]
  },
  {
   "cell_type": "code",
   "execution_count": 30,
   "metadata": {},
   "outputs": [
    {
     "name": "stdout",
     "output_type": "stream",
     "text": [
      "[ 0.00893546  0.41181302 -2.38828788]\n"
     ]
    }
   ],
   "source": [
    "x = np.array([0.6, 0.9])\n",
    "p = net.predict(x)\n",
    "print(p)"
   ]
  },
  {
   "cell_type": "code",
   "execution_count": 31,
   "metadata": {},
   "outputs": [
    {
     "data": {
      "text/plain": [
       "1"
      ]
     },
     "execution_count": 31,
     "metadata": {},
     "output_type": "execute_result"
    }
   ],
   "source": [
    "np.argmax(p)            # 最大值的索引"
   ]
  },
  {
   "cell_type": "code",
   "execution_count": 32,
   "metadata": {},
   "outputs": [
    {
     "data": {
      "text/plain": [
       "0.5476574632667771"
      ]
     },
     "execution_count": 32,
     "metadata": {},
     "output_type": "execute_result"
    }
   ],
   "source": [
    "t = np.array([0, 1, 0]) # 设定正确解标签\n",
    "net.loss(x, t)"
   ]
  },
  {
   "cell_type": "code",
   "execution_count": 33,
   "metadata": {},
   "outputs": [
    {
     "name": "stdout",
     "output_type": "stream",
     "text": [
      "[[ 0.23192042 -0.25301826  0.02109785]\n",
      " [ 0.34788063 -0.3795274   0.03164677]]\n"
     ]
    }
   ],
   "source": [
    "dW = net.numerical_gradient(net.W, x, t)\n",
    "print(dW)"
   ]
  },
  {
   "cell_type": "markdown",
   "metadata": {},
   "source": [
    "求出神经网络的梯度后，接下来只需根据梯度下降法，更新权重参数即可。"
   ]
  },
  {
   "cell_type": "markdown",
   "metadata": {},
   "source": [
    "# 5. 学习算法的实现\n",
    "\n",
    "神经网络的学习步骤如下所示：\n",
    "\n",
    "- 前提\n",
    "      神经网络存在合适的权重和偏置，调整权重和偏置以便拟合训练数据的过程称为“学习”。神经网络的学习分成下面4 个步骤。\n",
    "\n",
    "- 步骤1（mini-batch）\n",
    "      从训练数据中随机选出一部分数据，这部分数据称为 mini-batch。我们的目标是减小 mini-batch 的损失函数的值。\n",
    "\n",
    "- 步骤2（计算梯度）\n",
    "      为了减小 mini-batch 的损失函数的值，需要求出各个权重参数的梯度。梯度表示损失函数的值减小最多的方向。\n",
    "      \n",
    "- 步骤3（更新参数）\n",
    "      将权重参数沿负梯度方向进行微小更新。\n",
    "      \n",
    "- 步骤4（重复）\n",
    "      重复步骤1、步骤2、步骤3。\n",
    "      \n",
    "神经网络的学习按照上面4 个步骤进行。这个方法通过梯度下降法更新参数，不过因为这里使用的数据是随机选择的 mini batch 数据，所以又称为\n",
    "**随机梯度下降法**（SGD, stochastic gradient descent）。“随机”指的是“随机选择的”的意思，因此，随机梯度下降法是“对随机选择的数据进行的梯度下降法”。"
   ]
  },
  {
   "cell_type": "markdown",
   "metadata": {},
   "source": [
    "## 5.1 两层神经网络的类\n",
    "\n",
    "首先，我们将这个 2 层神经网络实现为一个名为 TwoLayerNet 的类。"
   ]
  },
  {
   "cell_type": "markdown",
   "metadata": {},
   "source": [
    "TwoLayerNet类的方法：\n",
    "\n",
    "|方法|说明|\n",
    "|:---|:---|\n",
    "|\\_\\_init\\_\\_(self, input_size, hidden_size, output_size)|进行初始化。参数依次表示输入层的神经元数、隐藏层的神经元数、输出层的神经元数|\n",
    "|predict(self, x)|进行识别（推理）。参数 x 是图像数据|\n",
    "|loss(self, x, t)|计算损失函数的值。参数 x 是图像数据，t 是正确解标签|\n",
    "|accuracy(self, x, t) |计算识别精度|\n",
    "|numerical_gradient(self, W, x, t)|计算权重参数 W 的梯度|\n",
    "|calc_grads(self, x, t) |计算权重参数的梯度|"
   ]
  },
  {
   "cell_type": "code",
   "execution_count": 34,
   "metadata": {},
   "outputs": [],
   "source": [
    "def sigmoid(x):\n",
    "    return 1 / (1 + np.exp(-x)) \n",
    "\n",
    "def softmax(a):\n",
    "    exp_a = np.exp(a - np.max(a)) # 溢出对策\n",
    "    return exp_a / np.sum(exp_a)\n",
    "\n",
    "def cross_entropy_error(y, t):\n",
    "    delta = 1e-7\n",
    "    return -np.sum(t * np.log(y + delta))"
   ]
  },
  {
   "cell_type": "markdown",
   "metadata": {},
   "source": [
    "Python 代码如下："
   ]
  },
  {
   "cell_type": "code",
   "execution_count": 35,
   "metadata": {},
   "outputs": [],
   "source": [
    "class TwoLayerNet:\n",
    "    def __init__(self, input_size, hidden_size, output_size, weight_init_std=0.01):\n",
    "        # 初始化权重\n",
    "        self.params = {}\n",
    "        self.params['W1'] = weight_init_std * np.random.randn(input_size, hidden_size)\n",
    "        self.params['b1'] = np.zeros(hidden_size)\n",
    "        self.params['W2'] = weight_init_std * np.random.randn(hidden_size, output_size)\n",
    "        self.params['b2'] = np.zeros(output_size)\n",
    "        \n",
    "    def predict(self, x):\n",
    "        W1, W2 = self.params['W1'], self.params['W2']\n",
    "        b1, b2 = self.params['b1'], self.params['b2']\n",
    "        \n",
    "        a1 = np.dot(x, W1) + b1\n",
    "        z1 = sigmoid(a1)\n",
    "        a2 = np.dot(z1, W2) + b2\n",
    "        y = softmax(a2)\n",
    "        \n",
    "        return y\n",
    "    \n",
    "    # x:输入数据, t:标签数据\n",
    "    def loss(self, x, t):\n",
    "        y = self.predict(x)\n",
    "        return cross_entropy_error(y, t)\n",
    "    \n",
    "    def accuracy(self, x, t):\n",
    "        y = self.predict(x)\n",
    "        y = np.argmax(y, axis=1)\n",
    "        \n",
    "        accuracy = np.sum(y == t) / float(x.shape[0])\n",
    "        return accuracy\n",
    "    \n",
    "    def numerical_gradient(self, W, x, t):\n",
    "        h = 1e-4 # 0.0001\n",
    "        grad = np.zeros_like(W)\n",
    "\n",
    "        it = np.nditer(W, flags=['multi_index'])\n",
    "        while not it.finished:\n",
    "            idx = it.multi_index\n",
    "            tmp_val = W[idx]\n",
    "            W[idx] = float(tmp_val) + h\n",
    "            fxh1 = self.loss(x, t) # f(x+h)\n",
    "            \n",
    "            W[idx] = tmp_val - h \n",
    "            fxh2 = self.loss(x, t) # f(x-h)\n",
    "            grad[idx] = (fxh1 - fxh2) / (2*h)\n",
    "            \n",
    "            W[idx] = tmp_val # 还原值\n",
    "            it.iternext()\n",
    "            \n",
    "        return grad\n",
    "\n",
    "    # x:输入数据, t:监督数据\n",
    "    def calc_grads(self, x, t):\n",
    "        grads = {}\n",
    "        grads['W1'] = self.numerical_gradient(self.params['W1'], x, t)\n",
    "        grads['b1'] = self.numerical_gradient(self.params['b1'], x, t)\n",
    "        grads['W2'] = self.numerical_gradient(self.params['W2'], x, t)\n",
    "        grads['b2'] = self.numerical_gradient(self.params['b2'], x, t)\n",
    "        \n",
    "        return grads"
   ]
  },
  {
   "cell_type": "markdown",
   "metadata": {},
   "source": [
    "TwoLayerNet 类有 params 和 grads 两个字典型实例变量。params 变量中保存了该神经网络所需的全部参数。\n",
    "\n",
    "- params['W1']是第 1 层的权重\n",
    "- params['b1']是第 1 层的偏置\n",
    "- params['W2']是第 2 层的权重\n",
    "- params['b2']是第 2 层的偏置\n",
    "\n",
    "grads 保存梯度的字典型变量（calc_gradient()方法的返回值）。\n",
    "\n",
    "- grads['W1']是第 1 层权重的梯度\n",
    "- grads['b1']是第 1 层偏置的梯度\n",
    "- grads['W2']是第 2 层权重的梯度\n",
    "- grads['b2']是第 2 层偏置的梯度"
   ]
  },
  {
   "cell_type": "code",
   "execution_count": 36,
   "metadata": {},
   "outputs": [
    {
     "name": "stdout",
     "output_type": "stream",
     "text": [
      "(784, 100)\n",
      "(100,)\n",
      "(100, 10)\n",
      "(10,)\n"
     ]
    }
   ],
   "source": [
    "net = TwoLayerNet(input_size=784, hidden_size=100, output_size=10)\n",
    "print(net.params['W1'].shape) # (784, 100)\n",
    "print(net.params['b1'].shape) # (100,)\n",
    "print(net.params['W2'].shape) # (100, 10)\n",
    "print(net.params['b2'].shape) # (10,)"
   ]
  },
  {
   "cell_type": "markdown",
   "metadata": {},
   "source": [
    "\\_\\_init\\_\\_(self, input_size, hidden_size, output_size)方法是类的初始化方法。从第 1 个参数开始，依次表示输入层的神经元数、隐藏层的神经元数、输出层的神经元数。\n",
    "\n",
    "因为进行手写数字识别时，输入图像的大小是 784（28 × 28），输出为 10 个类别，所以指定参数 input_size=784、output_size=10，将隐藏层的个数hidden_size 设置为一个合适的值即可。\n",
    "\n",
    "这个初始化方法会对权重参数进行初始化。如何设置权重参数的初始值，这个问题是关系到神经网络能否成功学习的重要问题，后面我们会详细讨论权重参数的初始化。这里只需要知道，权重使用符合高斯分布的随机数进行初始化，同时偏置使用 0 进行初始化。"
   ]
  },
  {
   "cell_type": "code",
   "execution_count": 37,
   "metadata": {},
   "outputs": [
    {
     "name": "stdout",
     "output_type": "stream",
     "text": [
      "(784, 100)\n",
      "(100,)\n",
      "(100, 10)\n",
      "(10,)\n"
     ]
    }
   ],
   "source": [
    "x = np.random.rand(5, 784) # 伪输入数据（5笔）\n",
    "t = np.random.rand(5, 10) # 伪正确解标签（5笔）\n",
    "\n",
    "grads = net.calc_grads(x, t) # 计算梯度\n",
    "print(grads['W1'].shape) # (784, 100)\n",
    "print(grads['b1'].shape) # (100,)\n",
    "print(grads['W2'].shape) # (100, 10)\n",
    "print(grads['b2'].shape) # (10,)"
   ]
  },
  {
   "cell_type": "markdown",
   "metadata": {},
   "source": [
    "numerical_gradient(self, W, x, t) 基于数值微分计算参数的梯度。下一章，我们会介绍一个高速计算梯度的方法，称为误差反向传播法。用误差反向传播法求到的梯度和数值微分的结果基本一致，但可以高速地进行处理。"
   ]
  },
  {
   "cell_type": "markdown",
   "metadata": {},
   "source": [
    "## 5.2 实现mini-batch\n",
    "\n",
    "mini-batch 学习，就是从训练数据中随机选择一部分数据（称为 mini-batch），再以这些 mini-batch 为对象，使用梯度法更新参数的过程。\n",
    "\n",
    "首先，重新定义一个适用于 mnist 数据集标签编码（非one-hot编码），并且兼容 mini-batch 的交叉熵误差函数："
   ]
  },
  {
   "cell_type": "code",
   "execution_count": 38,
   "metadata": {},
   "outputs": [],
   "source": [
    "def cross_entropy_error(y, t):\n",
    "    if y.ndim == 1:\n",
    "        t = t.reshape(1, t.size)\n",
    "        y = y.reshape(1, y.size)\n",
    "             \n",
    "    batch_size = y.shape[0]\n",
    "    return -np.sum(np.log(y[np.arange(batch_size), t] + 1e-7)) / batch_size"
   ]
  },
  {
   "cell_type": "code",
   "execution_count": 39,
   "metadata": {},
   "outputs": [
    {
     "name": "stdout",
     "output_type": "stream",
     "text": [
      "Dataset loading completed\n"
     ]
    }
   ],
   "source": [
    "from demo_code.download import load_mnist\n",
    "\n",
    "(x_train, t_train), (x_test, t_test) = load_mnist()\n",
    "x_train = x_train.reshape(x_train.shape[0], -1)\n",
    "x_test = x_test.reshape(x_test.shape[0], -1)\n",
    "\n",
    "train_loss_list = []\n",
    "# 超参数\n",
    "iters_num = 20\n",
    "train_size = x_train.shape[0]\n",
    "batch_size = 100\n",
    "learning_rate = 0.1\n",
    "\n",
    "network = TwoLayerNet(input_size=784, hidden_size=50, output_size=10)"
   ]
  },
  {
   "cell_type": "code",
   "execution_count": 40,
   "metadata": {},
   "outputs": [],
   "source": [
    "for i in range(iters_num):\n",
    "    # 随机取出 mini-batch 个数据\n",
    "    batch_mask = np.random.choice(train_size, batch_size)\n",
    "    x_batch = x_train[batch_mask]\n",
    "    t_batch = t_train[batch_mask]\n",
    "    \n",
    "    # 计算梯度\n",
    "    grad = network.calc_grads(x_batch, t_batch)\n",
    "    \n",
    "    # 更新参数\n",
    "    for key in ('W1', 'b1', 'W2', 'b2'):\n",
    "        network.params[key] -= learning_rate * grad[key]\n",
    "    \n",
    "    # 记录学习过程\n",
    "    loss = network.loss(x_batch, t_batch)\n",
    "    train_loss_list.append(loss)"
   ]
  },
  {
   "cell_type": "markdown",
   "metadata": {},
   "source": [
    "这里，mini-batch 的大小为 100，需要每次从 60000 个训练数据中随机取出 100 个数据（图像数据和标签数据）。然后，对这个包含 100 笔数据的 mini-batch 求梯度，使用随机梯度下降法（SGD）更新参数。这里，梯度法的迭代次数为 20 次，每更新一次，都对训练数据计算损失函数的值，并将该值添加到数组 train_loss_list 中。"
   ]
  },
  {
   "cell_type": "code",
   "execution_count": 41,
   "metadata": {},
   "outputs": [
    {
     "data": {
      "text/plain": [
       "[6.855486577200159,\n",
       " 6.823671749479095,\n",
       " 6.835131697872376,\n",
       " 6.81344516485538,\n",
       " 6.804924886508859,\n",
       " 6.783756518704933,\n",
       " 6.780124577138939,\n",
       " 6.720764042746583,\n",
       " 6.737207090712719,\n",
       " 6.686570422952107,\n",
       " 6.615389017451113,\n",
       " 6.633899040763993,\n",
       " 6.639161929534347,\n",
       " 6.578111916318945,\n",
       " 6.5278889717575295,\n",
       " 6.561994227380155,\n",
       " 6.516004337448319,\n",
       " 6.445128758647716,\n",
       " 6.4181619092512365,\n",
       " 6.39716006235629]"
      ]
     },
     "execution_count": 41,
     "metadata": {},
     "output_type": "execute_result"
    }
   ],
   "source": [
    "train_loss_list"
   ]
  },
  {
   "cell_type": "markdown",
   "metadata": {},
   "source": [
    "可以发现随着学习的进行，损失函数的值在不断减小。这是学习正常进行的信号，表示神经网络的权重参数在逐渐拟合数据。"
   ]
  },
  {
   "cell_type": "code",
   "execution_count": 42,
   "metadata": {},
   "outputs": [
    {
     "data": {
      "image/png": "[encoded data removed]",
      "text/plain": [
       "<Figure size 432x288 with 1 Axes>"
      ]
     },
     "metadata": {
      "needs_background": "light"
     },
     "output_type": "display_data"
    }
   ],
   "source": [
    "# 绘制图形\n",
    "x = np.arange(len(train_loss_list))\n",
    "plt.plot(x, train_loss_list, label='train loss')\n",
    "plt.xlabel(\"iters\")\n",
    "plt.ylabel(\"loss\")\n",
    "plt.legend(loc='upper right')\n",
    "plt.show()"
   ]
  },
  {
   "cell_type": "markdown",
   "metadata": {},
   "source": [
    "## 5.3 基于测试数据的评价\n",
    "\n",
    "上一小节验证了通过反复学习可以使损失函数的值逐渐减小这一结果，不过这个损失函数的值，严格地讲是“对训练数据的某个 mini-batch 的损失函数”的值。训练数据的损失函数值减小，虽说是神经网络的学习正常进行的一个信号，但光看这个结果还不能说明该神经网络在其它数据集上也一定能有同等程度的表现。\n",
    "\n",
    "神经网络的学习中，必须确认是否能够正确识别训练数据以外的其他数据，即确认是否会发生**过拟合**。过拟合是指，虽然训练数据中的数字图像能被正确辨别，但是不在训练数据中的数字图像却无法被识别的现象。\n",
    "\n",
    "下面的代码在进行学习的过程中，会定期地对训练数据和测试数据记录识别精度。这里，每经过一个 **epoch**（所有训练数据均被使用过一次），我们都会记录下训练数据和测试数据的识别精度，从而使用测试数据来评判神经网络的泛化能力。"
   ]
  },
  {
   "cell_type": "code",
   "execution_count": 43,
   "metadata": {},
   "outputs": [],
   "source": [
    "iters_num = 6000\n",
    "\n",
    "train_acc_list = []\n",
    "test_acc_list = []\n",
    "# 平均每个epoch的重复次数\n",
    "iter_per_epoch = max(train_size / batch_size, 1)\n",
    "\n",
    "for i in range(iters_num):\n",
    "    # 获取mini-batch\n",
    "    batch_mask = np.random.choice(train_size, batch_size)\n",
    "    x_batch = x_train[batch_mask]\n",
    "    t_batch = t_train[batch_mask]\n",
    "\n",
    "#     # 计算梯度\n",
    "#     grad = network.calc_grads(x_batch, t_batch)\n",
    "    \n",
    "#     # 更新参数\n",
    "#     for key in ('W1', 'b1', 'W2', 'b2'):\n",
    "#         network.params[key] -= learning_rate * grad[key]\n",
    "    \n",
    "#     # 记录学习过程\n",
    "#     loss = network.loss(x_batch, t_batch)\n",
    "#     train_loss_list.append(loss)\n",
    "#     # 计算每个epoch的识别精度\n",
    "#     if i % iter_per_epoch == 0:\n",
    "#         train_acc = network.accuracy(x_train, t_train)\n",
    "#         test_acc = network.accuracy(x_test, t_test)\n",
    "#         train_acc_list.append(train_acc)\n",
    "#         test_acc_list.append(test_acc)\n",
    "#         print(\"train acc, test acc | \" + str(train_acc) + \", \" + str(test_acc))"
   ]
  },
  {
   "cell_type": "markdown",
   "metadata": {},
   "source": [
    "每经过一个 epoch，就对所有的训练数据和测试数据计算识别精度，并记录结果。之所以只计算每个 epoch 的识别精度，是因为如果在 for 语句的迭代循环中一直计算识别精度会花费太多时间，并且也没有必要那么频繁地记录识别精度。"
   ]
  },
  {
   "cell_type": "markdown",
   "metadata": {},
   "source": [
    "请注意，示例代码中的 mini-batch 每次都是随机选择的，所以不一定每个数据都会被选择到。实际上，一般做法是事先将所有训练数据随机打乱(shuffle)，然后按指定的批次大小按序生成 mini-batch，这样可以保证在一个 epoch 内可以使用到所有训练数据。"
   ]
  }
 ],
 "metadata": {
  "kernelspec": {
   "display_name": "Python 3",
   "language": "python",
   "name": "python3"
  },
  "language_info": {
   "codemirror_mode": {
    "name": "ipython",
    "version": 3
   },
   "file_extension": ".py",
   "mimetype": "text/x-python",
   "name": "python",
   "nbconvert_exporter": "python",
   "pygments_lexer": "ipython3",
   "version": "3.8.8"
  },
  "toc": {
   "base_numbering": 1,
   "nav_menu": {},
   "number_sections": false,
   "sideBar": true,
   "skip_h1_title": false,
   "title_cell": "Table of Contents",
   "title_sidebar": "Contents",
   "toc_cell": false,
   "toc_position": {
    "height": "calc(100% - 180px)",
    "left": "10px",
    "top": "150px",
    "width": "243.097px"
   },
   "toc_section_display": true,
   "toc_window_display": true
  }
 },
 "nbformat": 4,
 "nbformat_minor": 2
}
