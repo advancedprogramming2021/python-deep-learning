{
 "cells": [
  {
   "cell_type": "markdown",
   "metadata": {},
   "source": [
    "# 1. 深度学习中的优化"
   ]
  },
  {
   "cell_type": "markdown",
   "metadata": {},
   "source": [
    "用于深度模型训练的优化算法与传统的优化算法有所不同。机器学习通常是间接作用的。在大多数机器学习问题中，我们关注某些性能度量 $P$，其定义于测试集上并且可能是不可解的。因此，我们只是间接地优化 $P$。我们希望通过降低代价函数 $J(\\theta)$ 来提高 $P$。这一点与纯优化不同，纯优化最小化目标 $J$ 本身。训练深度模型的优化算法通常也会包括一些针对机器学习目标函数的特定结构进行的特化。"
   ]
  },
  {
   "cell_type": "markdown",
   "metadata": {},
   "source": [
    "通常，我们希望最小化取自真实数据分布 $p_{\\rm{data}}$ 的期望：\n",
    "\n",
    "$$ J^\\ast(\\theta)= \\mathbb{E}_{{(\\rm x, t)}\\sim p_ \\rm{data}}L(f(x;\\theta), t) $$\n",
    "\n",
    "其中 $L$ 是每个样本的损失函数，$f(x;\\theta)$ 是输入 $x$ 时所预测的输出，$\\theta$ 是神经网络的参数， $t$ 是目标输出，$p_ \\rm{data}$ 是真实分布。\n",
    "\n",
    "然而，我们遇到的机器学习问题，通常是不知道 $p_{\\rm{data}}(x, t)$，只知道训练集中的样本。将机器学习问题转化回一个优化问题的最简单方法是最小化训练集上的期望损失。这意味着用训练集上的经验分布 $\\hat p_{\\rm{data}}(x, t)$ 替代真实分布 $p_{\\rm{data}}(x, t)$。因此，代价函数可写为训练集上的平均，\n",
    "\n",
    "$$ \\begin{aligned}\n",
    "J(\\theta) &= \\mathbb{E}_{{(\\rm x, t)}\\sim \\hat p_ \\rm{data}}L(f(x;\\theta), t)\\\\\n",
    "&= \\frac{1}{N}\\sum_{i=1}^N L(f(x^{(i)};\\theta), t^{(i)})\n",
    "\\end{aligned}$$\n",
    "\n",
    "其中，$N$ 表示训练样本的数量。"
   ]
  },
  {
   "cell_type": "markdown",
   "metadata": {},
   "source": [
    "## 1.1 局部极小值\n",
    "\n",
    "对于神经网络，有可能会存在多个局部极小值。事实上，几乎所有的深度模型基本上都会有非常多的局部极小值。\n",
    "\n",
    "多年来，大多数从业者认为局部极小值是困扰神经网络优化的常见问题。如今，情况有所变化。这个问题仍然是学术界的热点问题，但是学者们现在猜想，对于足够大的神经网络而言，大部分局部极小值都具有很小的代价函数。我们能不能找到真正的全局最小点并不重要，而是需要在参数空间中找到一个代价很小（但不是最小）的点。"
   ]
  },
  {
   "cell_type": "markdown",
   "metadata": {},
   "source": [
    "## 1.2 鞍点\n",
    "\n",
    "对于很多高维非凸函数而言，局部极小值（以及极大值）事实上都远少于另一类梯度为零的点：**鞍点**。在鞍点处，Hessian 矩阵同时具有正负特征值。位于正特征值对应的特征向量方向的点比鞍点有更大的代价，反之，位于负特征值对应的特征向量方向的点有更小的代价。\n",
    "\n",
    "![img](images/chapter12/saddle_point.png)"
   ]
  },
  {
   "cell_type": "markdown",
   "metadata": {},
   "source": [
    "## 1.3 悬崖\n",
    "\n",
    "多层神经网络通常存在像悬崖一样的斜率较大区域，这是由于几个较大的权重相乘导致的（在循环神经网络的代价函数中更常见）。当参数接近这样的悬崖区域时，梯度下降更新可以使参数弹射得非常远，可能会使大量已完成的优化工作成为无用功。\n",
    "\n",
    "![img](images/chapter12/gradient_clipping.png)\n",
    "\n",
    "我们可以使用**梯度截断**（gradient clipping）来避免其严重的后果。其基本想法源自梯度并没有指明最佳步长，只说明了在无限小区域内的最佳方向。当传统的梯度下降算法提议更新很大一步时，启发式梯度截断会干涉来减小步长，从而使其不太可能走出梯度近似为最陡下降方向的悬崖区域。"
   ]
  },
  {
   "cell_type": "markdown",
   "metadata": {},
   "source": [
    "# 2. 优化算法\n",
    "\n",
    "神经网络的学习的目的是找到使损失函数的值尽可能小的参数。这是寻找最优参数的问题，解决这个问题的过程称为 **最优化**（optimization）。遗憾的是，神经网络的最优化问题非常难。这是因为参数空间非常复杂，无法轻易找到最优解。而且，在深度神经网络中，参数的数量非常庞大，导致最优化问题更加复杂。"
   ]
  },
  {
   "cell_type": "markdown",
   "metadata": {},
   "source": [
    "## 2.1 SGD\n",
    "\n",
    "随机梯度下降法（Stochastic Gradient Descent，SGD）是一般机器学习中应用最多的优化算法，特别是在深度学习中。按照数据生成分布抽取 $m$ 个小批量（独立同分布的）样本，通过计算它们的梯度均值，我们可以得到梯度的无偏估计。SGD 是一个简单的方法，不过比起胡乱地搜索参数空间，也算是“聪明”的方法。\n",
    "\n",
    "$$ \\theta \\leftarrow \\theta - \\eta \\frac{\\partial L}{\\partial \\theta} =  \\theta - \\eta g $$\n",
    "\n",
    "这里将需要更新的参数记为 $\\theta$ （包含所有权重和偏置），将损失函数 $L$ 关于 $\\theta$ 的梯度记为 $g = \\frac{\\partial L}{\\partial \\theta}$。$\\eta$ 表示学习率（learning rate），之前实践中，所使用的都是固定的学习率。若学习率太大，学习曲线会剧烈震荡；相反，如果学习率太小，学习过程会很缓慢，可能会卡在一个相当高的代价值。"
   ]
  },
  {
   "cell_type": "markdown",
   "metadata": {},
   "source": [
    "现在，我们将 SGD 算法实现为一个名为 SGD 的 Python 类，"
   ]
  },
  {
   "cell_type": "code",
   "execution_count": 1,
   "metadata": {},
   "outputs": [],
   "source": [
    "class SGD:\n",
    "    def __init__(self, lr=0.01):\n",
    "        self.lr = lr\n",
    "        \n",
    "    def update(self, params, grads):\n",
    "        for key in params.keys():\n",
    "            params[key] -= self.lr * grads[key]"
   ]
  },
  {
   "cell_type": "markdown",
   "metadata": {},
   "source": [
    "进行初始化时的参数 lr 表示学习率。代码段中还定义了update(params, grads)方法，这个方法在SGD中会被反复调用。参数 params 和 grads（与之前的神经网络的实现一样）是字典型变量，按 params['W1']、grads['W1'] 的形式，分别保存了权重参数和它们的梯度。\n",
    "\n",
    "可以按如下方式进行神经网络的参数的更新：\n",
    "\n",
    "```python\n",
    "network = TwoLayerNet(...)\n",
    "optimizer = SGD()    # 优化器对象\n",
    "\n",
    "for i in range(10000):\n",
    "    ...\n",
    "    x_batch, t_batch = get_mini_batch(...) # mini-batch\n",
    "    grads = network.gradient(x_batch, t_batch)\n",
    "    params = network.params\n",
    "    optimizer.update(params, grads)\n",
    "    ...\n",
    "```"
   ]
  },
  {
   "cell_type": "markdown",
   "metadata": {},
   "source": [
    "### 学习率衰减（learning rate decay）\n",
    "\n",
    "在实践中，有必要随着时间的推移逐渐降低学习率，一般会线性衰减学习率直到第 $n$ 次迭代：\n",
    "\n",
    "$$ \\eta_k = (1 - \\alpha)\\eta_0 + \\alpha \\eta_n $$\n",
    "\n",
    "其中 $ \\alpha = k / n$，通常 $ \\eta_n $ 应设为大约 $\\eta_0$ 的 1%。"
   ]
  },
  {
   "cell_type": "markdown",
   "metadata": {},
   "source": [
    "### SGD的缺点\n",
    "\n",
    "虽然SGD简单容易实现，但是在解决某些问题时可能没有效率。这里思考一下求下面这个函数的最小值的问题。\n",
    "\n",
    "$$ f(x, y) = \\frac{1}{20}x^2 + y^2 \\tag{$1$} $$\n",
    "\n",
    "这个函数梯度的特征是，y 轴方向上大，x 轴方向上小。我们尝试对该函数应用 SGD，从 $(x,y)=(-7, 2)$ 初始点开始搜索，如下图所示，搜索路径呈“之”字形移动。\n",
    "\n",
    "![img](images/chapter12/SGD.png)\n",
    "\n",
    "SGD低效的根本原因是，梯度的方向并没有指向最小值的方向。为了改正 SGD 的缺点，下面我们将介绍 Momentum、AdaGrad、Adam 这三种方法来取代SGD。"
   ]
  },
  {
   "cell_type": "markdown",
   "metadata": {},
   "source": [
    "## 2.2 动量(Momentum)\n",
    "\n",
    "虽然 SGD 仍然是非常受欢迎的优化方法，但其学习过程有时会很慢。动量方法旨在加速学习，特别是处理小但一致的梯度，或是带噪声的梯度。动量算法积累了之前梯度指数级衰减的移动平均，并且继续沿该方向移动。\n",
    "\n",
    "动量方法表示如下：\n",
    "$$ v \\leftarrow \\alpha v - \\eta g $$\n",
    "$$ \\theta \\leftarrow \\theta + v $$\n",
    "\n",
    "之前步长只是梯度乘以学习率，现在步长取决于梯度序列的大小和排列。当许多连续的梯度指向相同的方向时，步长最大。如果动量算法总是观测到梯度 g，那么它会不停加速，直到达到最终速度，其中步长大小为\n",
    "\n",
    "$$ v^{(n)} \\approx \\alpha^n v^{(0)} -\\frac{1-\\alpha^n}{1-\\alpha}\\cdot \\eta g = -\\frac{\\eta}{1-\\alpha}\\cdot g $$\n",
    "\n",
    "因此将动量的超参数视为 $\\frac{1}{1-\\alpha}$ 有助于理解。例如，$\\alpha = 0.9$ 对应着最大速度10倍于梯度下降算法。"
   ]
  },
  {
   "cell_type": "markdown",
   "metadata": {},
   "source": [
    "$$ v^{(n)} =  \\alpha^n v^{(0)} -\\eta(\\alpha ^{n-1}g^{(1)}+\\alpha ^{n-2}g^{(2)}+...+\\alpha g^{(n-1)}+g^{(n)}) $$"
   ]
  },
  {
   "cell_type": "markdown",
   "metadata": {},
   "source": [
    "实践中，$\\alpha$ 一般取值为0.5、0.9和0.99。和学习率一样，$\\alpha$ 也会随着时间不断调整，一般初始值是一个较小的值，随后慢慢变大。"
   ]
  },
  {
   "cell_type": "code",
   "execution_count": 2,
   "metadata": {},
   "outputs": [],
   "source": [
    "class Momentum:\n",
    "    def __init__(self, lr=0.01, momentum=0.9):\n",
    "        self.lr = lr\n",
    "        self.momentum = momentum\n",
    "        self.v = None\n",
    "    \n",
    "    def update(self, params, grads):\n",
    "        if self.v is None:\n",
    "            self.v = {}\n",
    "            for key, val in params.items():\n",
    "                self.v[key] = np.zeros_like(val)\n",
    "        for key in params.keys():\n",
    "            self.v[key] = self.momentum*self.v[key] - self.lr*grads[key]\n",
    "            params[key] += self.v[key]"
   ]
  },
  {
   "cell_type": "markdown",
   "metadata": {},
   "source": [
    "和 SGD 的情形相比，动量方法可以更快地朝 x 轴方向靠近，减弱“之”字形的变动程度。这是因为虽然 x 轴方向上受到的力非常小，但是一直在同一方向上受力，所以朝同一个方向会有一定的加速。相反，虽然 y 轴方向上受到的力很大，但是因为交互地受到正方向和反方向的力，它们会互相抵消。\n",
    "\n",
    "![img](images/chapter12/momentum.png)"
   ]
  },
  {
   "cell_type": "markdown",
   "metadata": {},
   "source": [
    "## 2.3 [AdaGrad](https://www.jmlr.org/papers/v12/duchi11a.html)\n",
    "\n",
    "学习率衰减的想法，相当于将“全体”参数的学习率值一起降低。AdaGrad(Adaptive Gradient) 进一步发展了这个想法，针对“一个一个”的参数，赋予其“定制”的值。AdaGrad 会为参数的每个元素适当地调整学习率，与此同时进行学习。算法如下：\n",
    "\n",
    "$$ h \\leftarrow h + g^2 $$\n",
    "$$ \\theta \\leftarrow \\theta - \\frac{\\eta}{\\sqrt {h}} g$$\n",
    "\n",
    "变量 $h$ 保存了以前所有梯度值的平方和。在更新参数时，通过乘以 $\\frac{1}{\\sqrt h}$，就可以调整学习的尺度，相当于加了一个约束项 $ \\frac{1}{\\sqrt{\\sum_1^t g_{(t)}^2}} $。\n",
    "\n",
    "- 当前期 $g$ 较小的时候，约束项较大，能放大梯度；\n",
    "\n",
    "- 当后期 $g$ 较大的时候，约束项较小，能约束梯度。"
   ]
  },
  {
   "cell_type": "code",
   "execution_count": 3,
   "metadata": {},
   "outputs": [],
   "source": [
    "class AdaGrad:\n",
    "    def __init__(self, lr=0.01):\n",
    "        self.lr = lr\n",
    "        self.h = None\n",
    "        \n",
    "    def update(self, params, grads):\n",
    "        if self.h is None:\n",
    "            self.h = {}\n",
    "            for key, val in params.items():\n",
    "                self.h[key] = np.zeros_like(val)\n",
    "        for key in params.keys():\n",
    "            self.h[key] += grads[key] * grads[key]\n",
    "            params[key] -= self.lr * grads[key] / (np.sqrt(self.h[key]) + 1e-7)"
   ]
  },
  {
   "cell_type": "markdown",
   "metadata": {},
   "source": [
    "需要注意的是，代码最后一行加上了微小值 1e-7，这是为了防止当 self.h[key] 中出现 0 时的情况。\n",
    "\n",
    "使用AdaGrad解决式（1）的最优化问题，结果如图所示：\n",
    "\n",
    "![img](images/chapter12/AdaGrad.png)"
   ]
  },
  {
   "cell_type": "markdown",
   "metadata": {},
   "source": [
    "由图结果可知，函数的取值高效地向着最小值移动。由于 $y$ 轴方向上的梯度较大，因此刚开始变动较大，但是后面会根据这个较大的变动按比例进行调整，减小更新的步伐。因此，$y$ 轴方向上的更新程度被减弱，“之”字形的变动程度有所衰减。"
   ]
  },
  {
   "cell_type": "markdown",
   "metadata": {},
   "source": [
    "## 2.4 RMSProp\n",
    "\n",
    "RMSProp(Root Mean Square Prop) 算法修改 AdaGrad 以在非凸情况下效果更好。当应用于非凸函数训练神经网络时，学习轨迹可能需要穿过了很多不同的结构，最终到达一个局部是碗状的区域。AdaGrad 根据平方梯度的整个历史收缩学习率，可能使得学习率在达到这样的凸结构前就变得太小了。RMSProp 使用指数衰减平均以丢弃遥远过去的历史梯度，使其能够在找到凸碗状结构后快速收敛，它就像一个初始化于该碗状结构的 AdaGrad 算法实例。算法如下：\n",
    "\n",
    "$$ h \\leftarrow \\rho h + (1 - \\rho) g^2 $$\n",
    "$$ W \\leftarrow W - \\frac{\\eta}{\\sqrt {h}} g$$"
   ]
  },
  {
   "cell_type": "code",
   "execution_count": 4,
   "metadata": {},
   "outputs": [],
   "source": [
    "class RMSprop:\n",
    "    def __init__(self, lr=0.01, decay_rate = 0.99):\n",
    "        self.lr = lr\n",
    "        self.decay_rate = decay_rate\n",
    "        self.h = None\n",
    "        \n",
    "    def update(self, params, grads):\n",
    "        if self.h is None:\n",
    "            self.h = {}\n",
    "            for key, val in params.items():\n",
    "                self.h[key] = np.zeros_like(val)\n",
    "            \n",
    "        for key in params.keys():\n",
    "            self.h[key] *= self.decay_rate\n",
    "            self.h[key] += (1 - self.decay_rate) * grads[key] * grads[key]\n",
    "            params[key] -= self.lr * grads[key] / (np.sqrt(self.h[key]) + 1e-7)"
   ]
  },
  {
   "cell_type": "markdown",
   "metadata": {},
   "source": [
    "## 2.5 [Adam](https://arxiv.org/abs/1412.6980v8)\n",
    "\n",
    "Adam (**Ada**ptive **M**oments)是另一种学习率自适应的优化算法，它被看做是 RMSProp 和动量方法的结合。\n",
    "\n",
    "首先，计算有偏一阶动量估计和有偏二阶动量估计：\n",
    "\n",
    "$$ m \\leftarrow \\beta_1 m + (1-\\beta_1) g $$\n",
    "$$ v \\leftarrow \\beta_2 v + (1-\\beta_2) g^2 $$\n",
    "\n",
    "然后，修正动量估计的偏差：\n",
    "\n",
    "$$ \\hat m \\leftarrow \\frac{m}{1-\\beta_1^t} $$\n",
    "$$ \\hat v \\leftarrow \\frac{v}{1-\\beta_2^t} $$\n",
    "\n",
    "最后，计算更新：\n",
    "\n",
    "$$ \\theta \\leftarrow \\theta - \\frac{\\eta \\hat m}{\\sqrt {\\hat v}} $$"
   ]
  },
  {
   "cell_type": "code",
   "execution_count": 5,
   "metadata": {},
   "outputs": [],
   "source": [
    "class Adam:\n",
    "    def __init__(self, lr=0.001, beta1=0.9, beta2=0.999):\n",
    "        self.lr = lr\n",
    "        self.beta1 = beta1\n",
    "        self.beta2 = beta2\n",
    "        self.iter = 0\n",
    "        self.m = None\n",
    "        self.v = None\n",
    "        \n",
    "    def update(self, params, grads):\n",
    "        if self.m is None:\n",
    "            self.m, self.v = {}, {}\n",
    "            for key, val in params.items():\n",
    "                self.m[key] = np.zeros_like(val)\n",
    "                self.v[key] = np.zeros_like(val)\n",
    "        \n",
    "        self.iter += 1\n",
    "        for key in params.keys():\n",
    "            self.m[key] = self.beta1 * self.m[key] + (1-self.beta1) * grads[key]\n",
    "            self.v[key] = self.beta2 * self.v[key] + (1-self.beta2) * (grads[key]**2)\n",
    "            \n",
    "            unbias_m = self.m[key] / (1.0 - self.beta1**self.iter)   # correct bias\n",
    "            unbisa_v = self.v[key] / (1.0 - self.beta2**self.iter)   # correct bias\n",
    "            params[key] -= self.lr * unbias_m / (np.sqrt(unbisa_v) + 1e-7)"
   ]
  },
  {
   "cell_type": "markdown",
   "metadata": {},
   "source": [
    "上面我们介绍了 SGD、Momentum、AdaGrad、Adam 几种方法，那么用哪种方法好呢？非常遗憾，（目前）并不存在能在所有问题中都表现良好的方法。这几种方法各有各的特点，都有各自擅长解决的问题和不擅长解决的问题。虽然具有自适应学习率的算法（如 RMSProp）表现得相当鲁棒，但没有哪个算法能脱颖而出。"
   ]
  },
  {
   "cell_type": "markdown",
   "metadata": {},
   "source": [
    "# 3. 权重的初始值\n",
    "\n",
    "在神经网络的学习中，权重的初始值特别重要。当学习收敛时，初始值可以决定学习收敛得多快，以及是否收敛到一个代价高或低的点。实际上，设定什么样的权重初始值，往往关系到神经网络的学习能否成功。"
   ]
  },
  {
   "cell_type": "markdown",
   "metadata": {},
   "source": [
    "## 3.1 可以将权重初始值设为0吗\n",
    "\n",
    "严格地说，为什么不能将权重初始值设成一样的值呢？\n",
    "\n",
    "这是因为在误差反向传播法中，所有的权重值都会进行相同的更新。比如，在 2 层神经网络中，假设第 1 层和第 2 层的权重为0。这样一来，正向传播时，因为输入层的权重为 0，所以第 2 层的神经元全部会被传递相同的值。第 2 层的神经元中全部输入相同的值，这意味着反向传播时第 2 层的权重全部都会进行相同的更新。因此，权重被更新为相同的值，并拥有了对称的值（重复的值）。这使得神经网络拥有许多不同的权重的意义丧失了。\n",
    "\n",
    "为了防止“权重均一化”（严格地讲，是为了瓦解权重的对称结构），必须随机生成初始值。"
   ]
  },
  {
   "cell_type": "markdown",
   "metadata": {},
   "source": [
    "## 3.2 权重初始值太大\n",
    "\n",
    "如果权重的初始值太大，那么会在前向传播或反向传播中产生爆炸的值。较大的权重也会产生使得激活函数饱和的值，导致饱和单元的梯度完全丢失。"
   ]
  },
  {
   "cell_type": "markdown",
   "metadata": {},
   "source": [
    "## 3.3 隐藏层的激活值的分布\n",
    "\n",
    "观察隐藏层的激活值（激活函数的输出数据）的分布，可以获得很多启发。这里，我们来做一个简单的实验，观察权重初始值是如何影响隐藏层的激活值的分布的。\n",
    "\n",
    "这里假设神经网络有 5 层，每层都含有 100 个神经元。然后，用正态分布随机生成 1000 个数据作为输入数据，并把它们传给 5 层神经网络。激活函数使用sigmoid 函数，各层的激活值的结果保存在 activations 字典变量中。最后，使用直方图绘制各层激活值的数据分布。"
   ]
  },
  {
   "cell_type": "code",
   "execution_count": 6,
   "metadata": {},
   "outputs": [],
   "source": [
    "import numpy as np\n",
    "import matplotlib.pyplot as plt\n",
    "\n",
    "def sigmoid(x):\n",
    "    return 1 / (1 + np.exp(-x))\n",
    "\n",
    "def ReLU(x):\n",
    "    return np.maximum(0, x)\n",
    "\n",
    "def tanh(x):\n",
    "    return np.tanh(x)"
   ]
  },
  {
   "cell_type": "code",
   "execution_count": 7,
   "metadata": {},
   "outputs": [],
   "source": [
    "def draw_output(w, activation_func):\n",
    "    # 随机生成200个数据\n",
    "    input_data = np.random.randn(200, 100)\n",
    "    # 5层隐藏层\n",
    "    hidden_layer_size = 5\n",
    "    activations = {}  # 用来保存激活值的结果\n",
    "\n",
    "    x = input_data\n",
    "\n",
    "    for i in range(hidden_layer_size):\n",
    "        if i != 0:\n",
    "            x = activations[i-1]\n",
    "\n",
    "        a = np.dot(x, w)\n",
    "\n",
    "        activations[i] = activation_func(a)\n",
    "\n",
    "    # 绘制直方图\n",
    "    plt.figure(figsize=(12, 4))\n",
    "    for i, a in activations.items():\n",
    "        plt.subplot(1, len(activations), i+1)\n",
    "        plt.title(str(i+1) + \"-layer\")\n",
    "        if i != 0:\n",
    "            plt.yticks([], []) # 不显示y轴刻度\n",
    "        plt.ylim(0, 2000)\n",
    "        plt.hist(a.flatten(), 30, range=(0,1))\n",
    "    plt.show()"
   ]
  },
  {
   "cell_type": "markdown",
   "metadata": {},
   "source": [
    "起初，我们使用的是标准差为 1 的正态分布初始化权重。"
   ]
  },
  {
   "cell_type": "code",
   "execution_count": 8,
   "metadata": {},
   "outputs": [
    {
     "data": {
      "image/png": "[encoded data removed]",
      "text/plain": [
       "<Figure size 864x288 with 5 Axes>"
      ]
     },
     "metadata": {
      "needs_background": "light"
     },
     "output_type": "display_data"
    }
   ],
   "source": [
    "# 各隐藏层的神经元数为100\n",
    "node_num = 100\n",
    "w = np.random.randn(node_num, node_num)\n",
    "draw_output(w, sigmoid)"
   ]
  },
  {
   "cell_type": "markdown",
   "metadata": {},
   "source": [
    "各层的激活值呈偏向 0 和 1 的分布。这里使用的 sigmoid 函数随着输出不断地靠近 0（或者靠近1），它的导数的值逐渐接近 0。因此，偏向 0 和 1 的数据分布会造成反向传播中梯度的值不断变小，最后消失，这也叫做 sigmoid 函数的**饱和现象**。这个问题称为 **梯度消失**（gradient vanishing）问题。层次加深的深度学习中，梯度消失的问题可能会更加严重。\n",
    "\n",
    "下面，将权重的标准差设为 0.01，进行相同的实验。"
   ]
  },
  {
   "cell_type": "code",
   "execution_count": 9,
   "metadata": {},
   "outputs": [
    {
     "data": {
      "image/png": "[encoded data removed]",
      "text/plain": [
       "<Figure size 864x288 with 5 Axes>"
      ]
     },
     "metadata": {
      "needs_background": "light"
     },
     "output_type": "display_data"
    }
   ],
   "source": [
    "# 改变权重初始值的标准差为0.01\n",
    "w = np.random.randn(node_num, node_num) * 0.01\n",
    "draw_output(w, sigmoid)"
   ]
  },
  {
   "cell_type": "markdown",
   "metadata": {},
   "source": [
    "这次数值呈集中在 0.5 附近的分布。因为不像刚才的例子那样偏向 0 和 1，所以不会发生梯度消失的问题。\n",
    "\n",
    "但是，激活值的分布有所偏向，说明在表现力上会有很大问题。因为如果有多个神经元都输出几乎相同的值，那它们就没有存在的意义了。例如，如果 100 个神经元都输出几乎相同的值，那么也可以由 1 个神经元来表达基本相同的事情。因此，激活值在分布上有所偏向会出现“表现力受限”的问题。\n",
    "\n",
    "如果我们将权重的标准差设为 0.1，再次进行实验，会发现输出数值集中的情况改善许多。"
   ]
  },
  {
   "cell_type": "code",
   "execution_count": 10,
   "metadata": {},
   "outputs": [
    {
     "data": {
      "image/png": "[encoded data removed]",
      "text/plain": [
       "<Figure size 864x288 with 5 Axes>"
      ]
     },
     "metadata": {
      "needs_background": "light"
     },
     "output_type": "display_data"
    }
   ],
   "source": [
    "# 改变权重初始值的标准差为0.1\n",
    "w = np.random.randn(node_num, node_num) * 0.1\n",
    "draw_output(w, sigmoid)"
   ]
  },
  {
   "cell_type": "markdown",
   "metadata": {},
   "source": [
    "接着，我们尝试使用 **Xavier Glorot**，**Yoshua Bengio** 的论文 [Understanding the difficulty of training deep feedforward neural networks](http://proceedings.mlr.press/v9/glorot10a.html) 中推荐的权重初始值（俗称“Xavier 初始值”）。\n",
    "\n",
    "考察第 $j+1$ 层神经元节点 $z$，前向传播时 $ z = \\sum_{i=1}^{n_j} w_ix_i $，其中 $n_{j}$ 为第 $j$ 层神经元的数量。根据两个随机变量乘积的方差展开式：\n",
    "\n",
    "$$ {\\rm Var}(w_i x_i) = E[w_i]^2{\\rm Var}(x_i) + E[x_i]^2{\\rm Var}(w_i) + {\\rm Var}(w_i){\\rm Var}(x_i) $$\n",
    "\n",
    "我们可以令 $E[x_i]=0$， $E[w_i]=0$，则有\n",
    "$$ {\\rm Var}(w_i x_i) = {\\rm Var}(w_i){\\rm Var}(x_i) $$\n",
    "$$ {\\rm Var}(z) = \\sum_{i=1}^{n_j} {\\rm Var}(w_i){\\rm Var}(x_i) $$\n",
    "\n",
    "如果随机变量 $x_i$ 和 $w_i$ 满足独立同分布的话：\n",
    "$$ {\\rm Var}(z) = n_{j}{\\rm Var}(W){\\rm Var}(X) $$\n",
    "\n",
    "为了让样本空间与类别空间的分布差异不要太大，也就是要让它们的方差尽可能相等，即 ${\\rm Var}(z)={\\rm Var}(X)$，则\n",
    "$$ {\\rm Var}(W) = \\frac{1}{n_j}$$\n",
    "\n",
    "同样，反向传播时是从后往前计算的，因此 $${\\rm Var}(W)=\\frac{1}{n_{j+1}}$$ \n",
    "\n",
    "实际中，常取输入和输出神经元个数平均值，即\n",
    "$${\\rm Var}(W)=\\frac{2}{n_{j} + n_{j+1}}$$ \n",
    "\n",
    "假设 $W$ 为均匀分布的话，由 $W$ 在区间 $[a,b]$ 内均匀分布时的方差为\n",
    "$$ {\\rm Var}(W)= \\frac{(b-a)^2}{12} $$\n",
    "\n",
    "综上，初始值满足下面范围内的均匀分布：\n",
    "\n",
    "$$ W \\sim U[-\\frac{\\sqrt{6}}{\\sqrt{n_j+n_{j+1}}}, \\frac{\\sqrt{6}}{\\sqrt{n_j+n_{j+1}}}] $$\n",
    "\n",
    "其中，$U$ 代表均匀分布，$n_j$ 为第 $j$ 层神经元个数。\n",
    "\n",
    "现在，在一般的深度学习框架中，Xavier 初始值已被作为标准使用。"
   ]
  },
  {
   "cell_type": "code",
   "execution_count": 11,
   "metadata": {},
   "outputs": [
    {
     "data": {
      "image/png": "[encoded data removed]",
      "text/plain": [
       "<Figure size 864x288 with 5 Axes>"
      ]
     },
     "metadata": {
      "needs_background": "light"
     },
     "output_type": "display_data"
    }
   ],
   "source": [
    "# uniform distribution\n",
    "w = np.random.uniform(-np.sqrt(6.0/200), np.sqrt(6.0/200), (node_num, node_num))\n",
    "draw_output(w, sigmoid)"
   ]
  },
  {
   "cell_type": "markdown",
   "metadata": {},
   "source": [
    "还有一种简化的 Xavier 实现方式是，只使用了前一层的输入节点进行计算。如果前一层的节点数为 $n$，则权重初始值使用标准差为 $\\frac{1}{\\sqrt{n}}$ 的正态分布。"
   ]
  },
  {
   "cell_type": "code",
   "execution_count": 12,
   "metadata": {
    "scrolled": true
   },
   "outputs": [
    {
     "data": {
      "image/png": "[encoded data removed]",
      "text/plain": [
       "<Figure size 864x288 with 5 Axes>"
      ]
     },
     "metadata": {
      "needs_background": "light"
     },
     "output_type": "display_data"
    }
   ],
   "source": [
    "# normal distribution\n",
    "w = np.random.randn(node_num, node_num) * np.sqrt(1.0 / node_num)\n",
    "draw_output(w, sigmoid)"
   ]
  },
  {
   "cell_type": "markdown",
   "metadata": {},
   "source": [
    "## 3.4 ReLU的权重初始值\n",
    "\n",
    "Xavier 初始值是以激活函数是线性函数为前提而推导出来的。因为 sigmoid 函数和 tanh 函数左右对称，且中央附近可以视作线性函数，所以适合使用 Xavier 初始值。\n",
    "\n",
    "但当激活函数使用 ReLU 时，一般推荐使用 ReLU 专用的初始值，也就是 [Kaiming He](https://arxiv.org/abs/1502.01852) 等人推荐的初始值，也称为“He 初始值”。当前一层的节点数为 $n$ 时，He 初始值使用标准差为 $\\frac{2}{\\sqrt{n}}$ 的高斯分布。当 Xavier 初始值是 $\\frac{1}{\\sqrt{n}}$ 时，（直观上）可以解释为，因为ReLU的负值区域的值为0，为了使它更有广度，所以需要 2 倍的系数。"
   ]
  },
  {
   "cell_type": "markdown",
   "metadata": {},
   "source": [
    "下面给出了 3 个实验的结果，依次是权重初始值为标准差是 0.01 的高斯分布、初始值为 Xavier 初始值时、初始值为“He 初始值”时的结果。"
   ]
  },
  {
   "cell_type": "code",
   "execution_count": 13,
   "metadata": {},
   "outputs": [
    {
     "data": {
      "image/png": "[encoded data removed]",
      "text/plain": [
       "<Figure size 864x288 with 5 Axes>"
      ]
     },
     "metadata": {
      "needs_background": "light"
     },
     "output_type": "display_data"
    }
   ],
   "source": [
    "# std = 0.01\n",
    "w = np.random.randn(node_num, node_num) * 0.01\n",
    "draw_output(w, ReLU)"
   ]
  },
  {
   "cell_type": "code",
   "execution_count": 14,
   "metadata": {},
   "outputs": [
    {
     "data": {
      "image/png": "[encoded data removed]",
      "text/plain": [
       "<Figure size 864x288 with 5 Axes>"
      ]
     },
     "metadata": {
      "needs_background": "light"
     },
     "output_type": "display_data"
    }
   ],
   "source": [
    "# Xavier initialization\n",
    "w = np.random.randn(node_num, node_num) * np.sqrt(1.0 / node_num)\n",
    "draw_output(w, ReLU)"
   ]
  },
  {
   "cell_type": "code",
   "execution_count": 15,
   "metadata": {},
   "outputs": [
    {
     "data": {
      "image/png": "[encoded data removed]",
      "text/plain": [
       "<Figure size 864x288 with 5 Axes>"
      ]
     },
     "metadata": {
      "needs_background": "light"
     },
     "output_type": "display_data"
    }
   ],
   "source": [
    "# He initialization\n",
    "w = np.random.randn(node_num, node_num) * np.sqrt(2.0 / node_num)\n",
    "draw_output(w, ReLU)"
   ]
  },
  {
   "cell_type": "markdown",
   "metadata": {},
   "source": [
    "观察实验结果可知，当“std = 0.01”时，各层的激活值非常小。神经网络上传递的是非常小的值，说明逆向传播时权重的梯度也同样很小。这是很严重的问题，实际上学习基本上没有进展。\n",
    "\n",
    "Xavier 初始值时的情况下，随着层的加深，偏向一点点变大，学习时会出现梯度消失的问题。而当初始值为 He 初始值时，各层中分布的广度相同。由于即便层加深，数据的广度也能保持不变，因此逆向传播时，也会传递合适的值。\n",
    "\n",
    "总结一下，当激活函数使用 ReLU 时，权重初始值使用 He 初始值，当激活函数为 sigmoid 或 tanh 等 S 型曲线函数时，初始值使用 Xavier 初始值。"
   ]
  },
  {
   "cell_type": "markdown",
   "metadata": {},
   "source": [
    "## 3.5 基于MNIST 数据集的权重初始值的比较\n",
    "\n",
    "这个实验中，神经网络有 5 层，每层有 100 个神经元，激活函数使用的是 ReLU。"
   ]
  },
  {
   "cell_type": "code",
   "execution_count": 16,
   "metadata": {},
   "outputs": [
    {
     "name": "stdout",
     "output_type": "stream",
     "text": [
      "Dataset loading completed\n"
     ]
    },
    {
     "data": {
      "image/png": "[encoded data removed]",
      "text/plain": [
       "<Figure size 432x288 with 1 Axes>"
      ]
     },
     "metadata": {
      "needs_background": "light"
     },
     "output_type": "display_data"
    }
   ],
   "source": [
    "from demo_code.download import load_mnist\n",
    "from demo_code.multi_layer_net import MultiLayerNet\n",
    "from demo_code.util import smooth_curve\n",
    "\n",
    "# 读入MNIST数据\n",
    "(train_images, train_labels), (test_images, test_labels) = load_mnist()\n",
    "train_images = train_images.astype(np.float32) / 255.0      # Normalization\n",
    "test_images = test_images.astype(np.float32) / 255.0      # Normalization\n",
    "\n",
    "train_size = train_images.shape[0]\n",
    "batch_size = 128\n",
    "max_iterations = 1000\n",
    "\n",
    "\n",
    "# 进行实验参数设置\n",
    "weight_init_types = {'std=0.01': 0.01, 'Xavier': 'sigmoid', 'He': 'relu'}\n",
    "optimizer = SGD(lr=0.01)\n",
    "\n",
    "networks = {}\n",
    "train_loss = {}\n",
    "for key, weight_type in weight_init_types.items():\n",
    "    networks[key] = MultiLayerNet(input_size=784, hidden_size_list=[100, 100, 100, 100],\n",
    "                                  output_size=10, weight_init_std=weight_type)\n",
    "    train_loss[key] = []\n",
    "\n",
    "# 开始训练\n",
    "for i in range(max_iterations):\n",
    "    batch_mask = np.random.choice(train_size, batch_size)\n",
    "    x_batch = train_images[batch_mask]\n",
    "    t_batch = train_labels[batch_mask]\n",
    "    \n",
    "    for key in weight_init_types.keys():\n",
    "        grads = networks[key].gradient(x_batch, t_batch)\n",
    "        optimizer.update(networks[key].params, grads)\n",
    "    \n",
    "        loss = networks[key].loss(x_batch, t_batch)\n",
    "        train_loss[key].append(loss)\n",
    "\n",
    "# 绘制图形\n",
    "markers = {'std=0.01': 'o', 'Xavier': 's', 'He': 'D'}\n",
    "x = np.arange(max_iterations)\n",
    "for key in weight_init_types.keys():\n",
    "    plt.plot(x, smooth_curve(train_loss[key]), marker=markers[key], markevery=100, label=key)\n",
    "plt.xlabel(\"iterations\")\n",
    "plt.ylabel(\"loss\")\n",
    "plt.ylim(0, 2.5)\n",
    "plt.legend()\n",
    "plt.show()"
   ]
  },
  {
   "cell_type": "markdown",
   "metadata": {},
   "source": [
    "从结果可知，std = 0.01 时完全无法进行学习。这和刚才观察到的激活值的分布一样，是因为正向传播中传递的值很小（集中在 0 附近的数据）。因此，逆向传播时求到的梯度也很小，权重几乎不进行更新。相反，当权重初始值为Xavier 初始值和 He 初始值时，学习进行得很顺利，并且采用 He 初始值时的学习速度更快一些。"
   ]
  },
  {
   "cell_type": "markdown",
   "metadata": {},
   "source": [
    "综上，在神经网络的学习中，权重初始值非常重要，很多时候权重初始值的设定关系到神经网络的学习能否成功。"
   ]
  },
  {
   "cell_type": "markdown",
   "metadata": {},
   "source": [
    "# 4. [Batch Normalization](https://arxiv.org/abs/1502.03167)\n",
    "\n",
    "Batch Normalization 由 Ioffe 和 Szegedy 于 2015 年提出，算法的思路是调整各层的激活值分布使其拥有适当的广度。算法以进行学习时的 mini-batch 为单位进行正规化，使数据分布的均值为 0、方差为 1。如下所示，\n",
    "\n",
    "$$ \\begin{aligned}\n",
    "\\mu_B &\\leftarrow \\frac{1}{m} \\sum_{i=1}^m{x_i} \\\\\n",
    "\\sigma_B^2 &\\leftarrow \\frac{1}{m} \\sum_{i=1}^m{(x_i-\\mu_B)^2} \\\\\n",
    "\\hat x_i &\\leftarrow \\frac{x_i - \\mu_B}{\\sqrt{\\sigma_B^2 + \\epsilon}} \\\\\n",
    "\\end{aligned}$$\n",
    "\n",
    "针对 mini-batch 的 $m$ 个输入数据的集合 $B = \\{x_1, x_2, . . . , x_m\\}$ 求均值 $\\mu_B$ 和方差 $\\sigma_B^2$。然后，对输入数据进行均值为 0、方差为 1（合适的分布）的正规化。$\\epsilon$ 是一个微小值（例如，10e-7），它是为了防止出现除以 0 的情况。\n",
    "\n",
    "接着，Batch Norm 层会对正规化后的数据进行缩放和平移变换，表示如下：\n",
    "\n",
    "$$ y_i \\leftarrow \\gamma \\hat x_i + \\beta $$\n",
    "\n",
    "其中，$\\gamma$ 和 $\\beta$ 是可学习参数，初始值 $\\gamma=1$， $\\beta=0$"
   ]
  },
  {
   "cell_type": "markdown",
   "metadata": {},
   "source": [
    "下图是权重初始值的标准差为各种不同的值时的学习过程图。几乎所有的情况下都是使用Batch Norm时学习进行得更快。同时也可以发现，实际上，在不使用Batch Norm 的情况下，如果不赋予一个尺度好的初始值，学习将完全无法进行。"
   ]
  },
  {
   "cell_type": "markdown",
   "metadata": {},
   "source": [
    "![img](images/chapter12/batch_norm.png)"
   ]
  },
  {
   "cell_type": "markdown",
   "metadata": {},
   "source": [
    "Batch Normalization 小结（参考[How Does Batch Normalization Help Optimization?](https://arxiv.org/abs/1805.11604)）：\n",
    "\n",
    "- 能使优化问题的解空间更加平滑，可以使学习快速进行（可以增大学习率）\n",
    "- 对于权重初始值选取不用那么敏感\n",
    "- 抑制过拟合（降低Dropout等的必要性）\n",
    "- 防止梯度爆炸和消失\n",
    "\n",
    "* Yuxin Wu, Kaiming He 于2018年提出了 [Group Normalization](https://arxiv.org/abs/1803.08494)，沿 channel 方向分 group 计算均值和方差，不会受到 batch_size 大小的影响。"
   ]
  },
  {
   "cell_type": "markdown",
   "metadata": {},
   "source": [
    "# 5. 正则化\n",
    "\n",
    "机器学习的问题中，过拟合是一个很常见的问题。过拟合指的是只能拟合训练数据，但不能很好地拟合不包含在训练数据中的其他数据的状态。机器学习的目标是提高泛化能力，即便是没有包含在训练数据里的未观测数据，也希望模型可以进行正确的识别。我们可以制作复杂的、表现力强的模型，但是相应地，抑制过拟合的技巧也很重要。"
   ]
  },
  {
   "cell_type": "markdown",
   "metadata": {},
   "source": [
    "## 5.1 过拟合\n",
    "\n",
    "分别使用三个模型拟合下面训练集的样本：一次函数、二次函数和高次多项式。\n",
    "![img](images/chapter12/overfitting.jpg)"
   ]
  },
  {
   "cell_type": "markdown",
   "metadata": {},
   "source": [
    "模型容量和误差之间的典型关系如下图所示。在图的左端，训练误差和泛化误差都非常高，此时发生了**欠拟合机制**(underfitting regime)。当增加模型容量时，训练误差会减小，但是训练误差和泛化误差之间的间距却不断增大。最终这个间距的大小超过了训练误差的下降，我们进入了**过拟合机制**(overfitting regime)。"
   ]
  },
  {
   "cell_type": "markdown",
   "metadata": {},
   "source": [
    "![img](images/chapter12/generalization_and_capacity.jpg)"
   ]
  },
  {
   "cell_type": "markdown",
   "metadata": {},
   "source": [
    "这里，我们在 MNIST 数据集上实验过拟合现象，故意制造训练数据少和大容量模型这两个条件。为此，要从 MNIST 数据集原本的 60000 个训练数据中只选定 200 个，并且，为了增加网络的复杂度，使用 7 层网络（每层有 100 个神经元，激活函数为 ReLU）。"
   ]
  },
  {
   "cell_type": "code",
   "execution_count": 17,
   "metadata": {},
   "outputs": [
    {
     "name": "stdout",
     "output_type": "stream",
     "text": [
      "Dataset loading completed\n"
     ]
    },
    {
     "data": {
      "image/png": "[encoded data removed]",
      "text/plain": [
       "<Figure size 432x288 with 1 Axes>"
      ]
     },
     "metadata": {
      "needs_background": "light"
     },
     "output_type": "display_data"
    }
   ],
   "source": [
    "from demo_code.download import load_mnist\n",
    "from demo_code.multi_layer_net import MultiLayerNet\n",
    "\n",
    "(train_images, train_labels), (test_images, test_labels) = load_mnist()\n",
    "train_images = train_images.astype(np.float32) / 255.0      # Normalization\n",
    "test_images = test_images.astype(np.float32) / 255.0      # Normalization\n",
    "# 为了过拟合，人为减少学习数据\n",
    "train_images = train_images[:200]\n",
    "train_labels = train_labels[:200]\n",
    "\n",
    "network = MultiLayerNet(input_size=784, hidden_size_list=[100, 100, 100, 100, 100, 100], output_size=10)\n",
    "optimizer = SGD(lr=0.01) # 用学习率为0.01的SGD更新参数\n",
    "max_epochs = 100\n",
    "train_size = train_images.shape[0]\n",
    "batch_size = 50\n",
    "train_acc_list = []\n",
    "test_acc_list = []\n",
    "iter_per_epoch = max(train_size / batch_size, 1)\n",
    "\n",
    "for i in range(int(iter_per_epoch) * max_epochs):\n",
    "    batch_mask = np.random.choice(train_size, batch_size)\n",
    "    images_batch = train_images[batch_mask]\n",
    "    labels_batch = train_labels[batch_mask]\n",
    "    \n",
    "    grads = network.gradient(images_batch, labels_batch)\n",
    "    optimizer.update(network.params, grads)\n",
    "    \n",
    "    if i % iter_per_epoch == 0:\n",
    "        train_acc = network.accuracy(train_images, train_labels)\n",
    "        test_acc = network.accuracy(test_images, test_labels)\n",
    "        train_acc_list.append(train_acc)\n",
    "        test_acc_list.append(test_acc)\n",
    "        \n",
    "x = np.arange(max_epochs)\n",
    "plt.plot(x, train_acc_list, label='train accuracy')\n",
    "plt.plot(x, test_acc_list, linestyle=\"--\", label='test accuracy')\n",
    "plt.xlim(0, max_epochs)\n",
    "plt.ylim(0, 1)\n",
    "plt.xlabel(\"epochs\")\n",
    "plt.ylabel(\"accuracy\")\n",
    "plt.legend(loc='lower right')\n",
    "plt.show()"
   ]
  },
  {
   "cell_type": "markdown",
   "metadata": {},
   "source": [
    "在 80 个 epoch 左右后，用训练数据测量到的识别精度几乎都为 100%。但是，对于测试数据，离 100% 的识别精度还有较大的差距。如此大的识别精度差距，是只拟合了训练数据的结果。从图中可知，模型对训练时没有使用的一般数据（测试数据）拟合得不好。"
   ]
  },
  {
   "cell_type": "markdown",
   "metadata": {},
   "source": [
    "## 5.2 L2正则化\n",
    "\n",
    "L2 正则化，也称为权值衰减（Weight Decay）或权重衰减，是一直以来经常被使用的一种抑制过拟合的方法。很多过拟合原本就是因为权重参数取值过大才发生的，该方法通过在学习的过程中对大的权重进行惩罚，来抑制过拟合。\n",
    "\n",
    "为损失函数加上权重的平方范数（L2 范数），就可以抑制权重变大。将权重记为 $W$，L2 范数的权值衰减就是 $\\frac{1}{2}\\lambda W^2$，然后将这个$\\frac{1}{2}\\lambda W^2$ 加到损失函数上。这里，$\\lambda$ 是控制正则化强度的超参数。$\\lambda$ 设置得越大，对大的权重施加的惩罚就越重。\n",
    "\n",
    "$$ J = L(\\hat y, y) + \\frac{1}{2}\\lambda W^2 $$\n",
    "\n",
    "$$ \\frac{\\partial J}{\\partial W} = \\frac{\\partial L}{\\partial W} + \\lambda W $$\n",
    "\n",
    "因此，\n",
    "\n",
    "$$ W \\leftarrow W - \\eta (\\frac{\\partial L}{\\partial W} + \\lambda W) = (1 -\\eta \\lambda)W - \\eta \\frac{\\partial L}{\\partial W}$$\n",
    "\n",
    "可以看到，加入权重衰减后会引起学习规则的修改，即在每步执行通常的梯度更新之前先收缩权重向量（将权重向量乘以一个常数因子）。"
   ]
  },
  {
   "cell_type": "code",
   "execution_count": 18,
   "metadata": {},
   "outputs": [
    {
     "data": {
      "image/png": "[encoded data removed]",
      "text/plain": [
       "<Figure size 432x288 with 1 Axes>"
      ]
     },
     "metadata": {
      "needs_background": "light"
     },
     "output_type": "display_data"
    }
   ],
   "source": [
    "network = MultiLayerNet(input_size=784, hidden_size_list=[100, 100, 100, 100, 100, 100],\n",
    "                        output_size=10, weight_decay_lambda=0.1)\n",
    "train_acc_list = []\n",
    "test_acc_list = []\n",
    "\n",
    "for i in range(int(iter_per_epoch) * max_epochs):\n",
    "    batch_mask = np.random.choice(train_size, batch_size)\n",
    "    images_batch = train_images[batch_mask]\n",
    "    labels_batch = train_labels[batch_mask]\n",
    "    \n",
    "    grads = network.gradient(images_batch, labels_batch)\n",
    "    optimizer.update(network.params, grads)\n",
    "    \n",
    "    if i % iter_per_epoch == 0:\n",
    "        train_acc = network.accuracy(train_images, train_labels)\n",
    "        test_acc = network.accuracy(test_images, test_labels)\n",
    "        train_acc_list.append(train_acc)\n",
    "        test_acc_list.append(test_acc)\n",
    "        \n",
    "plt.plot(x, train_acc_list, label='train accuracy')\n",
    "plt.plot(x, test_acc_list, linestyle=\"--\", label='test accuracy')\n",
    "plt.xlim(0, max_epochs)\n",
    "plt.ylim(0, 1)\n",
    "plt.xlabel(\"epochs\")\n",
    "plt.ylabel(\"accuracy\")\n",
    "plt.legend(loc='lower right')\n",
    "plt.show()"
   ]
  },
  {
   "cell_type": "markdown",
   "metadata": {},
   "source": [
    "虽然训练数据的识别精度和测试数据的识别精度之间有差距，但是与没有使用权值衰减的结果相比，差距变小了。此外，训练数据的识别精度没有达到 100%。这说明过拟合受到了抑制。"
   ]
  },
  {
   "cell_type": "markdown",
   "metadata": {},
   "source": [
    "## 5.3 L1正则化\n",
    "\n",
    "L1 正则化倾向于聚集网络的权重在相对少量的高重要度的连接上，而其它权重会被驱使向 0 接近。\n",
    "\n",
    "$$ J = L(\\hat y, y) + \\lambda |W| $$\n",
    "\n",
    "$$ \\frac{\\partial J}{\\partial W} = \\frac{\\partial L}{\\partial W} + \\lambda \\cdot sign(W) $$\n",
    "\n",
    "其中 $sign$ 是符号函数\n",
    "\n",
    "$$sign(w)=\n",
    "\\begin{cases}\n",
    "1&w > 0 \\\\\n",
    "0&w = 0 \\\\\n",
    "-1&w < 0\n",
    "\\end{cases}$$\n",
    "\n",
    "\n",
    "因此，\n",
    "\n",
    "$$ W \\leftarrow W - \\eta (\\frac{\\partial L}{\\partial W} + \\lambda \\cdot sign(W)) $$\n",
    "\n",
    "所以 L1 正则的作用是使 $w$ 在每一次迭代时都减小（也可能是增大，这取决于sign(w)）一个常数 $\\eta \\lambda$，使其向 0 靠近。"
   ]
  },
  {
   "cell_type": "markdown",
   "metadata": {},
   "source": [
    "## 5.4 [Dropout](http://jmlr.org/papers/v15/srivastava14a.html)\n",
    "\n",
    "Dropout 是一种在学习的过程中随机删除神经元的方法。训练时，随机选出隐藏层的神经元，然后将其删除，被删除的神经元不再进行信号的传递。每传递一次数据，就会随机选择要删除的神经元。测试时，虽然会传递所有的神经元信号，但是对于各个神经元的输出，要乘上训练时的删除比例后再输出。\n",
    "\n",
    "机器学习中经常使用 **集成学习** (ensemble learning)，所谓集成学习是通过几个模型降低泛化误差的技术，其思想是让多个不同的模型单独进行学习，推理时再取多个模型的输出的平均值。用神经网络的语境来说，准备多个结构相同（或者类似）的网络分别进行学习，测试时以这几个网络的输出的平均值作为结果。\n",
    "\n",
    "可以将 Dropout 理解为，通过在学习过程中随机删除神经元，从而每一次都让不同的模型进行学习。并且在推理时，通过对神经元的输出乘以删除比例，可以取得模型的平均值。也就是说，可以理解成，Dropout 将集成学习的效果（模拟地）通过一个网络实现了。\n",
    "\n",
    "![img](images/chapter12/dropout.png)"
   ]
  },
  {
   "cell_type": "code",
   "execution_count": 19,
   "metadata": {},
   "outputs": [],
   "source": [
    "class Dropout:\n",
    "    def __init__(self, dropout_ratio=0.5):\n",
    "        self.dropout_ratio = dropout_ratio\n",
    "        self.mask = None\n",
    "        \n",
    "    def forward(self, x, train_flag=True):\n",
    "        if train_flag:\n",
    "            self.mask = np.random.rand(*x.shape) > self.dropout_ratio\n",
    "            return x * self.mask\n",
    "        else:\n",
    "            return x * (1.0 - self.dropout_ratio)\n",
    "        \n",
    "    def backward(self, dout):\n",
    "        return dout * self.mask"
   ]
  },
  {
   "cell_type": "markdown",
   "metadata": {},
   "source": [
    "Dropout 的实验和前面的实验一样，使用7 层网络（每层有100 个神经元，激活函数为ReLU），实验的结果如下图所示。\n",
    "\n",
    "![img](images/chapter12/dropout_result.jpg)"
   ]
  },
  {
   "cell_type": "markdown",
   "metadata": {},
   "source": [
    "## 5.5 提前终止（Early Stopping）\n",
    "\n",
    "当训练有足够的表示能力甚至会过拟合的大模型时，我们经常观察到，训练误差会随着时间的推移逐渐降低但验证集的误差会再次上升。\n",
    "\n",
    "![img](images/chapter12/early_stopping.png)\n",
    "\n",
    "\n",
    "这意味着我们只要返回使验证集误差最低的参数设置，就可以获得验证集误差更低的模型（并且因此有希望获得更好的测试误差）。在每次验证集误差有所改善后，我们存储模型参数的副本。当训练算法终止时，我们返回这些参数而不是最新的参数。这种策略被称为提前终止（Early Stopping），这可能是深度学习中最简单最常用的正则化形式。\n",
    "\n",
    "相对于权重衰减，必须小心不能使用太多的权重衰减，以防网络陷入不良局部极小点。提前终止几乎不需要改变基本训练过程、目标函数或一组允许的参数值。这意味着，无须破坏学习动态就能很容易地使用提前终止。它需要付出的额外代价是需要保持最佳的参数副本。"
   ]
  },
  {
   "cell_type": "markdown",
   "metadata": {},
   "source": [
    "# 6. 超参数的验证\n",
    "\n",
    "神经网络中，除了权重和偏置等参数，**超参数**（hyper-parameter）也经常出现。这里所说的超参数是指，比如各层的神经元数量、mini-batch 大小、参数更新时的学习率或权值衰减等。参数配置不同，学得模型的性能往往有显著差别。如果这些超参数没有设置合适的值，模型的性能就会很差。虽然超参数的取值非常重要，但是在决定超参数的过程中一般会伴随很多的试错。"
   ]
  },
  {
   "cell_type": "markdown",
   "metadata": {},
   "source": [
    "## 6.1 验证集(validation set)\n",
    "\n",
    "之前我们使用的数据集分成了训练数据和测试数据，训练数据用于学习，测试数据用于评估泛化能力。由此，就可以评估是否只过度拟合了训练数据（是否发生了过拟合），以及泛化能力如何等。\n",
    "\n",
    "下面我们要对超参数设置各种各样的值以进行验证。这里要注意的是，*不能使用测试数据评估超参数的性能*。这一点非常重要，但也容易被忽视。\n",
    "\n",
    "为什么不能用测试数据评估超参数的性能呢？这是因为如果使用测试数据调整超参数，超参数的值会对测试数据发生过拟合。换句话说，用测试数据确认超参数的值的“好坏”，就会导致超参数的值被调整为只拟合测试数据。这样的话，可能就会得到不能拟合其他数据、泛化能力低的模型。\n",
    "\n",
    "因此，调整超参数时，必须使用超参数专用的确认数据。用于调整超参数的数据，一般称为 **验证数据**（validation data）。我们使用这个验证数据来评估超参数的好坏。\n",
    "\n",
    "根据不同的数据集，有的会事先分成训练数据、验证数据、测试数据三部分，有的只分成训练数据和测试数据两部分，有的则不进行分割。在这种情况下，用户需要自行进行分割。如果是 MNIST 数据集，获得验证数据的最简单的方法就是从训练数据中事先分割 20% 作为验证数据。"
   ]
  },
  {
   "cell_type": "code",
   "execution_count": 20,
   "metadata": {},
   "outputs": [],
   "source": [
    "# 分割验证数据\n",
    "validation_rate = 0.20\n",
    "validation_num = int(train_images.shape[0] * validation_rate)\n",
    "\n",
    "val_images = train_images[:validation_num]\n",
    "val_labels = train_labels[:validation_num]\n",
    "train_images = train_images[validation_num:]\n",
    "train_labels = train_labels[validation_num:]"
   ]
  },
  {
   "cell_type": "markdown",
   "metadata": {},
   "source": [
    "## 6.2 交叉验证(cross-validation)\n",
    "\n",
    "交叉验证（cross-validation）是一种评估泛化性能的统计学方法，它比单次划分训练集和验证集的方法更加稳定、全面。在交叉验证中，数据被多次划分，并且需要训练多个模型。\n",
    "\n",
    "最常用的交叉验证是 **k 折交叉验证**（k-fold cross-validation），其中 k 是由用户指定的数字，通常取 5 或 10。\n",
    "\n",
    "![img](images/chapter12/cross_validation.png)\n",
    "\n",
    "在执行 5 折交叉验证时，首先将数据划分为（大致）相等的5 部分，每一部分叫作**折**（fold）。接下来依次挑选其中一折作为验证集，其它折中的数据作为训练集，训练一系列模型。对于将数据划分为训练集和验证集的这 5 次划分，每一次都要计算精度。最后我们得到了5 个精度值。"
   ]
  },
  {
   "cell_type": "markdown",
   "metadata": {},
   "source": [
    "### 交叉验证的优缺点\n",
    "\n",
    "首先，对数据进行随机划分可能导致样本分布不均的情况。但使用交叉验证，每个样例都会刚好在测试集中出现一次：每个样例位于一个折中，而每个折都在测试集中出现一次。因此，模型需要对数据集中所有样本的泛化能力都很好，才能让所有的交叉验证得分（及其平均值）都很高。\n",
    "\n",
    "其次，对数据进行多次划分，还可以提供我们的模型对训练集选择的敏感性信息。它告诉我们将模型应用于新数据时在最坏情况和最好情况下的可能表现。\n",
    "\n",
    "交叉验证的主要缺点是增加了计算成本。现在我们要训练 k 个模型而不是单个模型，所以交叉验证的速度要比数据的单次划分大约慢 k 倍。"
   ]
  },
  {
   "cell_type": "markdown",
   "metadata": {},
   "source": [
    "# 7. 评估指标与评分\n",
    "\n",
    "到目前为止，我们使用精度（正确分类的样本所占的比例）来评估分类性能，但是，总结监督模型在给定数据集上的表现有多种方法。在实践中，这些评估指标可能不适用于你的应用。在选择模型与调参时，选择正确的指标是很重要的。"
   ]
  },
  {
   "cell_type": "markdown",
   "metadata": {},
   "source": [
    "## 7.1 二分类指标\n",
    "\n",
    "二分类可能是实践中最常见的机器学习应用，也是概念最简单的应用。但是，即使是评估这个简单任务也仍有一些注意事项。在深入研究替代指标之前，我们先看一下测量精度可能会如何误导我们。"
   ]
  },
  {
   "cell_type": "markdown",
   "metadata": {},
   "source": [
    "### 7.1.1 错误类型\n",
    "通常来说，精度并不能很好地度量预测性能，因为我们所犯错误的数量并不包含我们感兴趣的所有信息。\n",
    "\n",
    "例如，利用自动化测试来筛查癌症的早期发现。如果测试结果为阴性，那么认为患者是健康的，而如果测试结果为阳性，患者则需要接受额外的筛查。这里我们将阳性测试结果（表示患有癌症）称为正类，将阴性测试结果称为反类。我们不能假设模型永远是完美的，它也会犯错。对于任何应用而言，我们都需要问问自己，这些错误在现实世界中可能有什么后果。\n",
    "\n",
    "- 一种可能的错误是健康的患者被诊断为阳性，导致需要进行额外的测试。这给患者带来了一些费用支出和不便（可能还有精神上的痛苦）。错误的阳性预测叫作**假正例**（false positive）。\n",
    "\n",
    "- 另一种可能的错误是患病的人被诊断为阴性，因而不会接受进一步的检查和治疗。未诊断出的癌症可能导致严重的健康问题，甚至可能致命。这种类型的错误（错误的阴性预测）叫作**假反例**（false negative）。"
   ]
  },
  {
   "cell_type": "markdown",
   "metadata": {},
   "source": [
    "### 7.1.2 不平衡数据集\n",
    "\n",
    "在两个类别中，一个类别比另一个类别出现次数多很多的数据集，通常叫作**不平衡数据集**（imbalanced dataset）或者具有不平衡类别的数据集（dataset with imbalanced classes）。例如，疾病筛查任务和图像分割任务。\n",
    "\n",
    "在实际问题中，不平衡数据才是常态，而数据中感兴趣事件的出现次数相同或相似的情况十分罕见。"
   ]
  },
  {
   "cell_type": "markdown",
   "metadata": {},
   "source": [
    "现在假设你在构建了疾病筛查预测任务中精度达到 99% 的分类器。这告诉了你什么？\n",
    "\n",
    "99% 的精度听起来令人印象深刻，但是它并没有考虑类别不平衡。你不必构建机器学习模型，始终预测“阴性”就可以得到 99% 的精度。另一方面，即使是不平衡数据，精度达到 99% 的模型实际上也是相当不错的。但是，精度无法帮助我们区分始终预测阴性的模型与潜在的优秀模型。\n",
    "\n",
    "因此，对这种不平衡数据的预测性能进行量化，精度并不是一种合适的度量，此时错误类型将发挥重要作用。"
   ]
  },
  {
   "cell_type": "markdown",
   "metadata": {},
   "source": [
    "### 7.1.3 [混淆矩阵(Confusion Matrix)](https://en.wikipedia.org/wiki/Confusion_matrix)\n",
    "\n",
    "对于二分类问题，一种最全面的表示方法是使用 **混淆矩阵**，其中行对应于真实的类别，列对应于预测的类别。\n",
    "\n",
    "可将样例根据其真实类别与模型预测类别的组合划分为真正例(true positive)、假正例(false positive)、真反例(true negative)、假反例(false negative)四种情形。令 $TP$、$FP$、$TN$、$FN$ 分别表示其对应的样例数，则显然有 $TP+FP+TN+FN=$样例总数。分类结果的混淆矩阵如下所示：\n",
    "\n",
    "![img](images/chapter12/confusion_matrix.jpg)"
   ]
  },
  {
   "cell_type": "markdown",
   "metadata": {},
   "source": [
    "**精度**（Accuracy）是正确预测的数量（$TP$ 和 $TN$）除以所有样本的数量（混淆矩阵中所有元素的总和）：\n",
    "\n",
    "$$ {\\rm Accuracy} = \\frac{TP+TN}{TP+TN+FP+FN}$$\n",
    "\n",
    "**准确率**（Precision）度量的是被预测为正例的样本中有多少是真正的正例，也称为查准率：\n",
    "\n",
    "$$ {\\rm Precision} = \\frac{TP}{TP + FP} $$\n",
    "\n",
    "**召回率**（Recall）度量的是正类样本中有多少被预测为正类，也称为灵敏度（Sensitivity）、查全率、真正例率（true positive rate，TPR）：\n",
    "\n",
    "$$ {\\rm Recall} = \\frac{TP}{TP + FN} $$"
   ]
  },
  {
   "cell_type": "markdown",
   "metadata": {},
   "source": [
    "在优化召回率与优化准确率之间需要折中。如果你预测所有样本都属于正类，那么可以轻松得到完美的召回率，但是准确率会很低。与此相反，如果你的模型只将一个最确定的数据点预测为正类，其他点都预测为反类，那么准确率将会很完美，但是召回率会非常差。\n",
    "\n",
    "**准确率-召回率曲线**（Precision-Recall 曲线，简称 P-R 曲线），通过改变模型中用于做出分类决策的阈值，可以直观地显示出学习模型在样本总体上的准确率和召回率。图中的平衡点是“准确率==召回率”时的取值。\n",
    "\n",
    "- 如果模型 A 的 P-R 曲线能完全“包住”学习器 C 的 P-R 曲线，则 A 的性能优于 C\n",
    "\n",
    "- 如果模型 A 的 P-R 曲线与模型 B 的 P-R 曲线相交，则难以判断孰优孰劣，此时通常的作法是，固定查准率，比较查全率，或者固定查全率，比较查准率。\n",
    "\n",
    "![img](images/chapter12/PR_curve.png)"
   ]
  },
  {
   "cell_type": "markdown",
   "metadata": {},
   "source": [
    "将两种度量进行汇总的一种方法是 f-分数（f-score），它是准确率与召回率的调和平均：\n",
    "\n",
    "$$ F = \\frac{2\\times {\\rm Precision}\\times {\\rm Recall}}{{\\rm Precision}+{\\rm Recall}} $$\n",
    "\n",
    "**mAP**（mean Average Precision）：总结 P-R 曲线的一种方法是计算该曲线下的积分或面积，也叫作平均准确率（Average Precision, AP）。所有检测类别数的 AP 均值即为 mAP。"
   ]
  },
  {
   "cell_type": "markdown",
   "metadata": {},
   "source": [
    "**ROC** 与 **AUC**\n",
    "\n",
    "还有一种常用的工具可以分析不同阈值的分类器行为：受试者工作特征曲线（Receiver Operating Characteristics curve），简称为 **ROC 曲线**（ROC curve）。与 P-R 曲线类似，ROC 曲线考虑了给定分类器的所有可能的阈值，但它显示的是假正例率（false positive rate，FPR）和真正例率（true positive rate，TPR）。\n",
    "\n",
    "$$ {\\rm FPR} = \\frac{FP}{FP + TN} $$\n",
    "\n",
    "$$ {\\rm TPR} = \\frac{TP}{TP + FN} $$\n",
    "\n",
    "对于 ROC 曲线，理想的曲线要靠近左上角：你希望分类器的召回率很高，同时保持假正例率很低。对角线对应于“随机猜测”模型，而 (0,1) 点则对应将正例和反例完美分开的“理想模型”。\n",
    "\n",
    "与 P-R 曲线一样，我们通常希望使用一个数字来总结 ROC 曲线，即 ROC 曲线下的面积（通常被称为**AUC**，Area Under the Curve）。随机预测得到的 AUC 总是等于 0.5，无论数据集中的类别多么不平衡。对于不平衡的分类问题来说，AUC 是一个比精度好得多的指标。\n",
    "\n",
    "![img](images/chapter12/ROC_AUC.png)"
   ]
  },
  {
   "cell_type": "markdown",
   "metadata": {},
   "source": [
    "## 7.2 多分类指标\n",
    "\n",
    "多分类问题的所有指标基本上都来自于二分类指标，但是要对所有类别进行平均。一般来说，多分类结果比二分类结果更加难以理解。\n",
    "\n",
    "多分类的精度被定义为正确分类的样本所占的比例。同样，如果类别是不平衡的，精度并不是很好的评估度量。想象一个三分类问题，其中 85% 的数据点属于类别 A，10% 属于类别 B，5% 属于类别 C。在这个数据集上 85% 的精度说明了什么？\n",
    "\n",
    "除了精度之外，常用的工具有混淆矩阵和分类报告。"
   ]
  },
  {
   "cell_type": "code",
   "execution_count": 21,
   "metadata": {},
   "outputs": [
    {
     "data": {
      "image/png": "[encoded data removed]",
      "text/plain": [
       "<Figure size 576x144 with 20 Axes>"
      ]
     },
     "metadata": {},
     "output_type": "display_data"
    }
   ],
   "source": [
    "from sklearn.datasets import load_digits\n",
    "from sklearn.model_selection import train_test_split\n",
    "from sklearn.linear_model import LogisticRegression\n",
    "from sklearn.metrics import accuracy_score, confusion_matrix\n",
    "import matplotlib.pyplot as plt\n",
    "\n",
    "digits = load_digits()\n",
    "\n",
    "fig=plt.figure(figsize=(8,2))\n",
    "fig.subplots_adjust(left=0,right=1,bottom=0,top=1,hspace=0.05,wspace=0.05)\n",
    "for i in range(20):\n",
    "    ax=fig.add_subplot(2,10,i+1,xticks=[],yticks=[])\n",
    "    ax.imshow(digits.images[i],cmap=plt.cm.binary,interpolation='nearest')\n",
    "    ax.text(0,7,str(digits.target[i]))\n",
    "plt.show()"
   ]
  },
  {
   "cell_type": "code",
   "execution_count": 22,
   "metadata": {},
   "outputs": [
    {
     "name": "stdout",
     "output_type": "stream",
     "text": [
      "Accuracy: 0.953\n",
      "Confusion matrix:\n",
      "[[37  0  0  0  0  0  0  0  0  0]\n",
      " [ 0 39  0  0  0  0  2  0  2  0]\n",
      " [ 0  0 41  3  0  0  0  0  0  0]\n",
      " [ 0  0  1 43  0  0  0  0  0  1]\n",
      " [ 0  0  0  0 38  0  0  0  0  0]\n",
      " [ 0  1  0  0  0 47  0  0  0  0]\n",
      " [ 0  0  0  0  0  0 52  0  0  0]\n",
      " [ 0  1  0  1  1  0  0 45  0  0]\n",
      " [ 0  3  1  0  0  0  0  0 43  1]\n",
      " [ 0  0  0  1  0  1  0  0  1 44]]\n"
     ]
    }
   ],
   "source": [
    "X_train, X_test, y_train, y_test = train_test_split(digits.data, digits.target, random_state=0)\n",
    "lr = LogisticRegression(solver='liblinear', multi_class='auto').fit(X_train, y_train)\n",
    "pred = lr.predict(X_test)\n",
    "\n",
    "print(\"Accuracy: {:.3f}\".format(accuracy_score(y_test, pred)))\n",
    "print(\"Confusion matrix:\\n{}\".format(confusion_matrix(y_test, pred)))"
   ]
  },
  {
   "cell_type": "markdown",
   "metadata": {},
   "source": [
    "从上述结果可以看到，模型的精度为 95.3%。混淆矩阵给我们提供了更多细节，每一行对应于真实标签，每一列对应于预测标签。例如从混淆矩阵中可以清楚看到，数字 2 中有 3 个被误识别为数字 3。\n",
    "\n",
    "我们还可以生成分类报告，其中计算了每个类别的准确率、召回率和 f-分数："
   ]
  },
  {
   "cell_type": "code",
   "execution_count": 23,
   "metadata": {},
   "outputs": [
    {
     "name": "stdout",
     "output_type": "stream",
     "text": [
      "              precision    recall  f1-score   support\n",
      "\n",
      "           0       1.00      1.00      1.00        37\n",
      "           1       0.89      0.91      0.90        43\n",
      "           2       0.95      0.93      0.94        44\n",
      "           3       0.90      0.96      0.92        45\n",
      "           4       0.97      1.00      0.99        38\n",
      "           5       0.98      0.98      0.98        48\n",
      "           6       0.96      1.00      0.98        52\n",
      "           7       1.00      0.94      0.97        48\n",
      "           8       0.93      0.90      0.91        48\n",
      "           9       0.96      0.94      0.95        47\n",
      "\n",
      "    accuracy                           0.95       450\n",
      "   macro avg       0.95      0.95      0.95       450\n",
      "weighted avg       0.95      0.95      0.95       450\n",
      "\n"
     ]
    }
   ],
   "source": [
    "from sklearn.metrics import classification_report\n",
    "\n",
    "print(classification_report(y_test, pred))"
   ]
  },
  {
   "cell_type": "markdown",
   "metadata": {},
   "source": [
    "类别 0 的准确率和召回率都是完美的 1，因为这个类别中没有混淆。对于类别 7，准确率为 1，这是因为没有其他类别被误分类为 7；对于类别 6 没有假反例，所以召回率等于 1。"
   ]
  }
 ],
 "metadata": {
  "kernelspec": {
   "display_name": "Python 3 (ipykernel)",
   "language": "python",
   "name": "python3"
  },
  "language_info": {
   "codemirror_mode": {
    "name": "ipython",
    "version": 3
   },
   "file_extension": ".py",
   "mimetype": "text/x-python",
   "name": "python",
   "nbconvert_exporter": "python",
   "pygments_lexer": "ipython3",
   "version": "3.9.7"
  },
  "toc": {
   "base_numbering": 1,
   "nav_menu": {},
   "number_sections": false,
   "sideBar": true,
   "skip_h1_title": false,
   "title_cell": "Table of Contents",
   "title_sidebar": "Contents",
   "toc_cell": false,
   "toc_position": {
    "height": "calc(100% - 180px)",
    "left": "10px",
    "top": "150px",
    "width": "322px"
   },
   "toc_section_display": true,
   "toc_window_display": true
  }
 },
 "nbformat": 4,
 "nbformat_minor": 2
}
